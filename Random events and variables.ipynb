{
 "cells": [
  {
   "cell_type": "code",
   "execution_count": 1,
   "metadata": {},
   "outputs": [],
   "source": [
    "import numpy as np\n",
    "import random\n",
    "import time"
   ]
  },
  {
   "cell_type": "markdown",
   "metadata": {},
   "source": [
    "Проанализируем выигрышные комбинации:\n",
    "\n",
    "777: 200 руб.\\\n",
    "999: 100 руб.\\\n",
    "555: 50 руб.\\\n",
    "333: 15 руб.\\\n",
    "111: 10 руб.\\\n",
    "77: 5 руб.\\\n",
    "7: 3 руб.\\\n",
    "00: 2 руб.\\\n",
    "0: 1 руб."
   ]
  },
  {
   "cell_type": "code",
   "execution_count": 16,
   "metadata": {},
   "outputs": [
    {
     "name": "stdout",
     "output_type": "stream",
     "text": [
      "000 007 010 017 020 027 030 037 040 047 050 057 060 067 070 077 080 087 090 097 100 107 110 111 117 120 127 130 137 140 147 150 157 160 167 170 177 180 187 190 197 200 207 210 217 220 227 230 237 240 247 250 257 260 267 270 277 280 287 290 297 300 307 310 317 320 327 330 333 337 340 347 350 357 360 367 370 377 380 387 390 397 400 407 410 417 420 427 430 437 440 447 450 457 460 467 470 477 480 487 490 497 500 507 510 517 520 527 530 537 540 547 550 555 557 560 567 570 577 580 587 590 597 600 607 610 617 620 627 630 637 640 647 650 657 660 667 670 677 680 687 690 697 700 707 710 717 720 727 730 737 740 747 750 757 760 767 770 777 780 787 790 797 800 807 810 817 820 827 830 837 840 847 850 857 860 867 870 877 880 887 890 897 900 907 910 917 920 927 930 937 940 947 950 957 960 967 970 977 980 987 990 997 999  \n",
      "Количество выигрышных комбинаций 204\n"
     ]
    }
   ],
   "source": [
    "win_combination = 0\n",
    "for x in range(0, 1000):\n",
    "    x = '{:03}'.format(x)\n",
    "    win_numbers = ['999', '777', '555', '333', '111']   \n",
    "    if x in win_numbers or x.endswith('0') or x.endswith('00') or x.endswith('7') or x.endswith('77'):\n",
    "        win_combination += 1\n",
    "        print(x, end = \" \")\n",
    "\n",
    "print(' ') \n",
    "print('Количество выигрышных комбинаций', win_combination)"
   ]
  },
  {
   "cell_type": "markdown",
   "metadata": {},
   "source": [
    "Рассчитаем вероятность выигрыша"
   ]
  },
  {
   "cell_type": "code",
   "execution_count": 21,
   "metadata": {},
   "outputs": [
    {
     "name": "stdout",
     "output_type": "stream",
     "text": [
      "Вероятность выигрыша составляет 0.204\n"
     ]
    }
   ],
   "source": [
    "probability = win_combination/1000\n",
    "\n",
    "\n",
    "print('Вероятность выигрыша составляет', probability)"
   ]
  },
  {
   "cell_type": "markdown",
   "metadata": {},
   "source": [
    "Методом Монте Карло рассчитаем средний выигрыш"
   ]
  },
  {
   "cell_type": "code",
   "execution_count": 28,
   "metadata": {},
   "outputs": [
    {
     "name": "stdout",
     "output_type": "stream",
     "text": [
      "000 007 010 017 020 027 030 037 040 047 050 057 060 067 070 077 080 087 090 097 100 107 110 111 117 120 127 130 137 140 147 150 157 160 167 170 177 180 187 190 197 200 207 210 217 220 227 230 237 240 247 250 257 260 267 270 277 280 287 290 297 300 307 310 317 320 327 330 333 337 340 347 350 357 360 367 370 377 380 387 390 397 400 407 410 417 420 427 430 437 440 447 450 457 460 467 470 477 480 487 490 497 500 507 510 517 520 527 530 537 540 547 550 555 557 560 567 570 577 580 587 590 597 600 607 610 617 620 627 630 637 640 647 650 657 660 667 670 677 680 687 690 697 700 707 710 717 720 727 730 737 740 747 750 757 760 767 770 777 780 787 790 797 800 807 810 817 820 827 830 837 840 847 850 857 860 867 870 877 880 887 890 897 900 907 910 917 920 927 930 937 940 947 950 957 960 967 970 977 980 987 990 997 999 \n",
      "--------------------------------------------------\n",
      "Общая сумма всех выигрышей 800 руб.\n",
      "Кол-во возможных выигрышей по 1 руб. 90\n",
      "Кол-во возможных выигрышей по 2 руб. 10\n",
      "Кол-во возможных выигрышей по 3 руб. 90\n",
      "Кол-во возможных выигрышей по 5 руб. 9\n",
      "Кол-во возможных выигрышей по 10 руб. 1\n",
      "Кол-во возможных выигрышей по 15 руб. 1\n",
      "Кол-во возможных выигрышей по 50 руб. 1\n",
      "Кол-во возможных выигрышей по 100 руб. 1\n",
      "Кол-во возможных выигрышей по 200 руб. 1\n",
      "Количество выигрышных комбинаций 204\n",
      "Средний выигрыш 3.92 руб.\n"
     ]
    }
   ],
   "source": [
    "prize = 0\n",
    "prize_0 = 0\n",
    "prize_00 = 0\n",
    "prize_7 = 0\n",
    "prize_77 = 0\n",
    "prize_111 = 0\n",
    "prize_333 = 0\n",
    "prize_555 = 0\n",
    "prize_777 = 0\n",
    "prize_999 = 0\n",
    "winning_combination = 204\n",
    "\n",
    "for i in range(0, 1000):\n",
    "    i = '{:03}'.format(i)\n",
    "    if i.endswith('00'):\n",
    "        prize_00 += 1\n",
    "        print(i, end = \" \")\n",
    "    elif i.endswith('0'):\n",
    "        prize_0 += 1\n",
    "        print(i, end = \" \")\n",
    "    elif i == '777':\n",
    "        prize_777 = 1\n",
    "        print(i, end = \" \")\n",
    "    elif i.endswith('77'):\n",
    "        prize_77 += 1\n",
    "        print(i, end = \" \")\n",
    "    elif i.endswith('7'):\n",
    "        prize_7 += 1\n",
    "        print(i, end = \" \")\n",
    "    elif i == '111':  \n",
    "        prize_111 += 1\n",
    "        print(i, end = \" \")\n",
    "    elif i == '333':\n",
    "        prize_333 += 1\n",
    "        print(i, end = \" \")\n",
    "    elif i == '555':\n",
    "        prize_555 += 1\n",
    "        print(i, end = \" \")   \n",
    "    elif i == '999':\n",
    "        prize_999 += 1\n",
    "        print(i, end = \" \") \n",
    "    \n",
    "total_win = prize_0*1 + prize_00*2 + prize_7*3 + prize_77*5 + prize_111*10 + prize_333*15 + prize_555*50 + prize_999*100 + prize_777*200\n",
    "\n",
    "print('')\n",
    "print('-'*50)      \n",
    "print('Общая сумма всех выигрышей', total_win, 'руб.')\n",
    "print('Кол-во возможных выигрышей по 1 руб.', prize_0)\n",
    "print('Кол-во возможных выигрышей по 2 руб.', prize_00)\n",
    "print('Кол-во возможных выигрышей по 3 руб.', prize_7)\n",
    "print('Кол-во возможных выигрышей по 5 руб.', prize_77)\n",
    "print('Кол-во возможных выигрышей по 10 руб.', prize_111)\n",
    "print('Кол-во возможных выигрышей по 15 руб.', prize_333)\n",
    "print('Кол-во возможных выигрышей по 50 руб.', prize_555)\n",
    "print('Кол-во возможных выигрышей по 100 руб.', prize_999)\n",
    "print('Кол-во возможных выигрышей по 200 руб.', prize_777)\n",
    "print('Количество выигрышных комбинаций', winning_combination)  \n",
    "print('Средний выигрыш', round(total_win/winning_combination, 2), 'руб.')"
   ]
  },
  {
   "cell_type": "markdown",
   "metadata": {},
   "source": [
    "Таким образом средний выигрыш равен 3,92 рубля. А с учетом вероятности 20% получим:"
   ]
  },
  {
   "cell_type": "code",
   "execution_count": 41,
   "metadata": {},
   "outputs": [
    {
     "name": "stdout",
     "output_type": "stream",
     "text": [
      "0.784\n"
     ]
    }
   ],
   "source": [
    "average_result = 3.92 * 0.2\n",
    "print(average_result)"
   ]
  },
  {
   "cell_type": "markdown",
   "metadata": {},
   "source": [
    "То есть С одного рубля мы теряем 22 копейки.\\\n",
    "ВЫВОД: игра невыгодна"
   ]
  },
  {
   "cell_type": "markdown",
   "metadata": {},
   "source": [
    "Для проверки решения рассчитаем теоретический средний выигрыш\\\n",
    "X=X1P1+X2P2+...+XnPn"
   ]
  },
  {
   "cell_type": "code",
   "execution_count": 43,
   "metadata": {},
   "outputs": [
    {
     "name": "stdout",
     "output_type": "stream",
     "text": [
      "0.8\n"
     ]
    }
   ],
   "source": [
    "teotetic_average_result = 0.001*(200 + 100 + 50 + 15 + 10 + 5*9 + 3*90 + 2*10 + 1*90)\n",
    "print(teotetic_average_result)"
   ]
  },
  {
   "cell_type": "markdown",
   "metadata": {},
   "source": [
    "Таким образом теоретический и рассчетный результаты практически совпадают.\\\n",
    "0.8 vs 0.784"
   ]
  },
  {
   "cell_type": "code",
   "execution_count": null,
   "metadata": {},
   "outputs": [],
   "source": []
  }
 ],
 "metadata": {
  "kernelspec": {
   "display_name": "Python 3",
   "language": "python",
   "name": "python3"
  },
  "language_info": {
   "codemirror_mode": {
    "name": "ipython",
    "version": 3
   },
   "file_extension": ".py",
   "mimetype": "text/x-python",
   "name": "python",
   "nbconvert_exporter": "python",
   "pygments_lexer": "ipython3",
   "version": "3.8.5"
  }
 },
 "nbformat": 4,
 "nbformat_minor": 4
}
