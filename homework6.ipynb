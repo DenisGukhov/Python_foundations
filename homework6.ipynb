{
 "cells": [
  {
   "cell_type": "markdown",
   "metadata": {},
   "source": [
    "Newspapers"
   ]
  },
  {
   "cell_type": "code",
   "execution_count": 2,
   "metadata": {},
   "outputs": [],
   "source": [
    "import datetime\n",
    "from datetime import timedelta\n",
    "from datetime import datetime"
   ]
  },
  {
   "cell_type": "code",
   "execution_count": 5,
   "metadata": {},
   "outputs": [],
   "source": [
    "The_Moscow_Times = \"Wednesday, October 2, 2002\"\n",
    "The_Guardian = \"Friday, 11.10.13\"\n",
    "Daily_News = \"Thursday, 18 August 1977\""
   ]
  },
  {
   "cell_type": "code",
   "execution_count": 27,
   "metadata": {},
   "outputs": [
    {
     "data": {
      "text/plain": [
       "datetime.datetime(1977, 8, 18, 0, 0)"
      ]
     },
     "execution_count": 27,
     "metadata": {},
     "output_type": "execute_result"
    }
   ],
   "source": [
    "The_Moscow_Times_date = datetime.strptime(The_Moscow_Times,'%A, %B %d, %Y' )\n",
    "The_Guardian_date = datetime.strptime( The_Guardian, '%A, %d.%m.%y' )\n",
    "Daily_News_date = datetime.strptime( Daily_News, '%A, %d %B %Y' )\n",
    "\n",
    "#The_Moscow_Times_date\n",
    "#The_Guardian_date\n",
    "Daily_News_date"
   ]
  },
  {
   "cell_type": "code",
   "execution_count": null,
   "metadata": {},
   "outputs": [],
   "source": []
  },
  {
   "cell_type": "code",
   "execution_count": null,
   "metadata": {},
   "outputs": [],
   "source": [
    "Date stream"
   ]
  },
  {
   "cell_type": "code",
   "execution_count": 32,
   "metadata": {},
   "outputs": [
    {
     "name": "stdout",
     "output_type": "stream",
     "text": [
      "True\n",
      "False\n",
      "False\n"
     ]
    }
   ],
   "source": [
    "stream = [\n",
    "    '2018-04-02', \n",
    "    '2018-02-29', \n",
    "    '2018-19-02']\n",
    "def date_check(list):\n",
    "    for date in list:\n",
    "        try:\n",
    "            true_date = datetime.strptime(date, '%Y-%m-%d')\n",
    "            print(True)    \n",
    "        except ValueError:\n",
    "            print(False)\n",
    "date_check(stream)"
   ]
  },
  {
   "cell_type": "markdown",
   "metadata": {},
   "source": [
    "daatime list"
   ]
  },
  {
   "cell_type": "code",
   "execution_count": 44,
   "metadata": {},
   "outputs": [
    {
     "name": "stdout",
     "output_type": "stream",
     "text": [
      "Введите начальную дату в формате YYYY-MM-DD: 2025-11-01\n",
      "Введите конечную дату в формате YYYY-MM-DD: 2025-11-02\n"
     ]
    },
    {
     "data": {
      "text/plain": [
       "['2025-11-02', '2025-11-03']"
      ]
     },
     "execution_count": 44,
     "metadata": {},
     "output_type": "execute_result"
    }
   ],
   "source": [
    "first_day = input('Введите начальную дату в формате YYYY-MM-DD: ')\n",
    "last_day = input('Введите конечную дату в формате YYYY-MM-DD: ')\n",
    "def date_range(first, last):\n",
    "    start_date = datetime.strptime(first,'%Y-%m-%d')\n",
    "    end_date = datetime.strptime(last,'%Y-%m-%d')\n",
    "    days = []\n",
    "    gap = start_date\n",
    "    while gap <= end_date:\n",
    "        gap = gap + timedelta(days=1)\n",
    "        add_gap = datetime.strftime(gap,'%Y-%m-%d')\n",
    "        days.append(add_gap)\n",
    "       \n",
    "    return(days)\n",
    "date_range(first_day, last_day)"
   ]
  },
  {
   "cell_type": "code",
   "execution_count": null,
   "metadata": {},
   "outputs": [],
   "source": []
  }
 ],
 "metadata": {
  "kernelspec": {
   "display_name": "Python 3",
   "language": "python",
   "name": "python3"
  },
  "language_info": {
   "codemirror_mode": {
    "name": "ipython",
    "version": 3
   },
   "file_extension": ".py",
   "mimetype": "text/x-python",
   "name": "python",
   "nbconvert_exporter": "python",
   "pygments_lexer": "ipython3",
   "version": "3.8.5"
  }
 },
 "nbformat": 4,
 "nbformat_minor": 4
}
