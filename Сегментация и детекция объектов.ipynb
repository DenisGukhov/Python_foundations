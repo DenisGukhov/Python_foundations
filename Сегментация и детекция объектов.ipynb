{
 "cells": [
  {
   "cell_type": "code",
   "execution_count": 1,
   "id": "a4e00122",
   "metadata": {},
   "outputs": [
    {
     "name": "stdout",
     "output_type": "stream",
     "text": [
      "Collecting opencv-python\n",
      "  Downloading opencv_python-4.6.0.66-cp36-abi3-win_amd64.whl (35.6 MB)\n",
      "Requirement already satisfied: numpy>=1.17.3 in c:\\ds\\anaconda\\lib\\site-packages (from opencv-python) (1.21.5)\n",
      "Installing collected packages: opencv-python\n",
      "Successfully installed opencv-python-4.6.0.66\n"
     ]
    }
   ],
   "source": [
    "!pip install opencv-python"
   ]
  },
  {
   "cell_type": "code",
   "execution_count": 38,
   "id": "3c13c003",
   "metadata": {},
   "outputs": [],
   "source": [
    "%matplotlib inline\n",
    "import cv2\n",
    "import numpy as np\n",
    "import pandas as pd\n",
    "import matplotlib.pyplot as plt\n",
    "from sklearn import svm\n",
    "import sklearn.metrics\n",
    "from sklearn.linear_model import LogisticRegression \n",
    "from sklearn.tree import DecisionTreeClassifier\n",
    "from sklearn.discriminant_analysis import LinearDiscriminantAnalysis\n",
    "import warnings\n",
    "warnings.filterwarnings('ignore')\n",
    "from sklearn.model_selection import train_test_split\n",
    "from sklearn.decomposition import PCA\n",
    "from sklearn.ensemble import RandomForestClassifier\n",
    "from sklearn.neighbors import KNeighborsClassifier\n",
    "from sklearn import svm"
   ]
  },
  {
   "cell_type": "code",
   "execution_count": 39,
   "id": "32e7fa79",
   "metadata": {},
   "outputs": [],
   "source": [
    "train = pd.read_csv('C:/DS/Netology/CV/train.csv')\n",
    "test = pd.read_csv('C:/DS/Netology/CV/test.csv')"
   ]
  },
  {
   "cell_type": "code",
   "execution_count": 6,
   "id": "7098a550",
   "metadata": {},
   "outputs": [],
   "source": [
    "# сохраняем разметку в отдельную переменную\n",
    "train_label = train[:, 0]\n",
    "# приводим размерность к удобному для обаботки виду\n",
    "train_img = np.resize(train[:, 1:], (train.shape[0], 28, 28))\n",
    "test_img = np.resize(test, (test.shape[0], 28, 28))"
   ]
  },
  {
   "cell_type": "code",
   "execution_count": 7,
   "id": "e59454e2",
   "metadata": {},
   "outputs": [
    {
     "data": {
      "text/plain": [
       "(42000, 28, 28)"
      ]
     },
     "execution_count": 7,
     "metadata": {},
     "output_type": "execute_result"
    }
   ],
   "source": [
    "train_img.shape"
   ]
  },
  {
   "cell_type": "markdown",
   "id": "656eb067",
   "metadata": {},
   "source": [
    "Визуализируем исходные данные"
   ]
  },
  {
   "cell_type": "code",
   "execution_count": 8,
   "id": "2981a8a8",
   "metadata": {},
   "outputs": [
    {
     "data": {
      "image/png": "[encoded data removed]",
      "text/plain": [
       "<Figure size 1440x720 with 5 Axes>"
      ]
     },
     "metadata": {
      "needs_background": "light"
     },
     "output_type": "display_data"
    }
   ],
   "source": [
    "fig = plt.figure(figsize=(20, 10))\n",
    "for i, img in enumerate(train_img[0:5], 1):\n",
    "    subplot = fig.add_subplot(1, 7, i)\n",
    "    plt.imshow(img, cmap='gray');\n",
    "    subplot.set_title('%s' % train_label[i - 1]);"
   ]
  },
  {
   "cell_type": "code",
   "execution_count": 40,
   "id": "fe56daa8",
   "metadata": {},
   "outputs": [],
   "source": [
    "X = train.drop(labels=['label'], axis=1)\n",
    "y = train['label']"
   ]
  },
  {
   "cell_type": "code",
   "execution_count": 42,
   "id": "3ada4242",
   "metadata": {},
   "outputs": [],
   "source": [
    "# Создаю словарь для хранения характеристик моделей\n",
    "val_acc_score = dict()\n",
    "# Разделяю размеченный датасет на данные для обучения и валидации\n",
    "X_train, X_val, y_train, y_val = train_test_split(X, y, test_size = 0.2, random_state = 42)"
   ]
  },
  {
   "cell_type": "markdown",
   "id": "d0e07881",
   "metadata": {},
   "source": [
    "Понижение размерности методом главных компонент"
   ]
  },
  {
   "cell_type": "code",
   "execution_count": null,
   "id": "20e50809",
   "metadata": {},
   "outputs": [],
   "source": [
    "# Создаю экземпляр класса PCA, сокращаю количество признаков с 784 до 100\n",
    "pca = PCA(n_components=100)\n",
    "\n",
    "# Обучаю на данных для обучения\n",
    "pca.fit(X_train)\n",
    "\n",
    "# Преобразую признаки данных для обучения путем понижения их размерности\n",
    "pca_train = pca.transform(X_train)\n",
    "\n",
    "# Преобразую признаки данных для валидации\n",
    "pca_X_val_train = pca.transform(X_val)"
   ]
  },
  {
   "cell_type": "markdown",
   "id": "8be95fda",
   "metadata": {},
   "source": [
    "KNN"
   ]
  },
  {
   "cell_type": "code",
   "execution_count": 45,
   "id": "ecc59917",
   "metadata": {},
   "outputs": [],
   "source": [
    "knn = KNeighborsClassifier()\n",
    "knn_model = knn.fit(pca_train, y_train)"
   ]
  },
  {
   "cell_type": "code",
   "execution_count": 67,
   "id": "9ee33fb7",
   "metadata": {},
   "outputs": [],
   "source": [
    "y_pred_train_knn = knn_model.predict(pca_train)"
   ]
  },
  {
   "cell_type": "code",
   "execution_count": 68,
   "id": "3b2e37a2",
   "metadata": {},
   "outputs": [
    {
     "data": {
      "text/plain": [
       "0.9801488095238096"
      ]
     },
     "execution_count": 68,
     "metadata": {},
     "output_type": "execute_result"
    }
   ],
   "source": [
    "acc_train_knn = sklearn.metrics.accuracy_score(y_train, y_pred_train_knn)\n",
    "acc_train_knn"
   ]
  },
  {
   "cell_type": "code",
   "execution_count": 69,
   "id": "4331cf4b",
   "metadata": {},
   "outputs": [],
   "source": [
    "y_pred_val_knn = knn_model.predict(pca_X_val_train)"
   ]
  },
  {
   "cell_type": "code",
   "execution_count": 70,
   "id": "d4a3ae0b",
   "metadata": {},
   "outputs": [
    {
     "data": {
      "text/plain": [
       "0.9694047619047619"
      ]
     },
     "execution_count": 70,
     "metadata": {},
     "output_type": "execute_result"
    }
   ],
   "source": [
    "acc_val_knn = sklearn.metrics.accuracy_score(y_val, y_pred_val_knn)\n",
    "acc_val_knn"
   ]
  },
  {
   "cell_type": "markdown",
   "id": "2770fe76",
   "metadata": {},
   "source": [
    "Random forest"
   ]
  },
  {
   "cell_type": "code",
   "execution_count": 61,
   "id": "aee97e42",
   "metadata": {},
   "outputs": [],
   "source": [
    "rf = RandomForestClassifier(n_estimators = 100, random_state=1)\n",
    "rf_model = rf.fit(pca_train, y_train)"
   ]
  },
  {
   "cell_type": "code",
   "execution_count": 62,
   "id": "8c9c401c",
   "metadata": {},
   "outputs": [],
   "source": [
    "y_pred_rf = rf_model.predict(pca_train)"
   ]
  },
  {
   "cell_type": "code",
   "execution_count": 66,
   "id": "b343799a",
   "metadata": {},
   "outputs": [
    {
     "data": {
      "text/plain": [
       "1.0"
      ]
     },
     "execution_count": 66,
     "metadata": {},
     "output_type": "execute_result"
    }
   ],
   "source": [
    "acc_train_rf = sklearn.metrics.accuracy_score(y_train, y_pred_rf)\n",
    "acc_train_rf"
   ]
  },
  {
   "cell_type": "code",
   "execution_count": 72,
   "id": "b052c377",
   "metadata": {},
   "outputs": [],
   "source": [
    "y_pred_val_rf = rf_model.predict(pca_X_val_train)"
   ]
  },
  {
   "cell_type": "code",
   "execution_count": 73,
   "id": "a833cd8a",
   "metadata": {},
   "outputs": [
    {
     "data": {
      "text/plain": [
       "0.9411904761904762"
      ]
     },
     "execution_count": 73,
     "metadata": {},
     "output_type": "execute_result"
    }
   ],
   "source": [
    "acc_val_rf = sklearn.metrics.accuracy_score(y_val, y_pred_val_rf)\n",
    "acc_val_rf"
   ]
  },
  {
   "cell_type": "markdown",
   "id": "c64c08bc",
   "metadata": {},
   "source": [
    "SVM"
   ]
  },
  {
   "cell_type": "code",
   "execution_count": 74,
   "id": "197d7a1d",
   "metadata": {},
   "outputs": [],
   "source": [
    "svm = svm.SVC(kernel='poly')\n",
    "svm_model = svm.fit(pca_train, y_train)"
   ]
  },
  {
   "cell_type": "code",
   "execution_count": 76,
   "id": "cea67522",
   "metadata": {},
   "outputs": [
    {
     "data": {
      "text/plain": [
       "0.9947619047619047"
      ]
     },
     "execution_count": 76,
     "metadata": {},
     "output_type": "execute_result"
    }
   ],
   "source": [
    "y_pred_svm = svm_model.predict(pca_train)\n",
    "acc_train_svm = sklearn.metrics.accuracy_score(y_train, y_pred_svm)\n",
    "acc_train_svm"
   ]
  },
  {
   "cell_type": "code",
   "execution_count": 85,
   "id": "f2541448",
   "metadata": {},
   "outputs": [
    {
     "data": {
      "text/plain": [
       "0.9804761904761905"
      ]
     },
     "execution_count": 85,
     "metadata": {},
     "output_type": "execute_result"
    }
   ],
   "source": [
    "y_pred_val_svm = svm_model.predict(pca_X_val_train)\n",
    "acc_val_svm = sklearn.metrics.accuracy_score(y_val, y_pred_val_svm)\n",
    "acc_val_svm"
   ]
  },
  {
   "cell_type": "markdown",
   "id": "d689759e",
   "metadata": {},
   "source": [
    "Logistic regression"
   ]
  },
  {
   "cell_type": "code",
   "execution_count": 80,
   "id": "6b2f266e",
   "metadata": {},
   "outputs": [
    {
     "data": {
      "text/plain": [
       "LogisticRegression()"
      ]
     },
     "execution_count": 80,
     "metadata": {},
     "output_type": "execute_result"
    }
   ],
   "source": [
    "lr_model = LogisticRegression()\n",
    "lr_model.fit(pca_train, y_train)"
   ]
  },
  {
   "cell_type": "code",
   "execution_count": 81,
   "id": "d8c5c247",
   "metadata": {},
   "outputs": [
    {
     "data": {
      "text/plain": [
       "0.919345238095238"
      ]
     },
     "execution_count": 81,
     "metadata": {},
     "output_type": "execute_result"
    }
   ],
   "source": [
    "y_pred_lr = lr_model.predict(pca_train)\n",
    "acc_train_lr = sklearn.metrics.accuracy_score(y_train, y_pred_lr)\n",
    "acc_train_lr"
   ]
  },
  {
   "cell_type": "code",
   "execution_count": 83,
   "id": "017e20fb",
   "metadata": {},
   "outputs": [
    {
     "data": {
      "text/plain": [
       "0.9104761904761904"
      ]
     },
     "execution_count": 83,
     "metadata": {},
     "output_type": "execute_result"
    }
   ],
   "source": [
    "y_pred_val_lr = lr_model.predict(pca_X_val_train)\n",
    "acc_val_lr = sklearn.metrics.accuracy_score(y_val, y_pred_val_lr)\n",
    "acc_val_lr"
   ]
  },
  {
   "cell_type": "code",
   "execution_count": 87,
   "id": "c9642ca8",
   "metadata": {},
   "outputs": [
    {
     "data": {
      "text/html": [
       "<div>\n",
       "<style scoped>\n",
       "    .dataframe tbody tr th:only-of-type {\n",
       "        vertical-align: middle;\n",
       "    }\n",
       "\n",
       "    .dataframe tbody tr th {\n",
       "        vertical-align: top;\n",
       "    }\n",
       "\n",
       "    .dataframe thead th {\n",
       "        text-align: right;\n",
       "    }\n",
       "</style>\n",
       "<table border=\"1\" class=\"dataframe\">\n",
       "  <thead>\n",
       "    <tr style=\"text-align: right;\">\n",
       "      <th></th>\n",
       "      <th>model#</th>\n",
       "      <th>acc</th>\n",
       "    </tr>\n",
       "  </thead>\n",
       "  <tbody>\n",
       "    <tr>\n",
       "      <th>0</th>\n",
       "      <td>KNN</td>\n",
       "      <td>0.969405</td>\n",
       "    </tr>\n",
       "    <tr>\n",
       "      <th>1</th>\n",
       "      <td>Random forest</td>\n",
       "      <td>0.941190</td>\n",
       "    </tr>\n",
       "    <tr>\n",
       "      <th>2</th>\n",
       "      <td>SVM</td>\n",
       "      <td>0.980476</td>\n",
       "    </tr>\n",
       "    <tr>\n",
       "      <th>3</th>\n",
       "      <td>Logistic regression</td>\n",
       "      <td>0.910476</td>\n",
       "    </tr>\n",
       "  </tbody>\n",
       "</table>\n",
       "</div>"
      ],
      "text/plain": [
       "                model#       acc\n",
       "0                  KNN  0.969405\n",
       "1        Random forest  0.941190\n",
       "2                  SVM  0.980476\n",
       "3  Logistic regression  0.910476"
      ]
     },
     "execution_count": 87,
     "metadata": {},
     "output_type": "execute_result"
    }
   ],
   "source": [
    "m = ['KNN', 'Random forest', 'SVM', 'Logistic regression']\n",
    "\n",
    "acc = [acc_val_knn, acc_val_rf, acc_val_svm, acc_val_lr] \n",
    "\n",
    "data = pd.DataFrame({'model#': m, \n",
    "                     'acc': acc\n",
    "                    \n",
    "                    }                                      \n",
    "                   )\n",
    "data"
   ]
  },
  {
   "cell_type": "markdown",
   "id": "b33ff7f1",
   "metadata": {},
   "source": [
    "Загрузка результатов на Kaggle"
   ]
  },
  {
   "cell_type": "code",
   "execution_count": 88,
   "id": "cab64966",
   "metadata": {},
   "outputs": [],
   "source": [
    "y_pred_competition = svm_model.predict(pca_X_val_train)"
   ]
  },
  {
   "cell_type": "code",
   "execution_count": 89,
   "id": "44652660",
   "metadata": {},
   "outputs": [],
   "source": [
    "with open('submit.txt', 'w') as dst:\n",
    "    dst.write('ImageId,Label\\n')\n",
    "    for i, p in enumerate(y_pred_competition, 1):\n",
    "        dst.write('%s,%s\\n' % (i, int(p)))"
   ]
  },
  {
   "cell_type": "code",
   "execution_count": 90,
   "id": "ce24361a",
   "metadata": {},
   "outputs": [
    {
     "name": "stderr",
     "output_type": "stream",
     "text": [
      "\"head\" ­Ґ пў«пҐвбп ў­гваҐ­­Ґ© Ё«Ё ў­Ґи­Ґ©\n",
      "Є®¬ ­¤®©, ЁбЇ®«­пҐ¬®© Їа®Ја ¬¬®© Ё«Ё Ї ЄҐв­л¬ д ©«®¬.\n"
     ]
    }
   ],
   "source": [
    "!head submit.txt"
   ]
  },
  {
   "cell_type": "code",
   "execution_count": null,
   "id": "d487f3ca",
   "metadata": {},
   "outputs": [],
   "source": []
  },
  {
   "cell_type": "code",
   "execution_count": null,
   "id": "8ce428eb",
   "metadata": {},
   "outputs": [],
   "source": []
  },
  {
   "cell_type": "code",
   "execution_count": null,
   "id": "b169f067",
   "metadata": {},
   "outputs": [],
   "source": []
  },
  {
   "cell_type": "code",
   "execution_count": null,
   "id": "a9782299",
   "metadata": {},
   "outputs": [],
   "source": []
  },
  {
   "cell_type": "code",
   "execution_count": null,
   "id": "5b76938b",
   "metadata": {},
   "outputs": [],
   "source": []
  },
  {
   "cell_type": "code",
   "execution_count": null,
   "id": "a217bece",
   "metadata": {},
   "outputs": [],
   "source": []
  },
  {
   "cell_type": "code",
   "execution_count": null,
   "id": "65e9101b",
   "metadata": {},
   "outputs": [],
   "source": []
  },
  {
   "cell_type": "code",
   "execution_count": null,
   "id": "d376daff",
   "metadata": {},
   "outputs": [],
   "source": []
  }
 ],
 "metadata": {
  "kernelspec": {
   "display_name": "Python 3 (ipykernel)",
   "language": "python",
   "name": "python3"
  },
  "language_info": {
   "codemirror_mode": {
    "name": "ipython",
    "version": 3
   },
   "file_extension": ".py",
   "mimetype": "text/x-python",
   "name": "python",
   "nbconvert_exporter": "python",
   "pygments_lexer": "ipython3",
   "version": "3.9.12"
  }
 },
 "nbformat": 4,
 "nbformat_minor": 5
}
