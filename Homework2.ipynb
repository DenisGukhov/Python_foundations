{
 "cells": [
  {
   "cell_type": "markdown",
   "metadata": {},
   "source": [
    "Middle latters"
   ]
  },
  {
   "cell_type": "code",
   "execution_count": 54,
   "metadata": {},
   "outputs": [
    {
     "name": "stdout",
     "output_type": "stream",
     "text": [
      "Введите слово qwertyu\n",
      "r\n"
     ]
    }
   ],
   "source": [
    "word = input(\"Введите слово \")\n",
    "\n",
    "if len(word) % 2 == 0 :\n",
    "   print( word[(len(word) // 2) - 1:(len(word) // 2) + 1])\n",
    "else:\n",
    "    print( word[len(word) // 2 ])"
   ]
  },
  {
   "cell_type": "markdown",
   "metadata": {},
   "source": [
    "Digit sum"
   ]
  },
  {
   "cell_type": "code",
   "execution_count": 51,
   "metadata": {},
   "outputs": [
    {
     "name": "stdout",
     "output_type": "stream",
     "text": [
      "Введите цифру 7\n",
      "Введите цифру 4\n",
      "Введите цифру 63\n",
      "Введите цифру 15\n",
      "Введите цифру 0\n",
      "сумма:  89\n"
     ]
    }
   ],
   "source": [
    "sum_digit = 0\n",
    "while True:\n",
    "    digit = int( input(\"Введите цифру \"))\n",
    " \n",
    "    if digit == 0:\n",
    "        break\n",
    "    else:\n",
    "        sum_digit += digit\n",
    "     \n",
    "print('сумма: ', sum_digit)\n",
    "\n"
   ]
  },
  {
   "cell_type": "markdown",
   "metadata": {},
   "source": [
    "Dating service"
   ]
  },
  {
   "cell_type": "code",
   "execution_count": 61,
   "metadata": {},
   "outputs": [
    {
     "name": "stdout",
     "output_type": "stream",
     "text": [
      "[('Alex', 'Emma'), ('Arthur', 'Kate'), ('John', 'Kira'), ('Peter', 'Liza'), ('Richard', 'Trisha')]\n"
     ]
    }
   ],
   "source": [
    "boys = ['Peter', 'Alex', 'John', 'Arthur', 'Richard']\n",
    "girls = ['Kate', 'Liza', 'Kira', 'Emma', 'Trisha']\n",
    "boys.sort()\n",
    "girls.sort()\n",
    "couple = zip( boys, girls)\n",
    "boys_amount = len(boys)\n",
    "girls_amount = len(girls)\n",
    "if boys_amount != girls_amount :\n",
    "    print ('Внимание, кто-то может остаться без пары!')\n",
    "else:\n",
    "    print ( list( couple ))\n",
    "    \n"
   ]
  },
  {
   "cell_type": "markdown",
   "metadata": {},
   "source": [
    "Аverage temperature"
   ]
  },
  {
   "cell_type": "code",
   "execution_count": 89,
   "metadata": {},
   "outputs": [
    {
     "name": "stdout",
     "output_type": "stream",
     "text": [
      "23.857142857142854\n"
     ]
    }
   ],
   "source": [
    "countries_temperature \n",
    "Thailand = [75.2, 77, 78.8, 73.4, 68, 75.2, 77]\n",
    "\n",
    "print ((sum (Thailand) / len (Thailand) - 32) / 1.8 )"
   ]
  },
  {
   "cell_type": "code",
   "execution_count": null,
   "metadata": {},
   "outputs": [],
   "source": []
  }
 ],
 "metadata": {
  "kernelspec": {
   "display_name": "Python 3",
   "language": "python",
   "name": "python3"
  },
  "language_info": {
   "codemirror_mode": {
    "name": "ipython",
    "version": 3
   },
   "file_extension": ".py",
   "mimetype": "text/x-python",
   "name": "python",
   "nbconvert_exporter": "python",
   "pygments_lexer": "ipython3",
   "version": "3.8.5"
  }
 },
 "nbformat": 4,
 "nbformat_minor": 4
}
