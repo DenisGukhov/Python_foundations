{
 "cells": [
  {
   "cell_type": "markdown",
   "metadata": {},
   "source": [
    "Middle latters"
   ]
  },
  {
   "cell_type": "code",
   "execution_count": 1,
   "metadata": {},
   "outputs": [
    {
     "name": "stdout",
     "output_type": "stream",
     "text": [
      "Введите слово 123456\n",
      "34\n"
     ]
    }
   ],
   "source": [
    "word = input(\"Введите слово \")\n",
    "\n",
    "if len(word) % 2 == 0 :\n",
    "   print( word[(len(word) // 2) - 1:(len(word) // 2) + 1])\n",
    "else:\n",
    "    print( word[len(word) // 2 ])"
   ]
  },
  {
   "cell_type": "markdown",
   "metadata": {},
   "source": [
    "Digit sum"
   ]
  },
  {
   "cell_type": "code",
   "execution_count": 25,
   "metadata": {},
   "outputs": [
    {
     "name": "stdout",
     "output_type": "stream",
     "text": [
      "Введите цифру 3\n",
      "Введите цифру 5\n",
      "Введите цифру 9\n",
      "Введите цифру 99\n",
      "Введите цифру 0\n",
      "сумма:  116\n"
     ]
    }
   ],
   "source": [
    "sum_digit = 0\n",
    "while True:\n",
    "    digit = int( input(\"Введите цифру \"))\n",
    " \n",
    "    if digit == 0:\n",
    "        break\n",
    "    else:\n",
    "        sum_digit += digit\n",
    "     \n",
    "print('сумма: ', sum_digit)\n",
    "\n"
   ]
  },
  {
   "cell_type": "markdown",
   "metadata": {},
   "source": [
    "Dating service"
   ]
  },
  {
   "cell_type": "code",
   "execution_count": 47,
   "metadata": {},
   "outputs": [
    {
     "name": "stdout",
     "output_type": "stream",
     "text": [
      "[('Alex', 'Emma'), ('Arthur', 'Kate'), ('John', 'Kira'), ('Peter', 'Liza'), ('Richard', 'Trisha')]\n"
     ]
    }
   ],
   "source": [
    "boys = ['Peter', 'Alex', 'John', 'Arthur', 'Richard']\n",
    "girls = ['Kate', 'Liza', 'Kira', 'Emma', 'Trisha']\n",
    "boys.sort()\n",
    "girls.sort()\n",
    "couple = zip( boys, girls)\n",
    "boys_amount = len(boys)\n",
    "girls_amount = len(girls)\n",
    "if boys_amount != girls_amount :\n",
    "    print ('Внимание, кто-то может остаться без пары!')\n",
    "else:\n",
    "    print( list( couple ))"
   ]
  },
  {
   "cell_type": "code",
   "execution_count": null,
   "metadata": {},
   "outputs": [],
   "source": []
  }
 ],
 "metadata": {
  "kernelspec": {
   "display_name": "Python 3",
   "language": "python",
   "name": "python3"
  },
  "language_info": {
   "codemirror_mode": {
    "name": "ipython",
    "version": 3
   },
   "file_extension": ".py",
   "mimetype": "text/x-python",
   "name": "python",
   "nbconvert_exporter": "python",
   "pygments_lexer": "ipython3",
   "version": "3.8.5"
  }
 },
 "nbformat": 4,
 "nbformat_minor": 4
}
