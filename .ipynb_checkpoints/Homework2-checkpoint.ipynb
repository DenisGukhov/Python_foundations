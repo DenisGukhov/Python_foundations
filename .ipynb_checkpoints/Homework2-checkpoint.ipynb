{
 "cells": [
  {
   "cell_type": "markdown",
   "metadata": {},
   "source": [
    "Middle latters"
   ]
  },
  {
   "cell_type": "code",
   "execution_count": 54,
   "metadata": {},
   "outputs": [
    {
     "name": "stdout",
     "output_type": "stream",
     "text": [
      "Введите слово qwertyu\n",
      "r\n"
     ]
    }
   ],
   "source": [
    "word = input(\"Введите слово \")\n",
    "\n",
    "if len(word) % 2 == 0 :\n",
    "   print( word[(len(word) // 2) - 1:(len(word) // 2) + 1])\n",
    "else:\n",
    "    print( word[len(word) // 2 ])"
   ]
  },
  {
   "cell_type": "markdown",
   "metadata": {},
   "source": [
    "Digit sum"
   ]
  },
  {
   "cell_type": "code",
   "execution_count": 10,
   "metadata": {},
   "outputs": [
    {
     "name": "stdout",
     "output_type": "stream",
     "text": [
      "Введите число 99\n",
      "Введите число 5\n",
      "Введите число 15\n",
      "Введите число 33\n",
      "Введите число 0\n",
      "сумма:  152\n"
     ]
    }
   ],
   "source": [
    "sum_digit = 0\n",
    "while True:\n",
    "    digit = int( input(\"Введите число \"))\n",
    " \n",
    "    if digit == 0:\n",
    "        break\n",
    "    else:\n",
    "        sum_digit += digit\n",
    "     \n",
    "print('сумма: ', sum_digit)\n",
    "\n"
   ]
  },
  {
   "cell_type": "markdown",
   "metadata": {},
   "source": [
    "Dating service"
   ]
  },
  {
   "cell_type": "code",
   "execution_count": 9,
   "metadata": {},
   "outputs": [
    {
     "name": "stdout",
     "output_type": "stream",
     "text": [
      "Alex  и  Emma\n",
      "Arthur  и  Kate\n",
      "John  и  Kira\n",
      "Peter  и  Liza\n",
      "Richard  и  Trisha\n"
     ]
    }
   ],
   "source": [
    "boys = ['Peter', 'Alex', 'John', 'Arthur', 'Richard']\n",
    "girls = ['Kate', 'Liza', 'Emma', 'Trisha','Kira' ]\n",
    "\n",
    "boys.sort()\n",
    "girls.sort()\n",
    "\n",
    "boys_amount = len(boys)\n",
    "girls_amount = len(girls)\n",
    "\n",
    "if boys_amount != girls_amount :\n",
    "    print ('Внимание, кто-то может остаться без пары!')\n",
    "    \n",
    "else:\n",
    "    for couples in best_couple:\n",
    "        couple = zip( boys, girls )\n",
    "        best_couple = list( couple )\n",
    "        print( couples[0] , ' и ', couples[1] )\n",
    "       \n"
   ]
  },
  {
   "cell_type": "markdown",
   "metadata": {},
   "source": [
    "Аverage temperature"
   ]
  },
  {
   "cell_type": "code",
   "execution_count": 8,
   "metadata": {},
   "outputs": [
    {
     "name": "stdout",
     "output_type": "stream",
     "text": [
      "Thailand - 23.857142857142854 C\n",
      "Germany - 13.799999999999997 C\n",
      "Russia - 3.7142857142857166 C\n",
      "Poland - 11.999999999999996 C\n"
     ]
    }
   ],
   "source": [
    "countries_temperature = [\n",
    "    ['Thailand', [75.2, 77, 78.8, 73.4, 68, 75.2, 77]],\n",
    "    ['Germany', [57.2, 55.4, 59, 59, 53.6]],\n",
    "    ['Russia', [35.6, 37.4, 39.2, 41, 42.8, 39.2, 35.6]],\n",
    "    ['Poland', [50, 50, 53.6, 57.2, 55.4, 55.4]]\n",
    "]\n",
    "\n",
    "for celsiy in countries_temperature:\n",
    "    print(celsiy[0], '-', (sum(celsiy[1])/len(celsiy[1])-32)/1.8, 'C')"
   ]
  },
  {
   "cell_type": "code",
   "execution_count": null,
   "metadata": {},
   "outputs": [],
   "source": []
  }
 ],
 "metadata": {
  "kernelspec": {
   "display_name": "Python 3",
   "language": "python",
   "name": "python3"
  },
  "language_info": {
   "codemirror_mode": {
    "name": "ipython",
    "version": 3
   },
   "file_extension": ".py",
   "mimetype": "text/x-python",
   "name": "python",
   "nbconvert_exporter": "python",
   "pygments_lexer": "ipython3",
   "version": "3.8.5"
  }
 },
 "nbformat": 4,
 "nbformat_minor": 4
}
