{
 "cells": [
  {
   "cell_type": "code",
   "execution_count": 18,
   "metadata": {},
   "outputs": [
    {
     "name": "stdout",
     "output_type": "stream",
     "text": [
      "Введите фразу 1 Здравствуйте я ваша тетя\n",
      "Введите фразу 2 Здравствуйте, я ваша тетя\n",
      "фраза 2 длиннее\n"
     ]
    }
   ],
   "source": [
    "phrase_1 = input (\"Введите фразу 1 \")\n",
    "phrase_2 = input (\"Введите фразу 2 \")\n",
    "if len (phrase_1) == len (phrase_2):\n",
    "    print (\"фразы равны\")\n",
    "elif len (phrase_1) > len (phrase_2):\n",
    "    print (\"фраза 1 длиннее\")\n",
    "else:\n",
    "    print (\"фраза 2 длиннее\")"
   ]
  },
  {
   "cell_type": "markdown",
   "metadata": {},
   "source": [
    "Високосный год"
   ]
  },
  {
   "cell_type": "code",
   "execution_count": 36,
   "metadata": {
    "scrolled": true
   },
   "outputs": [
    {
     "name": "stdout",
     "output_type": "stream",
     "text": [
      "Введите год 2021\n",
      "не високосный год\n"
     ]
    }
   ],
   "source": [
    "year = int ( input (\"Введите год \"))\n",
    "if year % 4 == 0:\n",
    "   print (\"високосный год\")\n",
    "else:\n",
    "    print (\"не високосный год\")"
   ]
  },
  {
   "cell_type": "markdown",
   "metadata": {},
   "source": [
    "Коробка"
   ]
  },
  {
   "cell_type": "code",
   "execution_count": 8,
   "metadata": {},
   "outputs": [
    {
     "name": "stdout",
     "output_type": "stream",
     "text": [
      "Введите ширину, см 205\n",
      "Введите длину, см  11\n",
      "Введите высоту, см  12\n",
      "Упаковка для лыж\n"
     ]
    }
   ],
   "source": [
    "width = int ( input (\"Введите ширину, см \"))\n",
    "length = int ( input (\"Введите длину, см  \"))\n",
    "height = int ( input (\"Введите высоту, см  \"))\n",
    "if width < 15 and length < 15 and height < 15:\n",
    "    print (\"Коробка №1\")\n",
    "elif width < 50 and length < 50 and height < 50:\n",
    "    print (\"Коробка №2\")\n",
    "elif width > 200 or length > 200 or height > 200:\n",
    "    print (\"Упаковка для лыж\")\n",
    "else:\n",
    "    print (\"Стандартная коробка №3\")"
   ]
  },
  {
   "cell_type": "markdown",
   "metadata": {},
   "source": [
    "Билет"
   ]
  },
  {
   "cell_type": "code",
   "execution_count": 41,
   "metadata": {},
   "outputs": [
    {
     "name": "stdout",
     "output_type": "stream",
     "text": [
      "Введите № билета 123456\n",
      "Нечастливый билет\n"
     ]
    }
   ],
   "source": [
    "ticket = int ( input (\"Введите № билета \"))\n",
    "string = str ( ticket )\n",
    "if int ( string [0] ) + int ( string [1] ) + int ( string [2] ) == int ( string [3] ) + int ( string [4] ) + int ( string [5] ):\n",
    "    print (\"Счастливый билет\")\n",
    "else:\n",
    "    print (\"Нечастливый билет\")"
   ]
  },
  {
   "cell_type": "code",
   "execution_count": 39,
   "metadata": {},
   "outputs": [
    {
     "name": "stdout",
     "output_type": "stream",
     "text": [
      "Введите № билета 123456\n"
     ]
    },
    {
     "data": {
      "text/plain": [
       "6"
      ]
     },
     "execution_count": 39,
     "metadata": {},
     "output_type": "execute_result"
    }
   ],
   "source": []
  },
  {
   "cell_type": "code",
   "execution_count": null,
   "metadata": {},
   "outputs": [],
   "source": []
  }
 ],
 "metadata": {
  "kernelspec": {
   "display_name": "Python 3",
   "language": "python",
   "name": "python3"
  },
  "language_info": {
   "codemirror_mode": {
    "name": "ipython",
    "version": 3
   },
   "file_extension": ".py",
   "mimetype": "text/x-python",
   "name": "python",
   "nbconvert_exporter": "python",
   "pygments_lexer": "ipython3",
   "version": "3.8.5"
  }
 },
 "nbformat": 4,
 "nbformat_minor": 4
}
