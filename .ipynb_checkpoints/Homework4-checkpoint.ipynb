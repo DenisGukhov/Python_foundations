{
 "cells": [
  {
   "cell_type": "markdown",
   "metadata": {},
   "source": [
    "docs and shelfs"
   ]
  },
  {
   "cell_type": "code",
   "execution_count": null,
   "execution_count": 10,
   "metadata": {},
   "outputs": [],
   "source": [
    "documents = [\n",
    "    {'type': 'passport', 'number': '2207 876234', 'name': 'Василий Гупкин'},\n",
    "    {'type': 'invoice', 'number': '11-2', 'name': 'Геннадий Покемонов'}, \n",
    "    {'type': 'insurance', 'number': '10006', 'name': 'Аристарх Павлов'}\n",
    "]\n",
    "\n",
    "directories = {\n",
    "    '1': ['2207 876234', '11-2'], \n",
    "    '2': ['10006'], \n",
    "    '3': []\n",
    "}"
   ]
  },
  {
   "cell_type": "code",
   "execution_count": null,
   "metadata": {},
   "outputs": [
    {
     "name": "stdout",
     "output_type": "stream",
     "text": [
      "Введите команду: p\n",
      "Введите номер документа: 200000\n",
      "Документ не найден в базе\n"
      "Введите команду: ads\n",
      "Введите номер доавляемой полки: 3\n",
      "Полка с таким номером уже существует. Присвойте другой номер. Текущий перечень полок:, 1, 2, 3\n",
      "Полка добавлена. Текущий перечень полок:, 1, 2, 3\n"
     ]
    }
   ],
   "source": [
    "def owners_name():\n",
    "    num_doc = input('Введите номер документа: ')\n",
    "    for x in documents:\n",
    "        if x['number'] == num_doc:\n",
    "            print('Владелец документа: ', x['name'])\n",
    "            break\n",
    "    else: \n",
    "         print('Документ не найден в базе')\n",
    "        \n",
    "def shelf_search():\n",
    "    num_doc = input('Введите номер документа: ')\n",
    "    for k in directories.items():\n",
    "        if num_doc in k[1]:\n",
    "            print('Документ хранится на полке: ', k[0])           \n",
    "    else:\n",
    "        print('Документ не найден в базе') \n",
    "        \n",
    "def get_key(d, value):\n",
    "    for k, v in d.items():\n",
    "        if value in v:\n",
    "            return k\n",
    "        \n",
    "def doc_info():\n",
    "    for x in documents:\n",
    "        print('№', x['number'],',', 'тип: ', x['type'],',', 'владелец: ', x['name'],',', \n",
    "              'полка хранения: ', get_key(directories, x['number']))\n",
    "\n",
    "def add_shelf():\n",
    "    num_shelf = input('Введите номер доавляемой полки: ')\n",
    "    if num_shelf in directories:\n",
    "        print('Полка с таким номером уже существует. Присвойте другой номер. Текущий перечень полок:',\n",
    "                 *list(directories.keys()), sep= (', '))\n",
    "    directories[num_shelf] = []\n",
    "    print('Полка добавлена. Текущий перечень полок:',\n",
    "                 *list(directories.keys()), sep= (', '))\n",
    "def del_shelf():\n",
    "    num_shelf = input('Введите номер полки на удаление: ')\n",
    "    if num_shelf not in directories:\n",
    "        print('Такой полки не существует. Текущий перечень полок:',*list(directories.keys()), \n",
    "                 sep= (', '))\n",
    "    if len(directories[num_shelf]) == 0:\n",
    "        del(directories[num_shelf])\n",
    "        print('Полка удалена. Текущий перечень полок:',*list(directories.keys()), \n",
    "                 sep= (', '))\n",
    "        \n",
    "    else:\n",
    "        print('На полке есть документы, удалите их перед удалением полки. Текущий перечень полок:',*list(directories.keys()), \n",
    "                 sep= (', '))\n",
    "        \n",
    "def command_():\n",
    "    \n",
    "    command = input('Введите команду: ')\n",
    "    \n",
    "    if command == 'q':\n",
    "       print('Вы завершили работу. До свидания!')\n",
    "       \n",
    "    elif command == 's':\n",
    "        shelf_search()\n",
    "    elif command == 'l':\n",
    "        doc_info()\n",
    "    elif command == 'ads':\n",
    "        add_shelf()\n",
    "    elif command == 'ds':\n",
    "        del_shelf()\n",
    "    elif command == 'p':\n",
    "        owners_name()\n",
    "    else:\n",
    "        print('Введена неверная команда !')\n",
    "        \n",
    "command = 0           \n",
    "while command != 'q':\n",
    "    command_()"
   ]
  },
  {
   "cell_type": "code",
   "execution_count": null,
   "metadata": {},
   "outputs": [],
   "source": []
  },
  {
   "cell_type": "code",
   "execution_count": null,
   "metadata": {},
   "outputs": [],
   "source": []
  }
 ],
 "metadata": {
  "kernelspec": {
   "display_name": "Python 3",
   "language": "python",
   "name": "python3"
  },
  "language_info": {
   "codemirror_mode": {
    "name": "ipython",
    "version": 3
   },
   "file_extension": ".py",
   "mimetype": "text/x-python",
   "name": "python",
   "nbconvert_exporter": "python",
   "pygments_lexer": "ipython3",
   "version": "3.8.5"
  }
 },
 "nbformat": 4,
 "nbformat_minor": 4
}
