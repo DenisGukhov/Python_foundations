{
 "cells": [
  {
   "cell_type": "markdown",
   "metadata": {},
   "source": [
    "docs and shelfs"
   ]
  },
  {
   "cell_type": "code",
   "execution_count": null,
   "metadata": {},
   "outputs": [],
   "source": [
    "documents = [\n",
    "    {'type': 'passport', 'number': '2207 876234', 'name': 'Василий Гупкин'},\n",
    "    {'type': 'invoice', 'number': '11-2', 'name': 'Геннадий Покемонов'}, \n",
    "    {'type': 'insurance', 'number': '10006', 'name': 'Аристарх Павлов'}\n",
    "]\n",
    "\n",
    "directories = {\n",
    "    '1': ['2207 876234', '11-2'], \n",
    "    '2': ['10006'], \n",
    "    '3': []\n",
    "}"
   ]
  },
  {
   "cell_type": "code",
   "execution_count": 10,
   "metadata": {},
   "outputs": [
    {
     "name": "stdout",
     "output_type": "stream",
     "text": [
      "Введите команду: p\n",
      "Введите номер документа: 3\n",
      "Документ не найден в базе\n",
      "Введите команду: s\n",
      "Введите номер документа: 11-2\n",
      "Документ хранится на полке:  1\n",
      "Введите команду: ds\n",
      "Введите номер полки на удаление: 2\n",
      "На полке есть документы, удалите их перед удалением полки. Текущий перечень полок:, 1, 2\n",
      "Введите команду: q\n",
      "Вы завершили работу. До свидания!\n"
     ]
    }
   ],
   "source": [
    "def p():\n",
    "    num_doc = input('Введите номер документа: ')\n",
    "    for x in documents:\n",
    "        if x['number'] == num_doc:\n",
    "            return print('Владелец документа: ', x['name'])\n",
    "    else: \n",
    "        print('Документ не найден в базе')\n",
    "        \n",
    "def s():\n",
    "    num_doc = input('Введите номер документа: ')\n",
    "    for k in directories.items():\n",
    "        if num_doc in k[1]:\n",
    "            return print('Документ хранится на полке: ', k[0])           \n",
    "    else:\n",
    "        print('Документ не найден в базе') \n",
    "        \n",
    "\n",
    "def l():\n",
    "    for x in documents:\n",
    "        print('№', x['number'],',', 'тип: ', x['type'],',', 'владелец: ', x['name'],',', \n",
    "              'полка хранения: ', get_key(directories, x['number']))\n",
    "\n",
    "def ads():\n",
    "    num_polki = input('Введите номер доавляемой полки: ')\n",
    "    directories[num_polki] = []\n",
    "    return print('Полка добавлена. Текущий перечень полок:',*list(directories.keys()), \n",
    "                 sep= (', '))\n",
    "def ds():\n",
    "    num_polki = input('Введите номер полки на удаление: ')\n",
    "    if num_polki not in directories:\n",
    "        return print('Такой полки не существует. Текущий перечень полок:',*list(directories.keys()), \n",
    "                 sep= (', '))\n",
    "    if len(directories[num_polki]) == 0:\n",
    "        del(directories[num_polki])\n",
    "        return print('Полка удалена. Текущий перечень полок:',*list(directories.keys()), \n",
    "                 sep= (', '))\n",
    "        \n",
    "    else:\n",
    "        print('На полке есть документы, удалите их перед удалением полки. Текущий перечень полок:',*list(directories.keys()), \n",
    "                 sep= (', '))\n",
    "        \n",
    "command = 0           \n",
    "while command != 'q' :\n",
    "    \n",
    "    command = input('Введите команду: ')\n",
    "    \n",
    "    if command == 'p':\n",
    "        p()\n",
    "    elif command == 's':\n",
    "        s()\n",
    "    elif command == 'l':\n",
    "        l()\n",
    "    elif command == 'ads':\n",
    "        ads()\n",
    "    elif command == 'ds':\n",
    "        ds()\n",
    "    elif command == 'q':\n",
    "        print('Вы завершили работу. До свидания!')\n",
    "    \n",
    "    else:\n",
    "        print('Введена неверная команда !')"
   ]
  },
  {
   "cell_type": "code",
   "execution_count": null,
   "metadata": {},
   "outputs": [],
   "source": []
  }
 ],
 "metadata": {
  "kernelspec": {
   "display_name": "Python 3",
   "language": "python",
   "name": "python3"
  },
  "language_info": {
   "codemirror_mode": {
    "name": "ipython",
    "version": 3
   },
   "file_extension": ".py",
   "mimetype": "text/x-python",
   "name": "python",
   "nbconvert_exporter": "python",
   "pygments_lexer": "ipython3",
   "version": "3.8.5"
  }
 },
 "nbformat": 4,
 "nbformat_minor": 4
}
