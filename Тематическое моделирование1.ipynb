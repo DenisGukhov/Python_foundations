{
 "cells": [
  {
   "cell_type": "code",
   "execution_count": 4,
   "id": "88172258",
   "metadata": {},
   "outputs": [
    {
     "name": "stdout",
     "output_type": "stream",
     "text": [
      "Collecting pymorphy2\n",
      "  Downloading pymorphy2-0.9.1-py3-none-any.whl (55 kB)\n",
      "Collecting docopt>=0.6\n",
      "  Downloading docopt-0.6.2.tar.gz (25 kB)\n",
      "Collecting dawg-python>=0.7.1\n",
      "  Downloading DAWG_Python-0.7.2-py2.py3-none-any.whl (11 kB)\n",
      "Collecting pymorphy2-dicts-ru<3.0,>=2.4\n",
      "  Downloading pymorphy2_dicts_ru-2.4.417127.4579844-py2.py3-none-any.whl (8.2 MB)\n",
      "Building wheels for collected packages: docopt\n",
      "  Building wheel for docopt (setup.py): started\n",
      "  Building wheel for docopt (setup.py): finished with status 'done'\n",
      "  Created wheel for docopt: filename=docopt-0.6.2-py2.py3-none-any.whl size=13723 sha256=86b6a76eb89633d86494367cbb6595350f2d6783119a3f0a336e0a8eced3a410\n",
      "  Stored in directory: c:\\users\\chizm\\appdata\\local\\pip\\cache\\wheels\\70\\4a\\46\\1309fc853b8d395e60bafaf1b6df7845bdd82c95fd59dd8d2b\n",
      "Successfully built docopt\n",
      "Installing collected packages: pymorphy2-dicts-ru, docopt, dawg-python, pymorphy2\n",
      "Successfully installed dawg-python-0.7.2 docopt-0.6.2 pymorphy2-0.9.1 pymorphy2-dicts-ru-2.4.417127.4579844\n",
      "Note: you may need to restart the kernel to use updated packages.\n"
     ]
    }
   ],
   "source": [
    "pip install pymorphy2"
   ]
  },
  {
   "cell_type": "code",
   "execution_count": 17,
   "id": "4cc72c4b",
   "metadata": {},
   "outputs": [
    {
     "name": "stdout",
     "output_type": "stream",
     "text": [
      "%pylab is deprecated, use %matplotlib inline and import the required libraries.\n",
      "Populating the interactive namespace from numpy and matplotlib\n"
     ]
    },
    {
     "name": "stderr",
     "output_type": "stream",
     "text": [
      "[nltk_data] Downloading package punkt to\n",
      "[nltk_data]     C:\\Users\\chizm\\AppData\\Roaming\\nltk_data...\n",
      "[nltk_data]   Package punkt is already up-to-date!\n"
     ]
    }
   ],
   "source": [
    "import numpy as np\n",
    "import pandas as pd\n",
    "\n",
    "import json\n",
    "import bz2\n",
    "\n",
    "import regex\n",
    "\n",
    "from bs4 import BeautifulSoup\n",
    "\n",
    "import gensim\n",
    "from gensim.models import word2vec \n",
    "from gensim.corpora import Dictionary\n",
    "from gensim.models import TfidfModel\n",
    "from gensim.models import LdaMulticore\n",
    "from gensim.models import lsimodel\n",
    "\n",
    "import nltk\n",
    "import nltk.data\n",
    "from nltk.tokenize import sent_tokenize, RegexpTokenizer\n",
    "from nltk.corpus import stopwords\n",
    "from nltk.tokenize import word_tokenize\n",
    "\n",
    "from nltk.corpus import stopwords\n",
    "from pymorphy2 import MorphAnalyzer\n",
    "nltk.download('punkt')\n",
    "\n",
    "from tqdm import tqdm\n",
    "from scipy import sparse\n",
    "import matplotlib.pyplot as plt\n",
    "import seaborn as sns\n",
    "%matplotlib inline\n",
    "%pylab inline\n",
    "\n",
    "\n",
    "from sklearn.model_selection import train_test_split\n",
    "from sklearn.linear_model import LogisticRegression\n",
    "from sklearn.model_selection import cross_val_score\n",
    "from sklearn.feature_extraction.text import TfidfVectorizer\n",
    "from sklearn.feature_extraction.text import CountVectorizer\n",
    "\n",
    "from sklearn.decomposition import TruncatedSVD\n",
    "from sklearn.decomposition import LatentDirichletAllocation\n",
    "from sklearn.datasets import make_multilabel_classification\n",
    "from sklearn.metrics import classification_report\n",
    "from scipy.sparse import csr_matrix\n",
    "\n",
    "from sklearn.pipeline import Pipeline\n",
    "\n"
   ]
  },
  {
   "cell_type": "code",
   "execution_count": 6,
   "id": "869bae33",
   "metadata": {},
   "outputs": [
    {
     "name": "stderr",
     "output_type": "stream",
     "text": [
      "201030it [01:09, 2873.69it/s]\n"
     ]
    }
   ],
   "source": [
    "responses = []\n",
    "with bz2.BZ2File('banki_responses.json.bz2', 'r') as thefile:\n",
    "    for row in tqdm(thefile):\n",
    "        resp = json.loads(row)\n",
    "        if not resp['rating_not_checked'] and (len(resp['text'].split()) > 0):\n",
    "            responses.append(resp)"
   ]
  },
  {
   "cell_type": "code",
   "execution_count": 7,
   "id": "87c9a48f",
   "metadata": {},
   "outputs": [
    {
     "data": {
      "text/plain": [
       "{'city': 'г. Москва',\n",
       " 'rating_not_checked': False,\n",
       " 'title': 'Повесили кредит',\n",
       " 'num_comments': 15,\n",
       " 'bank_license': 'лицензия № 1326',\n",
       " 'author': 'Юля2015',\n",
       " 'bank_name': 'Альфа-Банк',\n",
       " 'datetime': '2015-06-05 12:24:28',\n",
       " 'text': 'Вот даже и засомневалась, какую ставить оценку... в итоге пишу без неё. Являюсь клиентом Альфа-Банка с 2012 года. Взяла тогда кредит наличными. Погашаю его, в т.ч. частично-досрочными суммами. Потом мне выпустили кредитную карту, на весьма выгодных условиях. Ей я тоже пользуюсь и вношу платежи. И вот на днях звонит мне девушка и говорит, что у меня просрочка. Я, оставаясь с ней на связи, лезу в яндекс.деньги и проверяю: карта и кредит оплачены. И тут она мне выдаёт: \"У Вас в нашем банке 3(!) кредитных продукта! В апреле 2014 Вы брали потребительский кредит на продукт\". Я в шоке, т.к. никаких кредитов в Альфе я больше не брала. Мне говорят, что нужно прийти в отделение и написать претензию. Кладу трубку. Вспоминаю: в апреле прошлого года я подавала заявку на кредит в мотосалон, ну как заявку, мини-анкетку через сайт, с 20% первоначального взноса. Позже мне перезвонили и сказали, что она одобрена. Но к тому моменту я нашла другой вариант, у знакомых, и договорилась о рассрочке. Из салона звонили дважды. Дважды я подтверждала свой отказ. Я туда даже не ездила! И уж тем более ничего не подписывала. Так что остаюсь спокойна, но приятного всё равно мало. Вчера пришла в банк. Написала претензию №1506041400. Сегодня пришла смс-ка, что по претензии принято отрицательное решение. Вот и что мне теперь делать? Тратить своё время, идти в суд? Т.к. я ничего не подписывала и не брала, тут я спокойна. Но вот эти все \"развлечения\", внезапно свалившиеся на голову не радуют. Я в шоке. До сих пор была крайне довольна Альфа-Банком.',\n",
       " 'rating_grade': None}"
      ]
     },
     "execution_count": 7,
     "metadata": {},
     "output_type": "execute_result"
    }
   ],
   "source": [
    "responses[10]"
   ]
  },
  {
   "cell_type": "code",
   "execution_count": 8,
   "id": "22cd284a",
   "metadata": {},
   "outputs": [],
   "source": [
    "def json_to_pd(review):\n",
    "    city = []\n",
    "    rating_not_checked = []\n",
    "    title = []\n",
    "    num_comments = []\n",
    "    bank_license = []\n",
    "    author = []\n",
    "    bank_name = []\n",
    "    datetime = []\n",
    "    text = []\n",
    "    rating_grade = []\n",
    "    \n",
    "    for rec in review:\n",
    "        city.append(rec['city'])\n",
    "        rating_not_checked.append(rec['rating_not_checked'])\n",
    "        title.append(rec['title'])\n",
    "        num_comments.append(rec['num_comments'])\n",
    "        bank_license.append(rec['bank_license'])\n",
    "        author.append(rec['author'])\n",
    "        bank_name.append(rec['bank_name'])\n",
    "        datetime.append(rec['datetime'])\n",
    "        text.append(rec['text'])\n",
    "        rating_grade.append(rec['rating_grade'])\n",
    "    return pd.DataFrame(\n",
    "        {\n",
    "            'city': city,\n",
    "            'rating_not_checked': rating_not_checked,\n",
    "            'title': title,\n",
    "            'num_comments': num_comments,\n",
    "            'bank_license': bank_license,\n",
    "            'author': author,\n",
    "            'bank_name': bank_name,\n",
    "            'datetime': datetime,\n",
    "            'text': text,\n",
    "            'rating_grade': rating_grade\n",
    "            \n",
    "        }\n",
    "    )"
   ]
  },
  {
   "cell_type": "code",
   "execution_count": 9,
   "id": "2db5a178",
   "metadata": {},
   "outputs": [],
   "source": [
    "df = json_to_pd(responses)"
   ]
  },
  {
   "cell_type": "code",
   "execution_count": 10,
   "id": "1a39f65e",
   "metadata": {},
   "outputs": [
    {
     "data": {
      "text/html": [
       "<div>\n",
       "<style scoped>\n",
       "    .dataframe tbody tr th:only-of-type {\n",
       "        vertical-align: middle;\n",
       "    }\n",
       "\n",
       "    .dataframe tbody tr th {\n",
       "        vertical-align: top;\n",
       "    }\n",
       "\n",
       "    .dataframe thead th {\n",
       "        text-align: right;\n",
       "    }\n",
       "</style>\n",
       "<table border=\"1\" class=\"dataframe\">\n",
       "  <thead>\n",
       "    <tr style=\"text-align: right;\">\n",
       "      <th></th>\n",
       "      <th>city</th>\n",
       "      <th>rating_not_checked</th>\n",
       "      <th>title</th>\n",
       "      <th>num_comments</th>\n",
       "      <th>bank_license</th>\n",
       "      <th>author</th>\n",
       "      <th>bank_name</th>\n",
       "      <th>datetime</th>\n",
       "      <th>text</th>\n",
       "      <th>rating_grade</th>\n",
       "    </tr>\n",
       "  </thead>\n",
       "  <tbody>\n",
       "    <tr>\n",
       "      <th>152985</th>\n",
       "      <td>None</td>\n",
       "      <td>False</td>\n",
       "      <td>Нормальный банк</td>\n",
       "      <td>0</td>\n",
       "      <td>лицензия № 2291</td>\n",
       "      <td>Анна</td>\n",
       "      <td>ИМПЭКСБанк</td>\n",
       "      <td>2005-05-25 20:13:00</td>\n",
       "      <td>Получила народный кредит, решения ждала 2 неде...</td>\n",
       "      <td>5.0</td>\n",
       "    </tr>\n",
       "    <tr>\n",
       "      <th>12814</th>\n",
       "      <td>г. Москва</td>\n",
       "      <td>False</td>\n",
       "      <td>Неправомерная комиссия</td>\n",
       "      <td>1</td>\n",
       "      <td>лицензия № 1481</td>\n",
       "      <td>vik3</td>\n",
       "      <td>Сбербанк России</td>\n",
       "      <td>2015-02-20 18:18:00</td>\n",
       "      <td>20 фев 2015 с кредитной карты было снято 400р,...</td>\n",
       "      <td>NaN</td>\n",
       "    </tr>\n",
       "    <tr>\n",
       "      <th>145932</th>\n",
       "      <td>None</td>\n",
       "      <td>False</td>\n",
       "      <td>Ипотечный кредит</td>\n",
       "      <td>0</td>\n",
       "      <td>лицензия № 2216</td>\n",
       "      <td>vladim</td>\n",
       "      <td>Банк Интеза</td>\n",
       "      <td>2007-11-01 13:49:00</td>\n",
       "      <td>7 октября обратился в банк КМБ по совету друзе...</td>\n",
       "      <td>1.0</td>\n",
       "    </tr>\n",
       "    <tr>\n",
       "      <th>149760</th>\n",
       "      <td>None</td>\n",
       "      <td>False</td>\n",
       "      <td>\"Индивидуальный подход\"</td>\n",
       "      <td>2</td>\n",
       "      <td>лицензия № 2557</td>\n",
       "      <td>grad76</td>\n",
       "      <td>Ситибанк</td>\n",
       "      <td>2006-06-16 02:00:00</td>\n",
       "      <td>Я и мой друг стали клиентами этого банка совсе...</td>\n",
       "      <td>1.0</td>\n",
       "    </tr>\n",
       "    <tr>\n",
       "      <th>77195</th>\n",
       "      <td>г. Самара</td>\n",
       "      <td>False</td>\n",
       "      <td>Некомпетентные сотрудники</td>\n",
       "      <td>0</td>\n",
       "      <td>лицензия № 1481</td>\n",
       "      <td>Czech711</td>\n",
       "      <td>Сбербанк России</td>\n",
       "      <td>2013-08-08 17:09:00</td>\n",
       "      <td>Обращаюсь от лица клиентов, с которыми довелос...</td>\n",
       "      <td>NaN</td>\n",
       "    </tr>\n",
       "  </tbody>\n",
       "</table>\n",
       "</div>"
      ],
      "text/plain": [
       "             city  rating_not_checked                      title  \\\n",
       "152985       None               False            Нормальный банк   \n",
       "12814   г. Москва               False     Неправомерная комиссия   \n",
       "145932       None               False           Ипотечный кредит   \n",
       "149760       None               False    \"Индивидуальный подход\"   \n",
       "77195   г. Самара               False  Некомпетентные сотрудники   \n",
       "\n",
       "        num_comments     bank_license    author        bank_name  \\\n",
       "152985             0  лицензия № 2291      Анна       ИМПЭКСБанк   \n",
       "12814              1  лицензия № 1481      vik3  Сбербанк России   \n",
       "145932             0  лицензия № 2216    vladim      Банк Интеза   \n",
       "149760             2  лицензия № 2557    grad76         Ситибанк   \n",
       "77195              0  лицензия № 1481  Czech711  Сбербанк России   \n",
       "\n",
       "                   datetime  \\\n",
       "152985  2005-05-25 20:13:00   \n",
       "12814   2015-02-20 18:18:00   \n",
       "145932  2007-11-01 13:49:00   \n",
       "149760  2006-06-16 02:00:00   \n",
       "77195   2013-08-08 17:09:00   \n",
       "\n",
       "                                                     text  rating_grade  \n",
       "152985  Получила народный кредит, решения ждала 2 неде...           5.0  \n",
       "12814   20 фев 2015 с кредитной карты было снято 400р,...           NaN  \n",
       "145932  7 октября обратился в банк КМБ по совету друзе...           1.0  \n",
       "149760  Я и мой друг стали клиентами этого банка совсе...           1.0  \n",
       "77195   Обращаюсь от лица клиентов, с которыми довелос...           NaN  "
      ]
     },
     "execution_count": 10,
     "metadata": {},
     "output_type": "execute_result"
    }
   ],
   "source": [
    "df.sample(5)"
   ]
  },
  {
   "cell_type": "code",
   "execution_count": 11,
   "id": "803eda61",
   "metadata": {},
   "outputs": [
    {
     "name": "stdout",
     "output_type": "stream",
     "text": [
      "<class 'pandas.core.frame.DataFrame'>\n",
      "RangeIndex: 153499 entries, 0 to 153498\n",
      "Data columns (total 10 columns):\n",
      " #   Column              Non-Null Count   Dtype  \n",
      "---  ------              --------------   -----  \n",
      " 0   city                138325 non-null  object \n",
      " 1   rating_not_checked  153499 non-null  bool   \n",
      " 2   title               153499 non-null  object \n",
      " 3   num_comments        153499 non-null  int64  \n",
      " 4   bank_license        153498 non-null  object \n",
      " 5   author              153479 non-null  object \n",
      " 6   bank_name           153499 non-null  object \n",
      " 7   datetime            153499 non-null  object \n",
      " 8   text                153499 non-null  object \n",
      " 9   rating_grade        88658 non-null   float64\n",
      "dtypes: bool(1), float64(1), int64(1), object(7)\n",
      "memory usage: 10.7+ MB\n"
     ]
    }
   ],
   "source": [
    "df.info()"
   ]
  },
  {
   "cell_type": "code",
   "execution_count": 12,
   "id": "9e79373c",
   "metadata": {},
   "outputs": [],
   "source": [
    "# отфильтруем только записи, содержащие ненулевой рейтинг\n",
    "df_score = df[(df['rating_grade'].isna() == False) & (df['text'].isna() == False)].reset_index()[['text', 'rating_grade']]"
   ]
  },
  {
   "cell_type": "code",
   "execution_count": 13,
   "id": "48302361",
   "metadata": {},
   "outputs": [
    {
     "data": {
      "text/html": [
       "<div>\n",
       "<style scoped>\n",
       "    .dataframe tbody tr th:only-of-type {\n",
       "        vertical-align: middle;\n",
       "    }\n",
       "\n",
       "    .dataframe tbody tr th {\n",
       "        vertical-align: top;\n",
       "    }\n",
       "\n",
       "    .dataframe thead th {\n",
       "        text-align: right;\n",
       "    }\n",
       "</style>\n",
       "<table border=\"1\" class=\"dataframe\">\n",
       "  <thead>\n",
       "    <tr style=\"text-align: right;\">\n",
       "      <th></th>\n",
       "      <th>text</th>\n",
       "      <th>rating_grade</th>\n",
       "    </tr>\n",
       "  </thead>\n",
       "  <tbody>\n",
       "    <tr>\n",
       "      <th>25627</th>\n",
       "      <td>Почитайте мою историю общения с Бинбанком и ва...</td>\n",
       "      <td>1.0</td>\n",
       "    </tr>\n",
       "    <tr>\n",
       "      <th>51617</th>\n",
       "      <td>Моя жена вчера открыла вклад в данном финучреж...</td>\n",
       "      <td>4.0</td>\n",
       "    </tr>\n",
       "    <tr>\n",
       "      <th>67214</th>\n",
       "      <td>Вчера сняв долларовый депозит в филиале банка ...</td>\n",
       "      <td>1.0</td>\n",
       "    </tr>\n",
       "    <tr>\n",
       "      <th>42422</th>\n",
       "      <td>Взяла кредит в данном банке 2-й раз (на покупк...</td>\n",
       "      <td>5.0</td>\n",
       "    </tr>\n",
       "    <tr>\n",
       "      <th>5811</th>\n",
       "      <td>Добрый день! В декабре 21.12.2014 писал жалобу...</td>\n",
       "      <td>1.0</td>\n",
       "    </tr>\n",
       "  </tbody>\n",
       "</table>\n",
       "</div>"
      ],
      "text/plain": [
       "                                                    text  rating_grade\n",
       "25627  Почитайте мою историю общения с Бинбанком и ва...           1.0\n",
       "51617  Моя жена вчера открыла вклад в данном финучреж...           4.0\n",
       "67214  Вчера сняв долларовый депозит в филиале банка ...           1.0\n",
       "42422  Взяла кредит в данном банке 2-й раз (на покупк...           5.0\n",
       "5811   Добрый день! В декабре 21.12.2014 писал жалобу...           1.0"
      ]
     },
     "execution_count": 13,
     "metadata": {},
     "output_type": "execute_result"
    }
   ],
   "source": [
    "df_score.sample(5)"
   ]
  },
  {
   "cell_type": "code",
   "execution_count": 14,
   "id": "d5e0f125",
   "metadata": {},
   "outputs": [],
   "source": [
    "def review_to_wordlist(review, lemmatizer, remove_stopwords=False):\n",
    "    # убираем ссылки\n",
    "    review_text = re.sub(r\"http[s]?://(?:[a-zA-Z]|[0-9]|[$-_@.&+]|[!*\\(\\),]|(?:%[0-9a-fA-F][0-9a-fA-F]))+\", \" \", review)\n",
    "    # достаем сам текст\n",
    "    # review_text = BeautifulSoup(review_text, \"lxml\").get_text()\n",
    "    # оставляем только буквенные символы\n",
    "    review_text = re.sub(\"[^а-яА-ЯёЁ]\",\" \", review_text)\n",
    "    # приводим к нижнему регистру и разбиваем на слова по символу пробела\n",
    "    words = review_text.lower().split()\n",
    "    if remove_stopwords: # убираем стоп-слова\n",
    "        russian_stopwords = stopwords.words(\"russian\")\n",
    "        #stops = stopwords.words(\"english\")\n",
    "        words = [w for w in words if not w in russian_stopwords]\n",
    "    if lemmatizer:\n",
    "        return([lemmatizer.parse(word)[0].normal_form for word in words])\n",
    "    else:\n",
    "        return words\n",
    "    \n",
    "def review_to_sentences(review, tokenizer, lemmatizer = None, remove_stopwords=False):\n",
    "    # разбиваем обзор на предложения\n",
    "    raw_sentences = tokenizer.tokenize(review.strip())\n",
    "    sentences = []\n",
    "    # применяем предыдущую функцию к каждому предложению\n",
    "    for raw_sentence in raw_sentences:\n",
    "        if len(raw_sentence) > 0:\n",
    "            sentences.append(review_to_wordlist(raw_sentence, lemmatizer, remove_stopwords))\n",
    "    return sentences"
   ]
  },
  {
   "cell_type": "code",
   "execution_count": 18,
   "id": "4fea7a7b",
   "metadata": {},
   "outputs": [],
   "source": [
    "tokenizer = nltk.data.load('tokenizers/punkt/russian.pickle')\n",
    "lemmatizer = MorphAnalyzer()"
   ]
  },
  {
   "cell_type": "code",
   "execution_count": 19,
   "id": "d142d72a",
   "metadata": {},
   "outputs": [
    {
     "name": "stdout",
     "output_type": "stream",
     "text": [
      "Parsing sentences...\n"
     ]
    },
    {
     "name": "stderr",
     "output_type": "stream",
     "text": [
      "100%|████████████████████████████████████████████████████████████████████████| 153499/153499 [02:03<00:00, 1241.31it/s]\n"
     ]
    }
   ],
   "source": [
    "sentences_no_lemm = []  \n",
    "print('Parsing sentences...')\n",
    "for review in tqdm(df['text']):\n",
    "    sentences_no_lemm += review_to_sentences(review, tokenizer)"
   ]
  },
  {
   "cell_type": "code",
   "execution_count": 20,
   "id": "3ec64049",
   "metadata": {},
   "outputs": [
    {
     "name": "stdout",
     "output_type": "stream",
     "text": [
      "Parsing sentences...\n"
     ]
    },
    {
     "name": "stderr",
     "output_type": "stream",
     "text": [
      "  6%|████▎                                                                     | 8980/153499 [09:45<3:10:29, 12.64it/s]"
     ]
    },
    {
     "name": "stdout",
     "output_type": "stream",
     "text": [
      "Collecting torch\n",
      "  Downloading torch-1.12.1-cp39-cp39-win_amd64.whl (161.8 MB)\n",
      "Requirement already satisfied: typing-extensions in c:\\ds\\anaconda\\lib\\site-packages (from torch) (4.1.1)\n",
      "Installing collected packages: torch\n",
      "Successfully installed torch-1.12.1\n"
     ]
    },
    {
     "name": "stderr",
     "output_type": "stream",
     "text": [
      "100%|████████████████████████████████████████████████████████████████████████| 153499/153499 [2:31:40<00:00, 16.87it/s]\n"
     ]
    }
   ],
   "source": [
    "sentences = []  \n",
    "print('Parsing sentences...')\n",
    "for review in tqdm(df['text']):\n",
    "    sentences += review_to_sentences(review, tokenizer, lemmatizer)"
   ]
  },
  {
   "cell_type": "code",
   "execution_count": 21,
   "id": "6659dfc1",
   "metadata": {},
   "outputs": [
    {
     "data": {
      "text/plain": [
       "[['добрый', 'день'],\n",
       " ['я',\n",
       "  'не',\n",
       "  'являться',\n",
       "  'клиент',\n",
       "  'банк',\n",
       "  'и',\n",
       "  'поручитель',\n",
       "  'по',\n",
       "  'кредитный',\n",
       "  'договор',\n",
       "  'а',\n",
       "  'также',\n",
       "  'не',\n",
       "  'являться',\n",
       "  'какой',\n",
       "  'либо',\n",
       "  'другой',\n",
       "  'лицо',\n",
       "  'письменно',\n",
       "  'оформить',\n",
       "  'отношение',\n",
       "  'с',\n",
       "  'банк',\n",
       "  'по',\n",
       "  'повод',\n",
       "  'урегулирование',\n",
       "  'чей',\n",
       "  'либо',\n",
       "  'задолженность']]"
      ]
     },
     "execution_count": 21,
     "metadata": {},
     "output_type": "execute_result"
    }
   ],
   "source": [
    "sentences[0:2]"
   ]
  },
  {
   "cell_type": "code",
   "execution_count": 22,
   "id": "6c074328",
   "metadata": {},
   "outputs": [],
   "source": [
    "with open('text_banki_lem.txt', 'w') as f:\n",
    "    for s in sentences:\n",
    "        f.write(' '.join(s))\n",
    "        f.write('\\n')"
   ]
  },
  {
   "cell_type": "code",
   "execution_count": 23,
   "id": "84e80dc3",
   "metadata": {},
   "outputs": [],
   "source": [
    "import csv\n",
    "sentences = []\n",
    "with open('text_banki_lem.txt', 'r', newline='') as csvfile:\n",
    "    r = csv.reader(csvfile, delimiter=' ')\n",
    "    sentences.append(list(r))\n",
    "sentences = sentences[0]"
   ]
  },
  {
   "cell_type": "code",
   "execution_count": 24,
   "id": "3a497bd0",
   "metadata": {},
   "outputs": [
    {
     "data": {
      "text/plain": [
       "[['добрый', 'день'],\n",
       " ['я',\n",
       "  'не',\n",
       "  'являться',\n",
       "  'клиент',\n",
       "  'банк',\n",
       "  'и',\n",
       "  'поручитель',\n",
       "  'по',\n",
       "  'кредитный',\n",
       "  'договор',\n",
       "  'а',\n",
       "  'также',\n",
       "  'не',\n",
       "  'являться',\n",
       "  'какой',\n",
       "  'либо',\n",
       "  'другой',\n",
       "  'лицо',\n",
       "  'письменно',\n",
       "  'оформить',\n",
       "  'отношение',\n",
       "  'с',\n",
       "  'банк',\n",
       "  'по',\n",
       "  'повод',\n",
       "  'урегулирование',\n",
       "  'чей',\n",
       "  'либо',\n",
       "  'задолженность']]"
      ]
     },
     "execution_count": 24,
     "metadata": {},
     "output_type": "execute_result"
    }
   ],
   "source": [
    "sentences[0:2]"
   ]
  },
  {
   "cell_type": "code",
   "execution_count": 26,
   "id": "c283e581",
   "metadata": {},
   "outputs": [
    {
     "name": "stderr",
     "output_type": "stream",
     "text": [
      "[nltk_data] Downloading package stopwords to\n",
      "[nltk_data]     C:\\Users\\chizm\\AppData\\Roaming\\nltk_data...\n",
      "[nltk_data]   Unzipping corpora\\stopwords.zip.\n"
     ]
    },
    {
     "data": {
      "text/plain": [
       "True"
      ]
     },
     "execution_count": 26,
     "metadata": {},
     "output_type": "execute_result"
    }
   ],
   "source": [
    "nltk.download('stopwords')"
   ]
  },
  {
   "cell_type": "code",
   "execution_count": 27,
   "id": "69f285aa",
   "metadata": {},
   "outputs": [],
   "source": [
    "russian_stopwords = stopwords.words(\"russian\")"
   ]
  },
  {
   "cell_type": "code",
   "execution_count": 28,
   "id": "334ebc45",
   "metadata": {},
   "outputs": [],
   "source": [
    "sentences_no_sw = sentences.copy()"
   ]
  },
  {
   "cell_type": "code",
   "execution_count": 29,
   "id": "5df2e7de",
   "metadata": {},
   "outputs": [],
   "source": [
    "for i, text in enumerate(sentences_no_sw):\n",
    "    for word in text:\n",
    "        if word in russian_stopwords:\n",
    "            while word in sentences_no_sw[i]:\n",
    "                sentences_no_sw[i].remove(word) "
   ]
  },
  {
   "cell_type": "code",
   "execution_count": 30,
   "id": "d17eea78",
   "metadata": {},
   "outputs": [
    {
     "data": {
      "text/plain": [
       "[['добрый', 'день'],\n",
       " ['являться',\n",
       "  'клиент',\n",
       "  'банк',\n",
       "  'поручитель',\n",
       "  'кредитный',\n",
       "  'договор',\n",
       "  'также',\n",
       "  'являться',\n",
       "  'какой',\n",
       "  'либо',\n",
       "  'лицо',\n",
       "  'письменно',\n",
       "  'оформить',\n",
       "  'отношение',\n",
       "  'банк',\n",
       "  'повод',\n",
       "  'урегулирование',\n",
       "  'чей',\n",
       "  'либо',\n",
       "  'задолженность']]"
      ]
     },
     "execution_count": 30,
     "metadata": {},
     "output_type": "execute_result"
    }
   ],
   "source": [
    "sentences_no_sw[0:2]"
   ]
  },
  {
   "cell_type": "markdown",
   "id": "3f3592d0",
   "metadata": {},
   "source": [
    "# Часть 1. Анализ Текстов"
   ]
  },
  {
   "cell_type": "code",
   "execution_count": 31,
   "id": "a69c5d92",
   "metadata": {},
   "outputs": [],
   "source": [
    "df_score_all = df[(df['rating_grade'].isna() == False) & (df['text'].isna() == False)].reset_index()"
   ]
  },
  {
   "cell_type": "code",
   "execution_count": 32,
   "id": "c5f2633b",
   "metadata": {},
   "outputs": [
    {
     "data": {
      "text/html": [
       "<div>\n",
       "<style scoped>\n",
       "    .dataframe tbody tr th:only-of-type {\n",
       "        vertical-align: middle;\n",
       "    }\n",
       "\n",
       "    .dataframe tbody tr th {\n",
       "        vertical-align: top;\n",
       "    }\n",
       "\n",
       "    .dataframe thead th {\n",
       "        text-align: right;\n",
       "    }\n",
       "</style>\n",
       "<table border=\"1\" class=\"dataframe\">\n",
       "  <thead>\n",
       "    <tr style=\"text-align: right;\">\n",
       "      <th></th>\n",
       "      <th>index</th>\n",
       "      <th>city</th>\n",
       "      <th>rating_not_checked</th>\n",
       "      <th>title</th>\n",
       "      <th>num_comments</th>\n",
       "      <th>bank_license</th>\n",
       "      <th>author</th>\n",
       "      <th>bank_name</th>\n",
       "      <th>datetime</th>\n",
       "      <th>text</th>\n",
       "      <th>rating_grade</th>\n",
       "    </tr>\n",
       "  </thead>\n",
       "  <tbody>\n",
       "    <tr>\n",
       "      <th>65873</th>\n",
       "      <td>127064</td>\n",
       "      <td>г. Москва</td>\n",
       "      <td>False</td>\n",
       "      <td>Про документы</td>\n",
       "      <td>3</td>\n",
       "      <td>лицензия № 3316 (ликв. 05.12.2014)</td>\n",
       "      <td>sunny_smiley</td>\n",
       "      <td>Современный Коммерческий Банк (бывш. ДжиИ Мани...</td>\n",
       "      <td>2011-02-11 13:27:00</td>\n",
       "      <td>10/02/11 ездил подавать документы на кредит. С...</td>\n",
       "      <td>1.0</td>\n",
       "    </tr>\n",
       "    <tr>\n",
       "      <th>85982</th>\n",
       "      <td>150735</td>\n",
       "      <td>None</td>\n",
       "      <td>False</td>\n",
       "      <td>Технические проблемы</td>\n",
       "      <td>1</td>\n",
       "      <td>лицензия № 2557</td>\n",
       "      <td>Борис</td>\n",
       "      <td>Ситибанк</td>\n",
       "      <td>2006-02-28 12:48:00</td>\n",
       "      <td>Я клиент СитиБанка в г.Москва. Клиентом стал н...</td>\n",
       "      <td>1.0</td>\n",
       "    </tr>\n",
       "    <tr>\n",
       "      <th>18430</th>\n",
       "      <td>40615</td>\n",
       "      <td>г. Москва</td>\n",
       "      <td>False</td>\n",
       "      <td>Чуткое отношение</td>\n",
       "      <td>1</td>\n",
       "      <td>лицензия № 3251</td>\n",
       "      <td>Квартирант</td>\n",
       "      <td>Промсвязьбанк</td>\n",
       "      <td>2014-07-17 09:57:00</td>\n",
       "      <td>Закончился срок карты - пришла СМС, что новая ...</td>\n",
       "      <td>1.0</td>\n",
       "    </tr>\n",
       "    <tr>\n",
       "      <th>12087</th>\n",
       "      <td>26818</td>\n",
       "      <td>г. Москва</td>\n",
       "      <td>False</td>\n",
       "      <td>Пострадали от действий банка</td>\n",
       "      <td>8</td>\n",
       "      <td>лицензия № 625 (отозвана 26.11.2014)</td>\n",
       "      <td>Frezing</td>\n",
       "      <td>2Т Банк</td>\n",
       "      <td>2014-11-17 17:32:00</td>\n",
       "      <td>Решил присовокупить и я, свой отрицательный сп...</td>\n",
       "      <td>1.0</td>\n",
       "    </tr>\n",
       "    <tr>\n",
       "      <th>85789</th>\n",
       "      <td>150535</td>\n",
       "      <td>None</td>\n",
       "      <td>False</td>\n",
       "      <td>Снятие наличных</td>\n",
       "      <td>0</td>\n",
       "      <td>лицензия № 1000</td>\n",
       "      <td>Шнитко Дмитрий</td>\n",
       "      <td>ВТБ</td>\n",
       "      <td>2006-02-18 01:07:00</td>\n",
       "      <td>Центральный офис в Санкт-Петербурге: крупные с...</td>\n",
       "      <td>5.0</td>\n",
       "    </tr>\n",
       "  </tbody>\n",
       "</table>\n",
       "</div>"
      ],
      "text/plain": [
       "        index       city  rating_not_checked                         title  \\\n",
       "65873  127064  г. Москва               False                 Про документы   \n",
       "85982  150735       None               False          Технические проблемы   \n",
       "18430   40615  г. Москва               False              Чуткое отношение   \n",
       "12087   26818  г. Москва               False  Пострадали от действий банка   \n",
       "85789  150535       None               False               Снятие наличных   \n",
       "\n",
       "       num_comments                          bank_license          author  \\\n",
       "65873             3    лицензия № 3316 (ликв. 05.12.2014)    sunny_smiley   \n",
       "85982             1                       лицензия № 2557           Борис   \n",
       "18430             1                       лицензия № 3251      Квартирант   \n",
       "12087             8  лицензия № 625 (отозвана 26.11.2014)         Frezing   \n",
       "85789             0                       лицензия № 1000  Шнитко Дмитрий   \n",
       "\n",
       "                                               bank_name             datetime  \\\n",
       "65873  Современный Коммерческий Банк (бывш. ДжиИ Мани...  2011-02-11 13:27:00   \n",
       "85982                                           Ситибанк  2006-02-28 12:48:00   \n",
       "18430                                      Промсвязьбанк  2014-07-17 09:57:00   \n",
       "12087                                            2Т Банк  2014-11-17 17:32:00   \n",
       "85789                                                ВТБ  2006-02-18 01:07:00   \n",
       "\n",
       "                                                    text  rating_grade  \n",
       "65873  10/02/11 ездил подавать документы на кредит. С...           1.0  \n",
       "85982  Я клиент СитиБанка в г.Москва. Клиентом стал н...           1.0  \n",
       "18430  Закончился срок карты - пришла СМС, что новая ...           1.0  \n",
       "12087  Решил присовокупить и я, свой отрицательный сп...           1.0  \n",
       "85789  Центральный офис в Санкт-Петербурге: крупные с...           5.0  "
      ]
     },
     "execution_count": 32,
     "metadata": {},
     "output_type": "execute_result"
    }
   ],
   "source": [
    "df_score_all.sample(5)"
   ]
  },
  {
   "cell_type": "markdown",
   "id": "1395e988",
   "metadata": {},
   "source": [
    "1.1 Количество отзывов по городам:"
   ]
  },
  {
   "cell_type": "code",
   "execution_count": 33,
   "id": "b0899217",
   "metadata": {},
   "outputs": [
    {
     "data": {
      "text/plain": [
       "г. Москва                               32502\n",
       "г. Санкт-Петербург                       8035\n",
       "г. Екатеринбург                          1275\n",
       "г. Новосибирск                           1148\n",
       "г. Нижний Новгород                       1086\n",
       "                                        ...  \n",
       "г. кондрово                                 1\n",
       "г. Раменское, Московской обл.               1\n",
       "г. Фурманов                                 1\n",
       "г. Рогачево                                 1\n",
       "г. Краснодарский край, ст.Павловская        1\n",
       "Name: city, Length: 3581, dtype: int64"
      ]
     },
     "execution_count": 33,
     "metadata": {},
     "output_type": "execute_result"
    }
   ],
   "source": [
    "df_score_all['city'].value_counts()"
   ]
  },
  {
   "cell_type": "markdown",
   "id": "15032dd6",
   "metadata": {},
   "source": [
    "1.2 Количество отзывов по банкам:\n"
   ]
  },
  {
   "cell_type": "code",
   "execution_count": 34,
   "id": "21a6045d",
   "metadata": {},
   "outputs": [
    {
     "data": {
      "text/plain": [
       "Сбербанк России      14944\n",
       "Альфа-Банк            5378\n",
       "ВТБ 24                4776\n",
       "Русский Стандарт      4368\n",
       "Хоум Кредит Банк      4028\n",
       "                     ...  \n",
       "Ростпромстройбанк        1\n",
       "Нарат                    1\n",
       "Татагропромбанк          1\n",
       "Прайм Финанс             1\n",
       "Новопокровский           1\n",
       "Name: bank_name, Length: 619, dtype: int64"
      ]
     },
     "execution_count": 34,
     "metadata": {},
     "output_type": "execute_result"
    }
   ],
   "source": [
    "df_score_all['bank_name'].value_counts()"
   ]
  },
  {
   "cell_type": "markdown",
   "id": "04fc2c00",
   "metadata": {},
   "source": [
    "1.3 Количество отзывов по городам и банкам (ТОП10):"
   ]
  },
  {
   "cell_type": "code",
   "execution_count": 35,
   "id": "1c5ce4e2",
   "metadata": {},
   "outputs": [],
   "source": [
    "pivot_table = pd.pivot_table(df_score_all, values='index', index=['city', 'bank_name'], aggfunc='count', sort=True)"
   ]
  },
  {
   "cell_type": "code",
   "execution_count": 37,
   "id": "7a4e0a10",
   "metadata": {},
   "outputs": [
    {
     "data": {
      "text/html": [
       "<div>\n",
       "<style scoped>\n",
       "    .dataframe tbody tr th:only-of-type {\n",
       "        vertical-align: middle;\n",
       "    }\n",
       "\n",
       "    .dataframe tbody tr th {\n",
       "        vertical-align: top;\n",
       "    }\n",
       "\n",
       "    .dataframe thead th {\n",
       "        text-align: right;\n",
       "    }\n",
       "</style>\n",
       "<table border=\"1\" class=\"dataframe\">\n",
       "  <thead>\n",
       "    <tr style=\"text-align: right;\">\n",
       "      <th></th>\n",
       "      <th>city</th>\n",
       "      <th>bank_name</th>\n",
       "      <th>Count of scores</th>\n",
       "    </tr>\n",
       "  </thead>\n",
       "  <tbody>\n",
       "    <tr>\n",
       "      <th>4670</th>\n",
       "      <td>г. Москва</td>\n",
       "      <td>Сбербанк России</td>\n",
       "      <td>4627</td>\n",
       "    </tr>\n",
       "    <tr>\n",
       "      <th>4411</th>\n",
       "      <td>г. Москва</td>\n",
       "      <td>Альфа-Банк</td>\n",
       "      <td>2041</td>\n",
       "    </tr>\n",
       "    <tr>\n",
       "      <th>4656</th>\n",
       "      <td>г. Москва</td>\n",
       "      <td>Русский Стандарт</td>\n",
       "      <td>1645</td>\n",
       "    </tr>\n",
       "    <tr>\n",
       "      <th>4454</th>\n",
       "      <td>г. Москва</td>\n",
       "      <td>ВТБ 24</td>\n",
       "      <td>1542</td>\n",
       "    </tr>\n",
       "    <tr>\n",
       "      <th>8092</th>\n",
       "      <td>г. Санкт-Петербург</td>\n",
       "      <td>Сбербанк России</td>\n",
       "      <td>1383</td>\n",
       "    </tr>\n",
       "    <tr>\n",
       "      <th>4567</th>\n",
       "      <td>г. Москва</td>\n",
       "      <td>Московский Кредитный Банк</td>\n",
       "      <td>1371</td>\n",
       "    </tr>\n",
       "    <tr>\n",
       "      <th>4736</th>\n",
       "      <td>г. Москва</td>\n",
       "      <td>Хоум Кредит Банк</td>\n",
       "      <td>1292</td>\n",
       "    </tr>\n",
       "    <tr>\n",
       "      <th>4579</th>\n",
       "      <td>г. Москва</td>\n",
       "      <td>Национальный Банк «Траст»</td>\n",
       "      <td>1036</td>\n",
       "    </tr>\n",
       "    <tr>\n",
       "      <th>4626</th>\n",
       "      <td>г. Москва</td>\n",
       "      <td>Райффайзенбанк</td>\n",
       "      <td>964</td>\n",
       "    </tr>\n",
       "    <tr>\n",
       "      <th>4705</th>\n",
       "      <td>г. Москва</td>\n",
       "      <td>Тинькофф Банк</td>\n",
       "      <td>947</td>\n",
       "    </tr>\n",
       "  </tbody>\n",
       "</table>\n",
       "</div>"
      ],
      "text/plain": [
       "                    city                  bank_name  Count of scores\n",
       "4670           г. Москва            Сбербанк России             4627\n",
       "4411           г. Москва                 Альфа-Банк             2041\n",
       "4656           г. Москва           Русский Стандарт             1645\n",
       "4454           г. Москва                     ВТБ 24             1542\n",
       "8092  г. Санкт-Петербург            Сбербанк России             1383\n",
       "4567           г. Москва  Московский Кредитный Банк             1371\n",
       "4736           г. Москва           Хоум Кредит Банк             1292\n",
       "4579           г. Москва  Национальный Банк «Траст»             1036\n",
       "4626           г. Москва             Райффайзенбанк              964\n",
       "4705           г. Москва              Тинькофф Банк              947"
      ]
     },
     "execution_count": 37,
     "metadata": {},
     "output_type": "execute_result"
    }
   ],
   "source": [
    "pivot_table.reset_index().sort_values(by=['index'], ascending = False).rename(columns={'index': 'Count of scores'}).head(10)"
   ]
  },
  {
   "cell_type": "markdown",
   "id": "bd6a597e",
   "metadata": {},
   "source": [
    "# 2.  Гистограмы длин слов в символах и в словах"
   ]
  },
  {
   "cell_type": "code",
   "execution_count": 38,
   "id": "24e4f600",
   "metadata": {},
   "outputs": [],
   "source": [
    "#составим словарь вида токен-id\n",
    "dictionary = Dictionary(sentences)"
   ]
  },
  {
   "cell_type": "code",
   "execution_count": 39,
   "id": "c292a0b0",
   "metadata": {},
   "outputs": [],
   "source": [
    "#вычислим в словаре длины встречающихся слов\n",
    "len_tokens = [len(k) for k, v in dictionary.token2id.items()]"
   ]
  },
  {
   "cell_type": "code",
   "execution_count": 40,
   "id": "2f501c6c",
   "metadata": {},
   "outputs": [
    {
     "name": "stderr",
     "output_type": "stream",
     "text": [
      "C:\\DS\\Anaconda\\lib\\site-packages\\seaborn\\distributions.py:2619: FutureWarning: `distplot` is a deprecated function and will be removed in a future version. Please adapt your code to use either `displot` (a figure-level function with similar flexibility) or `histplot` (an axes-level function for histograms).\n",
      "  warnings.warn(msg, FutureWarning)\n"
     ]
    },
    {
     "data": {
      "image/png": "[encoded data removed]",
      "text/plain": [
       "<Figure size 432x288 with 1 Axes>"
      ]
     },
     "metadata": {
      "needs_background": "light"
     },
     "output_type": "display_data"
    }
   ],
   "source": [
    "sns_plot = sns.distplot(len_tokens)\n",
    "fig = sns_plot.get_figure()"
   ]
  },
  {
   "cell_type": "code",
   "execution_count": 41,
   "id": "5cdec5bd",
   "metadata": {},
   "outputs": [
    {
     "data": {
      "image/png": "[encoded data removed]",
      "text/plain": [
       "<Figure size 432x288 with 1 Axes>"
      ]
     },
     "metadata": {
      "needs_background": "light"
     },
     "output_type": "display_data"
    }
   ],
   "source": [
    "plt.hist(len_tokens, bins=100)\n",
    "plt.show()"
   ]
  },
  {
   "cell_type": "markdown",
   "id": "84fe6b58",
   "metadata": {},
   "source": [
    "Чаще всего встречаются слова из 7-9 символов:"
   ]
  },
  {
   "cell_type": "code",
   "execution_count": 42,
   "id": "7be89212",
   "metadata": {},
   "outputs": [
    {
     "data": {
      "text/plain": [
       "[(8, 11873), (9, 11863), (7, 10589)]"
      ]
     },
     "execution_count": 42,
     "metadata": {},
     "output_type": "execute_result"
    }
   ],
   "source": [
    "import collections\n",
    "c = collections.Counter()\n",
    "for word in len_tokens:\n",
    "    c[word] += 1\n",
    "c.most_common(3)"
   ]
  },
  {
   "cell_type": "markdown",
   "id": "5e2b3ffe",
   "metadata": {},
   "source": [
    "3.1 ТОР10 самых встечаемых слов-лемм:"
   ]
  },
  {
   "cell_type": "code",
   "execution_count": 43,
   "id": "2191d3de",
   "metadata": {},
   "outputs": [
    {
     "data": {
      "text/plain": [
       "1"
      ]
     },
     "execution_count": 43,
     "metadata": {},
     "output_type": "execute_result"
    }
   ],
   "source": [
    "#словарь вида токент-id\n",
    "dictionary.token2id['добрый']"
   ]
  },
  {
   "cell_type": "code",
   "execution_count": 44,
   "id": "fe083cdf",
   "metadata": {},
   "outputs": [
    {
     "data": {
      "text/plain": [
       "173688"
      ]
     },
     "execution_count": 44,
     "metadata": {},
     "output_type": "execute_result"
    }
   ],
   "source": [
    "# частота встречаемости токенов во всех документах\n",
    "dictionary.cfs[0]"
   ]
  },
  {
   "cell_type": "code",
   "execution_count": 45,
   "id": "a7c1aa25",
   "metadata": {},
   "outputs": [],
   "source": [
    "#отсортируем словарь по частоте встречаемости токенов (id-частота)\n",
    "import operator\n",
    "sorted_cfs = sorted(dictionary.cfs.items(), key=operator.itemgetter(1), reverse = True)"
   ]
  },
  {
   "cell_type": "code",
   "execution_count": 46,
   "id": "317efedd",
   "metadata": {},
   "outputs": [
    {
     "data": {
      "text/plain": [
       "['банк',\n",
       " 'карта',\n",
       " 'это',\n",
       " 'всё',\n",
       " 'деньга',\n",
       " 'я',\n",
       " 'день',\n",
       " 'не',\n",
       " 'кредит',\n",
       " 'который']"
      ]
     },
     "execution_count": 46,
     "metadata": {},
     "output_type": "execute_result"
    }
   ],
   "source": [
    "top_freq_keys = [k for k, v in sorted_cfs[:10]]\n",
    "[dictionary[i] for i in top_freq_keys]"
   ]
  },
  {
   "cell_type": "markdown",
   "id": "e66f51a9",
   "metadata": {},
   "source": [
    "Самые часто встречаемые токены как и ожидалось относятся к стоп-словам"
   ]
  },
  {
   "cell_type": "markdown",
   "id": "f377484c",
   "metadata": {},
   "source": [
    "3.2 ТОР10 самых встечаемых слов-лемм без стоп-слов:"
   ]
  },
  {
   "cell_type": "code",
   "execution_count": 47,
   "id": "98e43489",
   "metadata": {},
   "outputs": [],
   "source": [
    "dictionary_no_sw = Dictionary(sentences_no_sw)"
   ]
  },
  {
   "cell_type": "code",
   "execution_count": 48,
   "id": "5be1b8e2",
   "metadata": {},
   "outputs": [],
   "source": [
    "sorted_cfs_no_sw = sorted(dictionary_no_sw.cfs.items(), key=operator.itemgetter(1), reverse = True)"
   ]
  },
  {
   "cell_type": "code",
   "execution_count": 49,
   "id": "f6203e43",
   "metadata": {},
   "outputs": [
    {
     "data": {
      "text/plain": [
       "['банк',\n",
       " 'карта',\n",
       " 'это',\n",
       " 'всё',\n",
       " 'деньга',\n",
       " 'я',\n",
       " 'день',\n",
       " 'не',\n",
       " 'кредит',\n",
       " 'который']"
      ]
     },
     "execution_count": 49,
     "metadata": {},
     "output_type": "execute_result"
    }
   ],
   "source": [
    "top_freq_keys_no_sw = [k for k, v in sorted_cfs_no_sw[:10]]\n",
    "[dictionary_no_sw[i] for i in top_freq_keys_no_sw]"
   ]
  },
  {
   "cell_type": "markdown",
   "id": "9a0dc7dc",
   "metadata": {},
   "source": [
    "3.3 ТОР10 самых встечаемы слов (без лемматизации):"
   ]
  },
  {
   "cell_type": "code",
   "execution_count": 50,
   "id": "b4208e92",
   "metadata": {},
   "outputs": [],
   "source": [
    "dictionary_no_lemm = Dictionary(sentences_no_lemm)"
   ]
  },
  {
   "cell_type": "code",
   "execution_count": 51,
   "id": "1aee641f",
   "metadata": {},
   "outputs": [],
   "source": [
    "import operator\n",
    "sorted_cfs_no_lemm = sorted(dictionary_no_lemm.cfs.items(), key=operator.itemgetter(1), reverse = True)"
   ]
  },
  {
   "cell_type": "code",
   "execution_count": 52,
   "id": "0f2d17c1",
   "metadata": {},
   "outputs": [
    {
     "data": {
      "text/plain": [
       "['в', 'и', 'не', 'на', 'что', 'я', 'с', 'по', 'мне', 'банка']"
      ]
     },
     "execution_count": 52,
     "metadata": {},
     "output_type": "execute_result"
    }
   ],
   "source": [
    "top_freq_keys_no_lemm = [k for k, v in sorted_cfs_no_lemm[:10]]\n",
    "[dictionary_no_lemm[i] for i in top_freq_keys_no_lemm]"
   ]
  },
  {
   "cell_type": "markdown",
   "id": "28224fbb",
   "metadata": {},
   "source": [
    "3.4 ТОР10 самых встечаемых слов - существительных (без лемматизации):"
   ]
  },
  {
   "cell_type": "code",
   "execution_count": 53,
   "id": "b93ce47a",
   "metadata": {},
   "outputs": [],
   "source": [
    "nouns_no_lemm = []\n",
    "for k, v in sorted_cfs_no_lemm:\n",
    "    if lemmatizer.parse(dictionary_no_lemm[k])[0].tag.POS == 'NOUN':\n",
    "        nouns_no_lemm.append(dictionary_no_lemm[k])\n",
    "    if len(nouns_no_lemm) == 10:\n",
    "        break"
   ]
  },
  {
   "cell_type": "code",
   "execution_count": 54,
   "id": "c8b06452",
   "metadata": {},
   "outputs": [
    {
     "data": {
      "text/plain": [
       "['банка',\n",
       " 'банк',\n",
       " 'деньги',\n",
       " 'карту',\n",
       " 'карты',\n",
       " 'кредит',\n",
       " 'день',\n",
       " 'раз',\n",
       " 'банке',\n",
       " 'заявление']"
      ]
     },
     "execution_count": 54,
     "metadata": {},
     "output_type": "execute_result"
    }
   ],
   "source": [
    "nouns_no_lemm"
   ]
  },
  {
   "cell_type": "markdown",
   "id": "72770b40",
   "metadata": {},
   "source": [
    "3.5 ТОР10 самых встечаемых слов - существительных (леммы):"
   ]
  },
  {
   "cell_type": "code",
   "execution_count": 55,
   "id": "4722654c",
   "metadata": {},
   "outputs": [],
   "source": [
    "nouns_lemm = []\n",
    "for k, v in sorted_cfs:\n",
    "    if lemmatizer.parse(dictionary[k])[0].tag.POS == 'NOUN':\n",
    "        nouns_lemm.append(dictionary[k])\n",
    "    if len(nouns_lemm) == 10:\n",
    "        break"
   ]
  },
  {
   "cell_type": "code",
   "execution_count": 56,
   "id": "2e7a38e0",
   "metadata": {},
   "outputs": [
    {
     "data": {
      "text/plain": [
       "['банк',\n",
       " 'карта',\n",
       " 'деньга',\n",
       " 'день',\n",
       " 'кредит',\n",
       " 'отделение',\n",
       " 'счёт',\n",
       " 'клиент',\n",
       " 'сотрудник',\n",
       " 'мочь']"
      ]
     },
     "execution_count": 56,
     "metadata": {},
     "output_type": "execute_result"
    }
   ],
   "source": [
    "nouns_lemm"
   ]
  },
  {
   "cell_type": "markdown",
   "id": "166a49f8",
   "metadata": {},
   "source": [
    "# 4. Кривые Ципфа и Хипса\n"
   ]
  },
  {
   "cell_type": "code",
   "execution_count": 57,
   "id": "caeeb7d8",
   "metadata": {},
   "outputs": [],
   "source": [
    "#Расчет рядов для кривой Ципфа\n",
    "freq = []\n",
    "rank = []\n",
    "for i, (k, v) in enumerate(sorted_cfs):\n",
    "    freq.append(v)\n",
    "    rank.append(i)"
   ]
  },
  {
   "cell_type": "code",
   "execution_count": 58,
   "id": "ca6645f8",
   "metadata": {},
   "outputs": [],
   "source": [
    "dic = {} # словарь вида ключ- длина предложения; значение - массив из колиечества уникальных слов в предолжении (потом среднее)\n",
    "prev = []\n",
    "for text in sentences:\n",
    "    if dic.get(len(text)) != None:\n",
    "        prev = dic[len(text)]\n",
    "        if len(set(text)) not in prev:\n",
    "            prev.append(len(set(text)))\n",
    "            dic[len(text)] = prev         \n",
    "    else:\n",
    "        dic[len(text)] = [len(set(text))]"
   ]
  },
  {
   "cell_type": "code",
   "execution_count": 59,
   "id": "9778adc5",
   "metadata": {},
   "outputs": [],
   "source": [
    "#для для предложений определенной длинны есть разные варианты колиечества уникальных слов, берем среднее арифметическое по ним\n",
    "dic_average = {}\n",
    "for key, value in dic.items():\n",
    "    dic_average[key] = round(mean(value))"
   ]
  },
  {
   "cell_type": "code",
   "execution_count": 60,
   "id": "af915827",
   "metadata": {},
   "outputs": [],
   "source": [
    "sorted_dic_av = sorted(dic_average.items(), key=operator.itemgetter(0), reverse = False)"
   ]
  },
  {
   "cell_type": "code",
   "execution_count": 61,
   "id": "b1eb7b29",
   "metadata": {},
   "outputs": [],
   "source": [
    "x = []\n",
    "y = []\n",
    "for slen, ulen in sorted_dic_av:\n",
    "    x.append(slen)\n",
    "    y.append(ulen)"
   ]
  },
  {
   "cell_type": "code",
   "execution_count": 62,
   "id": "c0487121",
   "metadata": {},
   "outputs": [
    {
     "data": {
      "text/plain": [
       "<function matplotlib.pyplot.show(close=None, block=None)>"
      ]
     },
     "execution_count": 62,
     "metadata": {},
     "output_type": "execute_result"
    },
    {
     "data": {
      "image/png": "[encoded data removed]",
      "text/plain": [
       "<Figure size 1152x288 with 2 Axes>"
      ]
     },
     "metadata": {
      "needs_background": "light"
     },
     "output_type": "display_data"
    }
   ],
   "source": [
    "plt.figure(figsize=(16,4))\n",
    "\n",
    "plt.subplot(121)\n",
    "plt.plot(rank, freq)\n",
    "plt.xlim(0, 100)\n",
    "plt.title('Кривая Ципфа')\n",
    "plt.xlabel('Ранг')\n",
    "plt.ylabel('Частота слов')\n",
    "\n",
    "plt.subplot(122)\n",
    "plt.plot(x, y)\n",
    "plt.title('Кривая Хипса')\n",
    "plt.xlabel('Размер текста')\n",
    "plt.ylabel('Число разных слов в тексте')\n",
    "\n",
    "plt.show"
   ]
  },
  {
   "cell_type": "markdown",
   "id": "a8f7b7ac",
   "metadata": {},
   "source": [
    "# 5. Ответы на вопросы\n"
   ]
  },
  {
   "cell_type": "markdown",
   "id": "657f0853",
   "metadata": {},
   "source": [
    "5.1 какое слово встречается чаще, \"сотрудник\" или \"клиент\"?"
   ]
  },
  {
   "cell_type": "code",
   "execution_count": 63,
   "id": "d44be571",
   "metadata": {},
   "outputs": [
    {
     "data": {
      "text/plain": [
       "452"
      ]
     },
     "execution_count": 63,
     "metadata": {},
     "output_type": "execute_result"
    }
   ],
   "source": [
    "#Найдем id слов в словаре\n",
    "dictionary.token2id['сотрудник']"
   ]
  },
  {
   "cell_type": "code",
   "execution_count": 64,
   "id": "b34ad4b1",
   "metadata": {},
   "outputs": [
    {
     "data": {
      "text/plain": [
       "6"
      ]
     },
     "execution_count": 64,
     "metadata": {},
     "output_type": "execute_result"
    }
   ],
   "source": [
    "dictionary.token2id['клиент']"
   ]
  },
  {
   "cell_type": "code",
   "execution_count": 65,
   "id": "93b20a60",
   "metadata": {},
   "outputs": [
    {
     "data": {
      "text/plain": [
       "134168"
      ]
     },
     "execution_count": 65,
     "metadata": {},
     "output_type": "execute_result"
    }
   ],
   "source": [
    "#Посмотрим как часто встречаются данные слова в предложениях\n",
    "dictionary.cfs[dictionary.token2id['сотрудник']]"
   ]
  },
  {
   "cell_type": "code",
   "execution_count": 66,
   "id": "b5381ddc",
   "metadata": {},
   "outputs": [
    {
     "data": {
      "text/plain": [
       "136892"
      ]
     },
     "execution_count": 66,
     "metadata": {},
     "output_type": "execute_result"
    }
   ],
   "source": [
    "dictionary.cfs[dictionary.token2id['клиент']]"
   ]
  },
  {
   "cell_type": "markdown",
   "id": "6f0fe22e",
   "metadata": {},
   "source": [
    "5.2 сколько раз встречается слова \"мошенничество\" и \"доверие\"?"
   ]
  },
  {
   "cell_type": "code",
   "execution_count": 67,
   "id": "17ec3df9",
   "metadata": {},
   "outputs": [
    {
     "data": {
      "text/plain": [
       "2466"
      ]
     },
     "execution_count": 67,
     "metadata": {},
     "output_type": "execute_result"
    }
   ],
   "source": [
    "#Найдем id слов в словаре\n",
    "dictionary.token2id['мошенничество']"
   ]
  },
  {
   "cell_type": "code",
   "execution_count": 68,
   "id": "c0bbef95",
   "metadata": {},
   "outputs": [
    {
     "data": {
      "text/plain": [
       "1763"
      ]
     },
     "execution_count": 68,
     "metadata": {},
     "output_type": "execute_result"
    }
   ],
   "source": [
    "dictionary.token2id['доверие']"
   ]
  },
  {
   "cell_type": "markdown",
   "id": "80df53a9",
   "metadata": {},
   "source": [
    "# 6. Ключевые слова и биграмы для положительных отзывов (с оценкой 5) и отрицательных отзывов (с оценкой 1)"
   ]
  },
  {
   "cell_type": "code",
   "execution_count": 69,
   "id": "d8faf9f6",
   "metadata": {},
   "outputs": [],
   "source": [
    "df5 = df[(df['rating_grade'] == 5.0) & (df['text'].isna() == False)].reset_index()[['text', 'rating_grade']]"
   ]
  },
  {
   "cell_type": "code",
   "execution_count": 70,
   "id": "8256c1cd",
   "metadata": {},
   "outputs": [],
   "source": [
    "df1 = df[(df['rating_grade'] == 1.0) & (df['text'].isna() == False)].reset_index()[['text', 'rating_grade']]"
   ]
  },
  {
   "cell_type": "code",
   "execution_count": 71,
   "id": "f1e39fce",
   "metadata": {},
   "outputs": [
    {
     "data": {
      "text/html": [
       "<div>\n",
       "<style scoped>\n",
       "    .dataframe tbody tr th:only-of-type {\n",
       "        vertical-align: middle;\n",
       "    }\n",
       "\n",
       "    .dataframe tbody tr th {\n",
       "        vertical-align: top;\n",
       "    }\n",
       "\n",
       "    .dataframe thead th {\n",
       "        text-align: right;\n",
       "    }\n",
       "</style>\n",
       "<table border=\"1\" class=\"dataframe\">\n",
       "  <thead>\n",
       "    <tr style=\"text-align: right;\">\n",
       "      <th></th>\n",
       "      <th>text</th>\n",
       "      <th>rating_grade</th>\n",
       "    </tr>\n",
       "  </thead>\n",
       "  <tbody>\n",
       "    <tr>\n",
       "      <th>0</th>\n",
       "      <td>Досрочно закрывали вклады перед отпуском. Жена...</td>\n",
       "      <td>5.0</td>\n",
       "    </tr>\n",
       "    <tr>\n",
       "      <th>1</th>\n",
       "      <td>Хотел открыть вклад \"Доходный+\" под 19% год , ...</td>\n",
       "      <td>5.0</td>\n",
       "    </tr>\n",
       "    <tr>\n",
       "      <th>2</th>\n",
       "      <td>Вчера, 3 июня, просидев в очереди более 3-х ча...</td>\n",
       "      <td>5.0</td>\n",
       "    </tr>\n",
       "    <tr>\n",
       "      <th>3</th>\n",
       "      <td>Сегодня открывал вклад в этом банке. Очередь б...</td>\n",
       "      <td>5.0</td>\n",
       "    </tr>\n",
       "    <tr>\n",
       "      <th>4</th>\n",
       "      <td>Моя история получения кредита в Ренессанс Кред...</td>\n",
       "      <td>5.0</td>\n",
       "    </tr>\n",
       "  </tbody>\n",
       "</table>\n",
       "</div>"
      ],
      "text/plain": [
       "                                                text  rating_grade\n",
       "0  Досрочно закрывали вклады перед отпуском. Жена...           5.0\n",
       "1  Хотел открыть вклад \"Доходный+\" под 19% год , ...           5.0\n",
       "2  Вчера, 3 июня, просидев в очереди более 3-х ча...           5.0\n",
       "3  Сегодня открывал вклад в этом банке. Очередь б...           5.0\n",
       "4  Моя история получения кредита в Ренессанс Кред...           5.0"
      ]
     },
     "execution_count": 71,
     "metadata": {},
     "output_type": "execute_result"
    }
   ],
   "source": [
    "df5.head(5)"
   ]
  },
  {
   "cell_type": "code",
   "execution_count": 72,
   "id": "44437d0a",
   "metadata": {},
   "outputs": [
    {
     "name": "stdout",
     "output_type": "stream",
     "text": [
      "Parsing sentences...\n"
     ]
    },
    {
     "name": "stderr",
     "output_type": "stream",
     "text": [
      "100%|████████████████████████████████████████████████████████████████████████████| 14713/14713 [07:02<00:00, 34.84it/s]\n"
     ]
    }
   ],
   "source": [
    "#для всех отзывов с оценкой 5 проводим обратботку текста (ткоенизируем, удаляем лишние символы)\n",
    "sentences5 = []  \n",
    "print('Parsing sentences...')\n",
    "for review in tqdm(df5['text']):\n",
    "    sentences5.append(review_to_sentences(review, tokenizer, lemmatizer, True))"
   ]
  },
  {
   "cell_type": "code",
   "execution_count": 73,
   "id": "fcd7c19b",
   "metadata": {},
   "outputs": [
    {
     "name": "stdout",
     "output_type": "stream",
     "text": [
      "Parsing sentences...\n"
     ]
    },
    {
     "name": "stderr",
     "output_type": "stream",
     "text": [
      "100%|████████████████████████████████████████████████████████████████████████████| 47387/47387 [28:00<00:00, 28.20it/s]\n"
     ]
    }
   ],
   "source": [
    "sentences1 = []  \n",
    "print('Parsing sentences...')\n",
    "for review in tqdm(df1['text']):\n",
    "    sentences1.append(review_to_sentences(review, tokenizer, lemmatizer, True))"
   ]
  },
  {
   "cell_type": "code",
   "execution_count": 74,
   "id": "526da553",
   "metadata": {},
   "outputs": [],
   "source": [
    "#в sentence5 разбито на предолжения. мы группируем по отзывам. т.е. если в отзыве несколько предолжений, то объединяем в одну строку\n",
    "sent5 = []\n",
    "for i, review in enumerate(sentences5):\n",
    "    if len(review) > 1:\n",
    "        res = []\n",
    "        x = []\n",
    "        x = [sentence for sentence in review if sentence != []]\n",
    "        if x != []:\n",
    "            res = list(concatenate(x))\n",
    "    else:\n",
    "        res = review[0]\n",
    "    sent5.append(res)"
   ]
  },
  {
   "cell_type": "code",
   "execution_count": 75,
   "id": "37aa3c0b",
   "metadata": {},
   "outputs": [],
   "source": [
    "sent1 = []\n",
    "for i, review in enumerate(sentences1):\n",
    "    if len(review) > 1:\n",
    "        res = []\n",
    "        x = []\n",
    "        x = [sentence for sentence in review if sentence != []]\n",
    "        if x != []:\n",
    "            res = list(concatenate(x))\n",
    "    else:\n",
    "        res = review[0]\n",
    "    sent1.append(res)"
   ]
  },
  {
   "cell_type": "code",
   "execution_count": 76,
   "id": "2d15304d",
   "metadata": {},
   "outputs": [],
   "source": [
    "#заменим слово \"банка\" на \"банк\"\n",
    "for isent,sentence in enumerate(sent5):\n",
    "    for iword, word in enumerate(sentence):\n",
    "        if word == 'банка':\n",
    "            sent5[isent][iword] = 'банк'"
   ]
  },
  {
   "cell_type": "code",
   "execution_count": 77,
   "id": "585d1126",
   "metadata": {},
   "outputs": [],
   "source": [
    "for isent,sentence in enumerate(sent1):\n",
    "    for iword, word in enumerate(sentence):\n",
    "        if word == 'банка':\n",
    "            sent1[isent][iword] = 'банк'"
   ]
  },
  {
   "cell_type": "code",
   "execution_count": 78,
   "id": "884396f8",
   "metadata": {},
   "outputs": [],
   "source": [
    "dictionary5 = Dictionary(sent5)\n",
    "corpus5 = [dictionary5.doc2bow(text) for text in sent5]"
   ]
  },
  {
   "cell_type": "code",
   "execution_count": 79,
   "id": "eb9320b0",
   "metadata": {},
   "outputs": [],
   "source": [
    "dictionary1 = Dictionary(sent1)\n",
    "corpus1 = [dictionary1.doc2bow(text) for text in sent1]"
   ]
  },
  {
   "cell_type": "code",
   "execution_count": 80,
   "id": "3248b63d",
   "metadata": {},
   "outputs": [],
   "source": [
    "tfidf5 = TfidfModel(corpus5)\n",
    "corpus_tfidf5 = tfidf5[corpus5]"
   ]
  },
  {
   "cell_type": "code",
   "execution_count": 81,
   "id": "12055527",
   "metadata": {},
   "outputs": [],
   "source": [
    "def maxnIndSort(arr, dic, topn = 5):\n",
    "    ww = [w for i, w in arr]\n",
    "    ind = [i for i, w in arr]\n",
    "    max_indices = sorted(range(len(ww)), key=lambda i: ww[i], reverse=True)[:topn]\n",
    "    return [ind[i] for i in max_indices], [ww[i] for i in max_indices], [dic[ind[i]] for i in max_indices]"
   ]
  },
  {
   "cell_type": "markdown",
   "id": "35c5b26a",
   "metadata": {},
   "source": [
    "Ключевые слова для отзывов с рейтингом 5, полученных из модели tf-idf:\n",
    "\n"
   ]
  },
  {
   "cell_type": "code",
   "execution_count": 82,
   "id": "5587ac43",
   "metadata": {},
   "outputs": [
    {
     "name": "stdout",
     "output_type": "stream",
     "text": [
      "['ленсовет', 'озерко', 'прикрыть', 'доступность', 'нести']\n",
      "['доходный', 'вклад', 'взнос', 'снизить', 'первоначальный']\n",
      "['июнь', 'выплата', 'выгнать', 'спасть', 'наплыть']\n",
      "['какао', 'зав', 'наличие', 'туалет', 'затратить']\n",
      "['страховка', 'гигабайт', 'ммс', 'сроккредит', 'евт']\n",
      "['реструктуризация', 'неугодов', 'обрисовать', 'наталия', 'приглашение']\n",
      "['депозит', 'располагаться', 'размещать', 'руководитель', 'подразделение']\n",
      "['сетель', 'просрочить', 'регион', 'начислить', 'корректно']\n",
      "['настолько', 'мудрец', 'отрада', 'шлёнский', 'ярина']\n",
      "['георгий', 'тодуа', 'чужой', 'впадать', 'тимирязевский']\n",
      "['тикета', 'кошелёк', 'просить', 'оферта', 'владение']\n",
      "['плата', 'интерактивный', 'некачественный', 'поле', 'использование']\n",
      "['камышин', 'доставка', 'заказать', 'консультантка', 'однажды']\n",
      "['поменять', 'автовый', 'сравнение', 'паспорт', 'познаваться']\n",
      "['навстеча', 'начислиться', 'наступление', 'должник', 'тянуть']\n",
      "['балл', 'сбербанк', 'пароль', 'чек', 'идентификатор']\n",
      "['переход', 'ссылка', 'шоколадный', 'инет', 'заграницей']\n",
      "['анастасия', 'аверин', 'карман', 'согласиться', 'карта']\n",
      "['овердрафт', 'дебетовка', 'просрочить', 'мобайл', 'счёт']\n",
      "['переулок', 'электрический', 'операционный', 'тишинский', 'победный']\n"
     ]
    }
   ],
   "source": [
    "for i in range(20):\n",
    "    print(maxnIndSort(corpus_tfidf5[i], dictionary5, topn = 5)[2])"
   ]
  },
  {
   "cell_type": "code",
   "execution_count": 83,
   "id": "80e1ce9a",
   "metadata": {},
   "outputs": [
    {
     "data": {
      "text/plain": [
       "array(['Досрочно закрывали вклады перед отпуском. Жена заказывала заранее, но забыла заказать на меня. Сотрудник банка (СПБ Ленсовета 89) Наталья не отказала мне, хотя сумма значительная. Работает быстро, профессионально. Ничего лишнего. Жаль, что прикрыли прием вкладов в офисе Озерки - доступность офиса для меня. Заметил, что и несут деньги во вклады и берут кредиты. Желаю успехов банку.'],\n",
       "      dtype=object)"
      ]
     },
     "execution_count": 83,
     "metadata": {},
     "output_type": "execute_result"
    }
   ],
   "source": [
    "df5['text'].head(1).values"
   ]
  },
  {
   "cell_type": "markdown",
   "id": "4edacd07",
   "metadata": {},
   "source": [
    "Ключевые слова для отзывов с рейтингом 1, полученных из модели tf-idf"
   ]
  },
  {
   "cell_type": "code",
   "execution_count": 86,
   "id": "fde581df",
   "metadata": {},
   "outputs": [],
   "source": [
    "tfidf1 = TfidfModel(corpus1)\n",
    "corpus_tfidf1 = tfidf1[corpus1]"
   ]
  },
  {
   "cell_type": "code",
   "execution_count": 87,
   "id": "c4655d36",
   "metadata": {},
   "outputs": [
    {
     "name": "stdout",
     "output_type": "stream",
     "text": [
      "['доллар', 'курс', 'долларовый', 'операционист', 'риторический']\n",
      "['страховка', 'одобрить', 'страхование', 'самопроизвольно', 'сотрудник']\n",
      "['менежер', 'вклад', 'неизменность', 'приказывать', 'винтик']\n",
      "['капремонт', 'отчисление', 'внешний', 'лицевой', 'найти']\n",
      "['квитанция', 'расписаться', 'положить', 'уверенность', 'чапаевск']\n",
      "['бки', 'обновляться', 'тянуться', 'обновить', 'продолжение']\n",
      "['привелигировать', 'клуб', 'евровой', 'евровую', 'операционистка']\n",
      "['сытый', 'клерк', 'легко', 'репутация', 'заявлять']\n",
      "['тихвинский', 'двадцатый', 'оправдываться', 'привозить', 'долларовый']\n",
      "['терминал', 'симферопольский', 'стартовый', 'переключиться', 'рассмотрение']\n",
      "['техносёл', 'своевременный', 'молча', 'отказ', 'письмо']\n",
      "['терминал', 'вклад', 'пополнение', 'пополнить', 'тыс']\n",
      "['платёжный', 'связанный', 'минимизация', 'установить', 'эквайер']\n",
      "['развод', 'абсолютно', 'умирающий', 'средь', 'совдеповский']\n",
      "['операционистка', 'заказать', 'вклад', 'раздвижной', 'средневысокий']\n",
      "['отмена', 'карман', 'годовой', 'артериальный', 'бессонница']\n",
      "['ов', 'момент', 'задержка', 'ссылаться', 'уважение']\n",
      "['новость', 'соответсвенный', 'оповещение', 'платный', 'вынужденно']\n",
      "['актуально', 'строгинский', 'предложение', 'специальный', 'наехать']\n",
      "['перебивать', 'реквизит', 'оператор', 'перепровести', 'верный']\n"
     ]
    }
   ],
   "source": [
    "for i in range(20):\n",
    "    print(maxnIndSort(corpus_tfidf1[i], dictionary1, topn = 5)[2])"
   ]
  },
  {
   "cell_type": "code",
   "execution_count": 88,
   "id": "f1929b79",
   "metadata": {},
   "outputs": [
    {
     "data": {
      "text/plain": [
       "array(['Открыт вклад и счет в USD. Плюс к этому есть зарплатная карта, в рублях, само собой. Сегодня пришел в указанное отделение с целью пополнить долларовый счёт на 700 USD.\\xa0Дал операционисту паспорт, зарплатную карту (т.к. на окошке написано \"приготовьте карту для подтверждения операции\" или что-то подобное и в прошлый раз у меня ее потребовали) и сказал, что нужно положить деньги на ДОЛЛАРОВЫЙ счет.\\xa0Операционист всё взяла, что-то делала-крутила-вертела, вставила карту в терминал, сказала \"введите пин\", я ввёл пин, получил в ответ чек, где было написано, что доллары были внесены.... на счёт КАРТЫ! в РУБЛЯХ! Вопрос банку №1, риторический:  Я не понимаю, кем нужно быть, чтобы сознательно проводить такие операции??? за углом, меньше чем через квартал, курс приёма валюты выше почти на рубль! Если я действительно хотел совершить такую \"хитрую\" операцию, мне было выгоднее сделать 100 шагов и \"заработать\" на этом около 700 рублей, после чего просто внести рубли на счёт карты в банкомате! Далее...\\xa0 После долгих, около двух часов, выяснений отношений с операционистом и\\xa0(видимо)\\xa0ее начальником, их попыток отменить первую транзакцию и т.д. и т.п., мы \"сошлись\" на том, что мне компенсируют курсовую разницу между зачислением долларов на рублёвую карту (54,6 руб/доллар, со СЛОВ операциониста) и курсом покупки валюты (58,7 руб/доллар), я куплю за наличные те же 700 долларов и положу их на долларовый счёт. Также я попросил указать на чеке курс, по которому прошла первая транзакция (доллары на рублёвый счёт, 54,6) и поставить печать.\\xa0 Доллары поступили на счёт через 3 часа и по курсу (тадааам!) 54,38. Комиссия банка? или что это было?. Опять же, операционист не знает о комиссиях или курсах проведения операции? Вывод 1:  В итоге я потерял 2 часа времени, нервы и (фиг уж с ними) 154 рубля. Вывод 2:  другим клиентам: требуйте распечатки тех операций, которые собирается провести операционист ДО их проведения. Если бы не было \"высокотехнологичного\" подтверждения операции PIN\\'ом, а была обычная платёжка, всего этого можно было бы избежать. Вопрос банку №2, риторический:  \\xa0Сбер, когда вы будете брать на работу компетентных сотрудников? Которые способны думать или, хотя бы, слушать, что их просят сделать?'],\n",
       "      dtype=object)"
      ]
     },
     "execution_count": 88,
     "metadata": {},
     "output_type": "execute_result"
    }
   ],
   "source": [
    "df1['text'].head(1).values"
   ]
  },
  {
   "cell_type": "markdown",
   "id": "48bd6bf2",
   "metadata": {},
   "source": [
    "# Часть 2. Тематическое моделирование"
   ]
  },
  {
   "cell_type": "markdown",
   "id": "ab23a1eb",
   "metadata": {},
   "source": [
    "2.1 Тематические модели с разнм числом тем"
   ]
  },
  {
   "cell_type": "code",
   "execution_count": 89,
   "id": "2e5cdb01",
   "metadata": {},
   "outputs": [
    {
     "name": "stdout",
     "output_type": "stream",
     "text": [
      "Parsing sentences...\n"
     ]
    },
    {
     "name": "stderr",
     "output_type": "stream",
     "text": [
      "100%|████████████████████████████████████████████████████████████████████████████| 30000/30000 [16:27<00:00, 30.39it/s]\n"
     ]
    }
   ],
   "source": [
    "sentences_scored = []  \n",
    "print('Parsing sentences...')\n",
    "for review in tqdm(df_score['text'][:30000]):\n",
    "    sentences_scored.append(review_to_sentences(review, tokenizer, lemmatizer, True))"
   ]
  },
  {
   "cell_type": "code",
   "execution_count": 90,
   "id": "f290a1f4",
   "metadata": {},
   "outputs": [],
   "source": [
    "sent_scored = []\n",
    "for i, review in enumerate(sentences_scored):\n",
    "    if len(review) > 1:\n",
    "        res = []\n",
    "        x = []\n",
    "        x = [sentence for sentence in review if sentence != []]\n",
    "        if x != []:\n",
    "            res = list(concatenate(x))\n",
    "    else:\n",
    "        res = review[0]\n",
    "    sent_scored.append(res)"
   ]
  },
  {
   "cell_type": "code",
   "execution_count": 91,
   "id": "e9377915",
   "metadata": {},
   "outputs": [],
   "source": [
    "for isent, sentence in enumerate(sent_scored):\n",
    "    for iword, word in enumerate(sentence):\n",
    "        if word == 'банка':\n",
    "            sent_scored[isent][iword] = 'банк' "
   ]
  },
  {
   "cell_type": "code",
   "execution_count": 92,
   "id": "669ee4b7",
   "metadata": {},
   "outputs": [],
   "source": [
    "dictionary_scored = Dictionary(sent_scored)"
   ]
  },
  {
   "cell_type": "code",
   "execution_count": 93,
   "id": "e056b5b8",
   "metadata": {},
   "outputs": [
    {
     "data": {
      "text/plain": [
       "43409"
      ]
     },
     "execution_count": 93,
     "metadata": {},
     "output_type": "execute_result"
    }
   ],
   "source": [
    "len(dictionary_scored.token2id)"
   ]
  },
  {
   "cell_type": "code",
   "execution_count": 94,
   "id": "c6d6d245",
   "metadata": {},
   "outputs": [],
   "source": [
    "corpus_scored = [dictionary_scored.doc2bow(text) for text in sent_scored]"
   ]
  },
  {
   "cell_type": "markdown",
   "id": "7d8a58dc",
   "metadata": {},
   "source": [
    "Тематическая модель с 10ю словами:"
   ]
  },
  {
   "cell_type": "code",
   "execution_count": 95,
   "id": "2145aa28",
   "metadata": {},
   "outputs": [],
   "source": [
    "lda_model10 = LdaMulticore(corpus_scored, num_topics = 10, id2word = dictionary_scored, passes = 2, workers = 2)"
   ]
  },
  {
   "cell_type": "code",
   "execution_count": 96,
   "id": "4fc56505",
   "metadata": {},
   "outputs": [
    {
     "data": {
      "text/plain": [
       "[(0,\n",
       "  '0.035*\"банк\" + 0.021*\"карта\" + 0.014*\"номер\" + 0.012*\"звонок\" + 0.011*\"это\" + 0.010*\"телефон\" + 0.010*\"смс\" + 0.008*\"звонить\" + 0.008*\"мой\" + 0.007*\"сотрудник\"'),\n",
       " (1,\n",
       "  '0.039*\"карта\" + 0.037*\"банк\" + 0.016*\"счёт\" + 0.008*\"деньга\" + 0.008*\"который\" + 0.008*\"отделение\" + 0.008*\"это\" + 0.007*\"день\" + 0.006*\"клиент\" + 0.006*\"мой\"'),\n",
       " (2,\n",
       "  '0.030*\"банк\" + 0.014*\"документ\" + 0.013*\"договор\" + 0.009*\"день\" + 0.007*\"который\" + 0.007*\"г\" + 0.007*\"мой\" + 0.007*\"это\" + 0.006*\"сотрудник\" + 0.006*\"год\"'),\n",
       " (3,\n",
       "  '0.033*\"кредит\" + 0.032*\"банк\" + 0.017*\"сумма\" + 0.012*\"платёж\" + 0.010*\"договор\" + 0.010*\"сотрудник\" + 0.008*\"день\" + 0.008*\"это\" + 0.008*\"погашение\" + 0.008*\"кредитный\"'),\n",
       " (4,\n",
       "  '0.039*\"карта\" + 0.017*\"банк\" + 0.016*\"отделение\" + 0.011*\"сказать\" + 0.010*\"это\" + 0.009*\"сбербанк\" + 0.009*\"день\" + 0.009*\"мой\" + 0.008*\"заявление\" + 0.007*\"прийти\"'),\n",
       " (5,\n",
       "  '0.040*\"вклад\" + 0.023*\"банк\" + 0.014*\"деньга\" + 0.013*\"отделение\" + 0.012*\"открыть\" + 0.012*\"счёт\" + 0.010*\"очередь\" + 0.009*\"это\" + 0.008*\"офис\" + 0.007*\"операционист\"'),\n",
       " (6,\n",
       "  '0.027*\"деньга\" + 0.018*\"день\" + 0.015*\"банк\" + 0.014*\"банкомат\" + 0.012*\"карта\" + 0.007*\"платёж\" + 0.007*\"это\" + 0.007*\"счёт\" + 0.007*\"сказать\" + 0.007*\"мой\"'),\n",
       " (7,\n",
       "  '0.051*\"банк\" + 0.014*\"деньга\" + 0.010*\"карта\" + 0.010*\"это\" + 0.010*\"банкомат\" + 0.010*\"мой\" + 0.010*\"сотрудник\" + 0.009*\"день\" + 0.008*\"отделение\" + 0.007*\"заявление\"'),\n",
       " (8,\n",
       "  '0.029*\"банк\" + 0.015*\"клиент\" + 0.010*\"это\" + 0.009*\"сотрудник\" + 0.009*\"отделение\" + 0.009*\"очередь\" + 0.009*\"офис\" + 0.008*\"очень\" + 0.007*\"время\" + 0.007*\"вклад\"'),\n",
       " (9,\n",
       "  '0.035*\"банк\" + 0.017*\"мой\" + 0.009*\"сотрудник\" + 0.009*\"счёт\" + 0.009*\"средство\" + 0.008*\"день\" + 0.008*\"заявление\" + 0.007*\"который\" + 0.007*\"ответ\" + 0.007*\"обращение\"')]"
      ]
     },
     "execution_count": 96,
     "metadata": {},
     "output_type": "execute_result"
    }
   ],
   "source": [
    "lda_model10.print_topics(-1)"
   ]
  },
  {
   "cell_type": "markdown",
   "id": "aff9ba17",
   "metadata": {},
   "source": [
    "Тематическая модель с 20ю словами:"
   ]
  },
  {
   "cell_type": "code",
   "execution_count": 97,
   "id": "31c48c81",
   "metadata": {},
   "outputs": [],
   "source": [
    "lda_model8 = LdaMulticore(corpus_scored, num_topics = 8, id2word = dictionary_scored, passes = 2, workers = 2)"
   ]
  },
  {
   "cell_type": "code",
   "execution_count": 98,
   "id": "e6749e32",
   "metadata": {},
   "outputs": [
    {
     "data": {
      "text/plain": [
       "[(0,\n",
       "  '0.029*\"карта\" + 0.018*\"банк\" + 0.018*\"отделение\" + 0.013*\"день\" + 0.012*\"сказать\" + 0.011*\"сотрудник\" + 0.009*\"мой\" + 0.008*\"это\" + 0.008*\"который\" + 0.008*\"заявка\"'),\n",
       " (1,\n",
       "  '0.019*\"банк\" + 0.018*\"г\" + 0.015*\"договор\" + 0.015*\"платёж\" + 0.013*\"сумма\" + 0.012*\"счёт\" + 0.010*\"сбербанк\" + 0.009*\"средство\" + 0.009*\"погашение\" + 0.008*\"кредит\"'),\n",
       " (2,\n",
       "  '0.040*\"карта\" + 0.023*\"банк\" + 0.017*\"деньга\" + 0.014*\"банкомат\" + 0.011*\"день\" + 0.010*\"мой\" + 0.010*\"счёт\" + 0.009*\"заявление\" + 0.007*\"средство\" + 0.007*\"операция\"'),\n",
       " (3,\n",
       "  '0.027*\"банк\" + 0.013*\"сотрудник\" + 0.011*\"мой\" + 0.010*\"карта\" + 0.010*\"офис\" + 0.009*\"клиент\" + 0.009*\"который\" + 0.007*\"заявление\" + 0.007*\"отделение\" + 0.006*\"это\"'),\n",
       " (4,\n",
       "  '0.038*\"банк\" + 0.027*\"кредит\" + 0.010*\"сумма\" + 0.009*\"день\" + 0.009*\"договор\" + 0.009*\"сотрудник\" + 0.009*\"это\" + 0.008*\"кредитный\" + 0.008*\"который\" + 0.008*\"мой\"'),\n",
       " (5,\n",
       "  '0.039*\"банк\" + 0.021*\"деньга\" + 0.018*\"счёт\" + 0.011*\"это\" + 0.010*\"день\" + 0.008*\"платёж\" + 0.007*\"сумма\" + 0.007*\"вклад\" + 0.006*\"сказать\" + 0.006*\"мой\"'),\n",
       " (6,\n",
       "  '0.049*\"банк\" + 0.011*\"карта\" + 0.009*\"клиент\" + 0.008*\"номер\" + 0.008*\"звонок\" + 0.008*\"это\" + 0.008*\"мой\" + 0.007*\"вклад\" + 0.007*\"сотрудник\" + 0.006*\"который\"'),\n",
       " (7,\n",
       "  '0.019*\"банк\" + 0.013*\"отделение\" + 0.012*\"это\" + 0.011*\"клиент\" + 0.010*\"очередь\" + 0.008*\"карта\" + 0.008*\"вклад\" + 0.007*\"который\" + 0.007*\"время\" + 0.006*\"работать\"')]"
      ]
     },
     "execution_count": 98,
     "metadata": {},
     "output_type": "execute_result"
    }
   ],
   "source": [
    "lda_model8.print_topics(-1)"
   ]
  },
  {
   "cell_type": "markdown",
   "id": "54a24f83",
   "metadata": {},
   "source": [
    "Загрузим в модель LDA матрицу tf-idf, которая должна лучше выделить ключевые слова:"
   ]
  },
  {
   "cell_type": "code",
   "execution_count": 99,
   "id": "800e1b28",
   "metadata": {},
   "outputs": [],
   "source": [
    "tfidf_scored = TfidfModel(corpus_scored)\n",
    "corpus_scoredtfidf = tfidf_scored[corpus_scored]"
   ]
  },
  {
   "cell_type": "code",
   "execution_count": 100,
   "id": "a7b19b9b",
   "metadata": {},
   "outputs": [],
   "source": [
    "lda_model10tfidf = LdaMulticore(corpus_scoredtfidf, num_topics = 8, id2word = dictionary_scored, passes = 2, workers = 2)"
   ]
  },
  {
   "cell_type": "code",
   "execution_count": 101,
   "id": "6d7c3e2b",
   "metadata": {},
   "outputs": [
    {
     "data": {
      "text/plain": [
       "[(0,\n",
       "  '0.002*\"вклад\" + 0.002*\"очередь\" + 0.002*\"отделение\" + 0.002*\"мособлбанк\" + 0.001*\"деньга\" + 0.001*\"офис\" + 0.001*\"карта\" + 0.001*\"работать\" + 0.001*\"кредит\" + 0.001*\"сбербанк\"'),\n",
       " (1,\n",
       "  '0.001*\"раменский\" + 0.001*\"бегов\" + 0.001*\"рублёв\" + 0.001*\"карта\" + 0.001*\"выборгский\" + 0.001*\"птс\" + 0.001*\"суточный\" + 0.001*\"вклад\" + 0.001*\"неглинный\" + 0.000*\"стромынка\"'),\n",
       " (2,\n",
       "  '0.002*\"пай\" + 0.001*\"пиф\" + 0.001*\"ивановский\" + 0.001*\"новокузнецк\" + 0.001*\"поляна\" + 0.000*\"недостача\" + 0.000*\"третьяковский\" + 0.000*\"нарый\" + 0.000*\"лант\" + 0.000*\"эос\"'),\n",
       " (3,\n",
       "  '0.001*\"вклад\" + 0.001*\"балтика\" + 0.001*\"дельта\" + 0.001*\"мигом\" + 0.001*\"карта\" + 0.001*\"провайдер\" + 0.001*\"председатель\" + 0.001*\"деньга\" + 0.001*\"ростелеком\" + 0.001*\"астрахань\"'),\n",
       " (4,\n",
       "  '0.001*\"мыло\" + 0.001*\"нештатный\" + 0.001*\"реорганизация\" + 0.001*\"камчатский\" + 0.001*\"дзержинск\" + 0.001*\"строгино\" + 0.001*\"липецкий\" + 0.001*\"миллиард\" + 0.001*\"карина\" + 0.000*\"мультиварка\"'),\n",
       " (5,\n",
       "  '0.001*\"тыр\" + 0.001*\"чайковский\" + 0.001*\"подстава\" + 0.001*\"арбатский\" + 0.001*\"купчиный\" + 0.000*\"лермонтовский\" + 0.000*\"вдвойне\" + 0.000*\"дорогомиловский\" + 0.000*\"дубль\" + 0.000*\"бот\"'),\n",
       " (6,\n",
       "  '0.006*\"очередь\" + 0.006*\"вклад\" + 0.003*\"минута\" + 0.003*\"человек\" + 0.003*\"касса\" + 0.002*\"работать\" + 0.002*\"кошелёк\" + 0.002*\"офис\" + 0.002*\"киви\" + 0.002*\"час\"'),\n",
       " (7,\n",
       "  '0.005*\"карта\" + 0.003*\"кредит\" + 0.003*\"деньга\" + 0.003*\"заявление\" + 0.003*\"счёт\" + 0.002*\"сбербанк\" + 0.002*\"отделение\" + 0.002*\"банкомат\" + 0.002*\"вклад\" + 0.002*\"платёж\"')]"
      ]
     },
     "execution_count": 101,
     "metadata": {},
     "output_type": "execute_result"
    }
   ],
   "source": [
    "lda_model10tfidf.print_topics(-1)"
   ]
  },
  {
   "cell_type": "markdown",
   "id": "96cc3c0b",
   "metadata": {},
   "source": [
    "# Часть 3. Классификация текстов"
   ]
  },
  {
   "cell_type": "code",
   "execution_count": 102,
   "id": "acede2b7",
   "metadata": {},
   "outputs": [],
   "source": [
    "size_sample = 14700\n",
    "sample5 = sent5[:size_sample]\n",
    "sample1 = sent1[:size_sample]\n",
    "corpus_X = sample5 + sample1"
   ]
  },
  {
   "cell_type": "code",
   "execution_count": 103,
   "id": "e81a5e96",
   "metadata": {},
   "outputs": [],
   "source": [
    "y5 = [5 for i in range(len(sample5))]\n",
    "y1 = [1 for i in range(len(sample1))]\n",
    "y = y5 + y1"
   ]
  },
  {
   "cell_type": "code",
   "execution_count": 104,
   "id": "2d175628",
   "metadata": {},
   "outputs": [],
   "source": [
    "#пsent5 и sent1 уже токенизированы, но нам необходимо их опять склеить в строку, чтобы загрузить в BoW и tfidf\n",
    "sent51_joined = []\n",
    "sent51_joined = [' '.join(sentence) for sentence in corpus_X] "
   ]
  },
  {
   "cell_type": "code",
   "execution_count": 105,
   "id": "8be85827",
   "metadata": {},
   "outputs": [],
   "source": [
    "vectorizerCV1 = CountVectorizer(ngram_range=(1, 1))\n",
    "vectorizerCV2 = CountVectorizer(ngram_range=(2, 2))\n",
    "vectorizerCV3 = CountVectorizer(ngram_range=(3, 3))\n",
    "Xcv1 = vectorizerCV1.fit_transform(sent51_joined)\n",
    "Xcv2 = vectorizerCV2.fit_transform(sent51_joined)\n",
    "Xcv3 = vectorizerCV3.fit_transform(sent51_joined)"
   ]
  },
  {
   "cell_type": "code",
   "execution_count": 106,
   "id": "2ee36822",
   "metadata": {},
   "outputs": [],
   "source": [
    "X_train_cv1, X_test_cv1, y_train_cv1, y_test_cv1 = train_test_split(Xcv1, y, test_size=0.2, random_state=42, stratify=y)"
   ]
  },
  {
   "cell_type": "markdown",
   "id": "cf2cb1b3",
   "metadata": {},
   "source": [
    "Классификация текстов"
   ]
  },
  {
   "cell_type": "code",
   "execution_count": 108,
   "id": "a161703a",
   "metadata": {},
   "outputs": [
    {
     "name": "stderr",
     "output_type": "stream",
     "text": [
      "C:\\DS\\Anaconda\\lib\\site-packages\\sklearn\\linear_model\\_logistic.py:814: ConvergenceWarning: lbfgs failed to converge (status=1):\n",
      "STOP: TOTAL NO. of ITERATIONS REACHED LIMIT.\n",
      "\n",
      "Increase the number of iterations (max_iter) or scale the data as shown in:\n",
      "    https://scikit-learn.org/stable/modules/preprocessing.html\n",
      "Please also refer to the documentation for alternative solver options:\n",
      "    https://scikit-learn.org/stable/modules/linear_model.html#logistic-regression\n",
      "  n_iter_i = _check_optimize_result(\n"
     ]
    }
   ],
   "source": [
    "clf_cv1 = LogisticRegression(random_state=0).fit(X_train_cv1, y_train_cv1)\n"
   ]
  },
  {
   "cell_type": "code",
   "execution_count": 109,
   "id": "b754275e",
   "metadata": {},
   "outputs": [
    {
     "data": {
      "text/plain": [
       "0.95578231292517"
      ]
     },
     "execution_count": 109,
     "metadata": {},
     "output_type": "execute_result"
    }
   ],
   "source": [
    "clf_cv1.score(X_test_cv1, y_test_cv1)"
   ]
  },
  {
   "cell_type": "code",
   "execution_count": 110,
   "id": "57796008",
   "metadata": {},
   "outputs": [
    {
     "data": {
      "text/plain": [
       "0.8530612244897959"
      ]
     },
     "execution_count": 110,
     "metadata": {},
     "output_type": "execute_result"
    }
   ],
   "source": [
    "X_train_cv3, X_test_cv3, y_train_cv3, y_test_cv3 = train_test_split(Xcv3, y, test_size=0.2, random_state=42, stratify=y)\n",
    "clf_cv3 = LogisticRegression(random_state=0).fit(X_train_cv3, y_train_cv3)\n",
    "clf_cv3.score(X_test_cv3, y_test_cv3)"
   ]
  },
  {
   "cell_type": "markdown",
   "id": "30dbb332",
   "metadata": {},
   "source": [
    "Проверим резульаты для матрицы фичей, полученной с помощью tf-idf:"
   ]
  },
  {
   "cell_type": "code",
   "execution_count": 111,
   "id": "f2316ca7",
   "metadata": {},
   "outputs": [],
   "source": [
    "vectorizerTfidf1 = TfidfVectorizer(ngram_range=(1, 1))\n",
    "vectorizerTfidf2 = TfidfVectorizer(ngram_range=(2, 2))\n",
    "vectorizerTfidf3 = TfidfVectorizer(ngram_range=(3, 3))\n",
    "X_tfidf1 = vectorizerTfidf1.fit_transform(sent51_joined)\n",
    "X_tfidf2 = vectorizerTfidf2.fit_transform(sent51_joined)\n",
    "X_tfidf3 = vectorizerTfidf3.fit_transform(sent51_joined)"
   ]
  },
  {
   "cell_type": "code",
   "execution_count": 112,
   "id": "fd072c88",
   "metadata": {},
   "outputs": [
    {
     "data": {
      "text/plain": [
       "0.9596938775510204"
      ]
     },
     "execution_count": 112,
     "metadata": {},
     "output_type": "execute_result"
    }
   ],
   "source": [
    "X_train_tfidf1, X_test_tfidf1, y_train_tfidf1, y_test_tfidf1 = train_test_split(X_tfidf1, y, test_size=0.2, random_state=42, stratify=y)\n",
    "clf_tfidf1 = LogisticRegression(random_state=0).fit(X_train_tfidf1, y_train_tfidf1)\n",
    "clf_tfidf1.score(X_test_tfidf1, y_test_tfidf1)"
   ]
  },
  {
   "cell_type": "code",
   "execution_count": 113,
   "id": "2e6855dd",
   "metadata": {},
   "outputs": [
    {
     "data": {
      "text/plain": [
       "0.9280612244897959"
      ]
     },
     "execution_count": 113,
     "metadata": {},
     "output_type": "execute_result"
    }
   ],
   "source": [
    "X_train_tfidf2, X_test_tfidf2, y_train_tfidf2, y_test_tfidf2 = train_test_split(X_tfidf2, y, test_size=0.2, random_state=42, stratify=y)\n",
    "clf_tfidf2 = LogisticRegression(random_state=0).fit(X_train_tfidf2, y_train_tfidf2)\n",
    "clf_tfidf2.score(X_test_tfidf2, y_test_tfidf2)"
   ]
  },
  {
   "cell_type": "code",
   "execution_count": 114,
   "id": "3f706459",
   "metadata": {},
   "outputs": [
    {
     "data": {
      "text/plain": [
       "0.9545918367346938"
      ]
     },
     "execution_count": 114,
     "metadata": {},
     "output_type": "execute_result"
    }
   ],
   "source": [
    "vectorizerTfidf12 = TfidfVectorizer(ngram_range=(1, 2))\n",
    "X_tfidf12 = vectorizerTfidf12.fit_transform(sent51_joined)\n",
    "X_train_tfidf12, X_test_tfidf12, y_train_tfidf12, y_test_tfidf12 = train_test_split(X_tfidf12, y, test_size=0.2, random_state=42, stratify=y)\n",
    "clf_tfidf12 = LogisticRegression(random_state=0).fit(X_train_tfidf12, y_train_tfidf12)\n",
    "clf_tfidf12.score(X_test_tfidf12, y_test_tfidf12)"
   ]
  },
  {
   "cell_type": "markdown",
   "id": "8bcd40f1",
   "metadata": {},
   "source": [
    "Результат униграмм получился лучше, чем BoW, но не значительно. При ипоьлзовании би-,три-грамм результат становится хуже."
   ]
  },
  {
   "cell_type": "markdown",
   "id": "40fd3f93",
   "metadata": {},
   "source": [
    "Сравнение качества решения задач"
   ]
  },
  {
   "cell_type": "markdown",
   "id": "40ad369f",
   "metadata": {},
   "source": [
    "tf-idf и сингурялрное разложение"
   ]
  },
  {
   "cell_type": "code",
   "execution_count": 116,
   "id": "02529d9b",
   "metadata": {},
   "outputs": [],
   "source": [
    "svd_ng1cmp10 = TruncatedSVD(n_components=100, n_iter=7, random_state=42)\n",
    "X_svd_ng1cmp10= svd_ng1cmp10.fit_transform(X_tfidf1)"
   ]
  },
  {
   "cell_type": "code",
   "execution_count": 117,
   "id": "8805be0c",
   "metadata": {},
   "outputs": [
    {
     "data": {
      "text/plain": [
       "(29400, 100)"
      ]
     },
     "execution_count": 117,
     "metadata": {},
     "output_type": "execute_result"
    }
   ],
   "source": [
    "X_svd_ng1cmp10.shape"
   ]
  },
  {
   "cell_type": "code",
   "execution_count": 118,
   "id": "e5674789",
   "metadata": {},
   "outputs": [
    {
     "data": {
      "text/plain": [
       "(29400, 45950)"
      ]
     },
     "execution_count": 118,
     "metadata": {},
     "output_type": "execute_result"
    }
   ],
   "source": [
    "X_tfidf1.shape"
   ]
  },
  {
   "cell_type": "code",
   "execution_count": 119,
   "id": "c7c32175",
   "metadata": {},
   "outputs": [
    {
     "data": {
      "text/plain": [
       "0.9493197278911565"
      ]
     },
     "execution_count": 119,
     "metadata": {},
     "output_type": "execute_result"
    }
   ],
   "source": [
    "X_train_svd10, X_test_svd10, y_train_svd10, y_test_svd10 = train_test_split(X_svd_ng1cmp10, y, test_size=0.2, random_state=42, stratify=y)\n",
    "clf_svd10 = LogisticRegression(random_state=0).fit(X_train_svd10, y_train_svd10)\n",
    "clf_svd10.score(X_test_svd10, y_test_svd10)"
   ]
  },
  {
   "cell_type": "code",
   "execution_count": 120,
   "id": "e7d711be",
   "metadata": {},
   "outputs": [],
   "source": [
    "res_svd = []\n",
    "comp_iter = [10,30,60,100,200,300]\n",
    "for ncomp in comp_iter:\n",
    "    svd_ng1 = TruncatedSVD(n_components=ncomp, n_iter=7, random_state=42)\n",
    "    X_svd_ng1 = svd_ng1.fit_transform(X_tfidf1)\n",
    "    X_train_svd, X_test_svd, y_train_svd, y_test_svd = train_test_split(X_svd_ng1, y, test_size=0.2, random_state=42, stratify=y)\n",
    "    clf_svd = LogisticRegression(random_state=0).fit(X_train_svd, y_train_svd)\n",
    "    res_svd.append(clf_svd.score(X_test_svd, y_test_svd))"
   ]
  },
  {
   "cell_type": "code",
   "execution_count": 121,
   "id": "5a49153c",
   "metadata": {},
   "outputs": [
    {
     "name": "stdout",
     "output_type": "stream",
     "text": [
      "              precision    recall  f1-score   support\n",
      "\n",
      "           1       0.94      0.97      0.96      2940\n",
      "           5       0.97      0.94      0.95      2940\n",
      "\n",
      "    accuracy                           0.96      5880\n",
      "   macro avg       0.96      0.96      0.96      5880\n",
      "weighted avg       0.96      0.96      0.96      5880\n",
      "\n"
     ]
    }
   ],
   "source": [
    "y_pred_svd = clf_svd.predict(X_test_svd)\n",
    "target_names = ['Score 5', 'Score 1']\n",
    "print(classification_report(y_test_svd, y_pred_svd))"
   ]
  },
  {
   "cell_type": "code",
   "execution_count": 122,
   "id": "c026fcc5",
   "metadata": {},
   "outputs": [
    {
     "data": {
      "image/png": "[encoded data removed]",
      "text/plain": [
       "<Figure size 432x288 with 1 Axes>"
      ]
     },
     "metadata": {
      "needs_background": "light"
     },
     "output_type": "display_data"
    }
   ],
   "source": [
    "plt.title('Зависимость точности классификации от количества выделенных компонент в trunced SVD')\n",
    "plt.xlabel('n_component')\n",
    "plt.ylabel('Accuracy of Logistic regression classification on tSVD')\n",
    "plt.plot(comp_iter, res_svd)\n",
    "plt.show()"
   ]
  },
  {
   "cell_type": "markdown",
   "id": "ac18efb8",
   "metadata": {},
   "source": [
    "Вывод: уменьшив, количество фич с помощью сингурярного разложения truncated SVD, мы получили почти сходный результат, но модель будет работать быстрее. Уменьшение признаков с 46067 до 200 - в 230 раз. Пострадает интерпретируемость результатов. Увеличение количества итераций влияет на результат не значительно"
   ]
  },
  {
   "cell_type": "markdown",
   "id": "3bfa5001",
   "metadata": {},
   "source": [
    "tf-idf и тематические модели LDA"
   ]
  },
  {
   "cell_type": "code",
   "execution_count": 123,
   "id": "d3149ec6",
   "metadata": {},
   "outputs": [],
   "source": [
    "lda10 = LatentDirichletAllocation(n_components=10, random_state=42)\n",
    "X_lda10 = lda10.fit_transform(X_tfidf1)"
   ]
  },
  {
   "cell_type": "code",
   "execution_count": 124,
   "id": "8d6cc7cd",
   "metadata": {},
   "outputs": [
    {
     "data": {
      "text/plain": [
       "0.5491496598639456"
      ]
     },
     "execution_count": 124,
     "metadata": {},
     "output_type": "execute_result"
    }
   ],
   "source": [
    "X_train_lda10, X_test_lda10, y_train_lda10, y_test_lda10 = train_test_split(X_lda10, y, test_size=0.2, random_state=42, stratify=y)\n",
    "clf_lda10 = LogisticRegression(random_state=0).fit(X_train_lda10, y_train_lda10)\n",
    "clf_lda10.score(X_test_lda10, y_test_lda10)"
   ]
  },
  {
   "cell_type": "code",
   "execution_count": 125,
   "id": "096d0798",
   "metadata": {},
   "outputs": [],
   "source": [
    "res_lda = []\n",
    "comp_iter = [10,30,60,100,200,300]\n",
    "for ncomp in comp_iter:\n",
    "    lda = LatentDirichletAllocation(n_components=ncomp, random_state=42)\n",
    "    X_lda = lda.fit_transform(X_tfidf1)\n",
    "    X_train_lda, X_test_lda, y_train_lda, y_test_lda = train_test_split(X_lda, y, test_size=0.2, random_state=42, stratify=y)\n",
    "    clf_lda = LogisticRegression(random_state=0).fit(X_train_lda, y_train_lda)\n",
    "    res_lda.append(clf_lda.score(X_test_lda, y_test_lda))"
   ]
  },
  {
   "cell_type": "code",
   "execution_count": 126,
   "id": "4525daa0",
   "metadata": {},
   "outputs": [
    {
     "name": "stdout",
     "output_type": "stream",
     "text": [
      "              precision    recall  f1-score   support\n",
      "\n",
      "           1       0.79      0.78      0.79      2940\n",
      "           5       0.79      0.79      0.79      2940\n",
      "\n",
      "    accuracy                           0.79      5880\n",
      "   macro avg       0.79      0.79      0.79      5880\n",
      "weighted avg       0.79      0.79      0.79      5880\n",
      "\n"
     ]
    }
   ],
   "source": [
    "y_pred_lda = clf_lda.predict(X_test_lda)\n",
    "target_names = ['Score 5', 'Score 1']\n",
    "print(classification_report(y_test_lda, y_pred_lda))"
   ]
  },
  {
   "cell_type": "code",
   "execution_count": 127,
   "id": "6f9af665",
   "metadata": {},
   "outputs": [
    {
     "data": {
      "image/png": "[encoded data removed]",
      "text/plain": [
       "<Figure size 432x288 with 1 Axes>"
      ]
     },
     "metadata": {
      "needs_background": "light"
     },
     "output_type": "display_data"
    }
   ],
   "source": [
    "plt.title('Зависимость точности классификации от количества выделенных компонент в LDA')\n",
    "plt.xlabel('n_component')\n",
    "plt.ylabel('Accuracy of Logistic regression classification on LDA')\n",
    "plt.plot(comp_iter, res_lda)\n",
    "plt.show()"
   ]
  },
  {
   "cell_type": "markdown",
   "id": "79054e29",
   "metadata": {},
   "source": [
    "SVD работает гораздо быстрее, а резуьлтаты получаются лучше при прочих равных."
   ]
  }
 ],
 "metadata": {
  "kernelspec": {
   "display_name": "Python 3 (ipykernel)",
   "language": "python",
   "name": "python3"
  },
  "language_info": {
   "codemirror_mode": {
    "name": "ipython",
    "version": 3
   },
   "file_extension": ".py",
   "mimetype": "text/x-python",
   "name": "python",
   "nbconvert_exporter": "python",
   "pygments_lexer": "ipython3",
   "version": "3.9.12"
  }
 },
 "nbformat": 4,
 "nbformat_minor": 5
}
