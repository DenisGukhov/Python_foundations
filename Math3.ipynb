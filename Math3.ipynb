{
 "cells": [
  {
   "cell_type": "markdown",
   "metadata": {},
   "source": [
    "# Уровень 0"
   ]
  },
  {
   "cell_type": "code",
   "execution_count": 1,
   "metadata": {},
   "outputs": [],
   "source": [
    "import matplotlib.pyplot as plt\n",
    "import numpy as np\n",
    "from numpy import linalg as LA"
   ]
  },
  {
   "cell_type": "code",
   "execution_count": 2,
   "metadata": {},
   "outputs": [
    {
     "name": "stdout",
     "output_type": "stream",
     "text": [
      "[[1 0 0 0]\n",
      " [0 1 0 0]\n",
      " [0 0 1 0]\n",
      " [0 0 0 1]]\n"
     ]
    }
   ],
   "source": [
    "# a) Диагональная, ортогональная, но не единичная(!)\n",
    "# т.е. по диагонали искомой матрицы должны быть элементы, квадраты которых равны 1, но сами элементы не равны 1\n",
    "\n",
    "a1 = np.array([[-1, 0, 0, 0],\n",
    "               [0, -1, 0, 0],\n",
    "               [0, 0, 1, 0],\n",
    "               [0, 0, 0, -1]])\n",
    "print(a1 @ a1.T)"
   ]
  },
  {
   "cell_type": "markdown",
   "metadata": {},
   "source": [
    "b) Верхнетреугольная, ортогональная\\\n",
    "c) Нижнетреугольная, ортогональная"
   ]
  },
  {
   "cell_type": "code",
   "execution_count": 5,
   "metadata": {},
   "outputs": [],
   "source": [
    "# верхнетреугольная матрица — квадратная матрица, у которой все элементы ниже главной диагонали равны нулю\n",
    "# нижнетреугольная матрица — квадратная матрица, у которой все элементы выше главной диагонали равны нулю \n",
    "# в обоих случаях ( и в пункте \"b\" и в пункте \"c\") можно взять матрицу из предыдущего пункта \"а\" - она удовлетворяет условиям.\n",
    "a1 = np.array([[-1, 0, 0, 0],\n",
    "               [0, -1, 0, 0],\n",
    "               [0, 0, 1, 0],\n",
    "               [0, 0, 0, -1]])"
   ]
  },
  {
   "cell_type": "markdown",
   "metadata": {},
   "source": [
    "d) Матрица, у которой определитель = 1, и все элементы не равны 0"
   ]
  },
  {
   "cell_type": "code",
   "execution_count": 8,
   "metadata": {},
   "outputs": [
    {
     "data": {
      "text/plain": [
       "0.9999999999999987"
      ]
     },
     "execution_count": 8,
     "metadata": {},
     "output_type": "execute_result"
    }
   ],
   "source": [
    "a2 =  np.array([[1, 2, 3],\n",
    "                [0, 1, 4],\n",
    "               [5, 6, 0]])\n",
    "np.linalg.det(a2)"
   ]
  },
  {
   "cell_type": "code",
   "execution_count": null,
   "metadata": {},
   "outputs": [],
   "source": []
  },
  {
   "cell_type": "markdown",
   "metadata": {},
   "source": [
    "Найдите собственные значения и собственные вектора матриц:"
   ]
  },
  {
   "cell_type": "code",
   "execution_count": 9,
   "metadata": {},
   "outputs": [
    {
     "name": "stdout",
     "output_type": "stream",
     "text": [
      "[[2 2]\n",
      " [1 3]]\n"
     ]
    }
   ],
   "source": [
    "m = np.array([[2, 2],\n",
    "              [1, 3]])\n",
    "print(m)"
   ]
  },
  {
   "cell_type": "markdown",
   "metadata": {},
   "source": [
    "Решим уравнения:\n",
    "\n",
    "Итак\n",
    "\n",
    "2x + 2y = λx\n",
    "x + 3y = λy\n",
    "Или\n",
    "\n",
    "(2 - λ)x + 2y = 0\n",
    "x + (3 - λ)y = 0\n",
    "Тогда запишем характеристическое урванение:\n",
    "\n",
    "(2 - λ)(3 - λ) - 2 = 0\n",
    "или\n",
    "λ² - 5λ + 4 = 0\n",
    "\n",
    "\n",
    "Корни этого уравнения: λ1 = 1 и λ2 = 4\n",
    "\n",
    "Зная λ решаем еще несколько уравнений.\n",
    "Для λ1 = 1 имеем решение y = -0.5x, тогда вектор будет (-2, 1).\n",
    "Для λ2 = 4 имеем решение y = x, тогда вектор будет (1, 1)."
   ]
  },
  {
   "cell_type": "code",
   "execution_count": null,
   "metadata": {},
   "outputs": [],
   "source": []
  },
  {
   "cell_type": "markdown",
   "metadata": {},
   "source": [
    "# Уровень 1"
   ]
  },
  {
   "cell_type": "code",
   "execution_count": 11,
   "metadata": {},
   "outputs": [
    {
     "name": "stdout",
     "output_type": "stream",
     "text": [
      "[[1 2]\n",
      " [2 3]]\n"
     ]
    }
   ],
   "source": [
    "# Найдите спектральное разложение матрицы:\n",
    "\n",
    "m = np.array([[1, 2],\n",
    "              [2, 3]])\n",
    "print(m)"
   ]
  },
  {
   "cell_type": "code",
   "execution_count": null,
   "metadata": {},
   "outputs": [],
   "source": []
  },
  {
   "cell_type": "code",
   "execution_count": null,
   "metadata": {},
   "outputs": [],
   "source": []
  },
  {
   "cell_type": "code",
   "execution_count": null,
   "metadata": {},
   "outputs": [],
   "source": []
  }
 ],
 "metadata": {
  "kernelspec": {
   "display_name": "Python 3",
   "language": "python",
   "name": "python3"
  },
  "language_info": {
   "codemirror_mode": {
    "name": "ipython",
    "version": 3
   },
   "file_extension": ".py",
   "mimetype": "text/x-python",
   "name": "python",
   "nbconvert_exporter": "python",
   "pygments_lexer": "ipython3",
   "version": "3.8.5"
  }
 },
 "nbformat": 4,
 "nbformat_minor": 4
}
