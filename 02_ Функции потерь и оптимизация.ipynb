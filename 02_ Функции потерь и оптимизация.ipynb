{
 "cells": [
  {
   "cell_type": "code",
   "execution_count": 1,
   "id": "56b52699",
   "metadata": {},
   "outputs": [],
   "source": [
    "import numpy as np\n",
    "import pandas as pd\n",
    "from pandas import DataFrame\n",
    "from sklearn import datasets\n",
    "from sklearn.linear_model import LogisticRegression\n",
    "from sklearn.model_selection import train_test_split\n",
    "import matplotlib.pyplot as plt\n"
   ]
  },
  {
   "cell_type": "code",
   "execution_count": 2,
   "id": "4eb8c588",
   "metadata": {},
   "outputs": [],
   "source": [
    "iris = datasets.load_iris()"
   ]
  },
  {
   "cell_type": "code",
   "execution_count": 3,
   "id": "3b3757ac",
   "metadata": {},
   "outputs": [
    {
     "name": "stdout",
     "output_type": "stream",
     "text": [
      ".. _iris_dataset:\n",
      "\n",
      "Iris plants dataset\n",
      "--------------------\n",
      "\n",
      "**Data Set Characteristics:**\n",
      "\n",
      "    :Number of Instances: 150 (50 in each of three classes)\n",
      "    :Number of Attributes: 4 numeric, predictive attributes and the class\n",
      "    :Attribute Information:\n",
      "        - sepal length in cm\n",
      "        - sepal width in cm\n",
      "        - petal length in cm\n",
      "        - petal width in cm\n",
      "        - class:\n",
      "                - Iris-Setosa\n",
      "                - Iris-Versicolour\n",
      "                - Iris-Virginica\n",
      "                \n",
      "    :Summary Statistics:\n",
      "\n",
      "    ============== ==== ==== ======= ===== ====================\n",
      "                    Min  Max   Mean    SD   Class Correlation\n",
      "    ============== ==== ==== ======= ===== ====================\n",
      "    sepal length:   4.3  7.9   5.84   0.83    0.7826\n",
      "    sepal width:    2.0  4.4   3.05   0.43   -0.4194\n",
      "    petal length:   1.0  6.9   3.76   1.76    0.9490  (high!)\n",
      "    petal width:    0.1  2.5   1.20   0.76    0.9565  (high!)\n",
      "    ============== ==== ==== ======= ===== ====================\n",
      "\n",
      "    :Missing Attribute Values: None\n",
      "    :Class Distribution: 33.3% for each of 3 classes.\n",
      "    :Creator: R.A. Fisher\n",
      "    :Donor: Michael Marshall (MARSHALL%PLU@io.arc.nasa.gov)\n",
      "    :Date: July, 1988\n",
      "\n",
      "The famous Iris database, first used by Sir R.A. Fisher. The dataset is taken\n",
      "from Fisher's paper. Note that it's the same as in R, but not as in the UCI\n",
      "Machine Learning Repository, which has two wrong data points.\n",
      "\n",
      "This is perhaps the best known database to be found in the\n",
      "pattern recognition literature.  Fisher's paper is a classic in the field and\n",
      "is referenced frequently to this day.  (See Duda & Hart, for example.)  The\n",
      "data set contains 3 classes of 50 instances each, where each class refers to a\n",
      "type of iris plant.  One class is linearly separable from the other 2; the\n",
      "latter are NOT linearly separable from each other.\n",
      "\n",
      ".. topic:: References\n",
      "\n",
      "   - Fisher, R.A. \"The use of multiple measurements in taxonomic problems\"\n",
      "     Annual Eugenics, 7, Part II, 179-188 (1936); also in \"Contributions to\n",
      "     Mathematical Statistics\" (John Wiley, NY, 1950).\n",
      "   - Duda, R.O., & Hart, P.E. (1973) Pattern Classification and Scene Analysis.\n",
      "     (Q327.D83) John Wiley & Sons.  ISBN 0-471-22361-1.  See page 218.\n",
      "   - Dasarathy, B.V. (1980) \"Nosing Around the Neighborhood: A New System\n",
      "     Structure and Classification Rule for Recognition in Partially Exposed\n",
      "     Environments\".  IEEE Transactions on Pattern Analysis and Machine\n",
      "     Intelligence, Vol. PAMI-2, No. 1, 67-71.\n",
      "   - Gates, G.W. (1972) \"The Reduced Nearest Neighbor Rule\".  IEEE Transactions\n",
      "     on Information Theory, May 1972, 431-433.\n",
      "   - See also: 1988 MLC Proceedings, 54-64.  Cheeseman et al\"s AUTOCLASS II\n",
      "     conceptual clustering system finds 3 classes in the data.\n",
      "   - Many, many more ...\n"
     ]
    }
   ],
   "source": [
    "print(iris.DESCR)"
   ]
  },
  {
   "cell_type": "code",
   "execution_count": 16,
   "id": "eb6613e2",
   "metadata": {},
   "outputs": [],
   "source": [
    "df_iris = DataFrame(iris.data)\n",
    "df_iris.columns = iris.feature_names\n",
    "df_iris['target'] = iris.target\n",
    "df_iris['name'] = df_iris.target.apply(lambda x : iris.target_names[x])"
   ]
  },
  {
   "cell_type": "code",
   "execution_count": 17,
   "id": "8ce83d0b",
   "metadata": {},
   "outputs": [
    {
     "data": {
      "text/html": [
       "<div>\n",
       "<style scoped>\n",
       "    .dataframe tbody tr th:only-of-type {\n",
       "        vertical-align: middle;\n",
       "    }\n",
       "\n",
       "    .dataframe tbody tr th {\n",
       "        vertical-align: top;\n",
       "    }\n",
       "\n",
       "    .dataframe thead th {\n",
       "        text-align: right;\n",
       "    }\n",
       "</style>\n",
       "<table border=\"1\" class=\"dataframe\">\n",
       "  <thead>\n",
       "    <tr style=\"text-align: right;\">\n",
       "      <th></th>\n",
       "      <th>sepal length (cm)</th>\n",
       "      <th>sepal width (cm)</th>\n",
       "      <th>petal length (cm)</th>\n",
       "      <th>petal width (cm)</th>\n",
       "      <th>target</th>\n",
       "      <th>name</th>\n",
       "    </tr>\n",
       "  </thead>\n",
       "  <tbody>\n",
       "    <tr>\n",
       "      <th>0</th>\n",
       "      <td>5.1</td>\n",
       "      <td>3.5</td>\n",
       "      <td>1.4</td>\n",
       "      <td>0.2</td>\n",
       "      <td>0</td>\n",
       "      <td>setosa</td>\n",
       "    </tr>\n",
       "    <tr>\n",
       "      <th>1</th>\n",
       "      <td>4.9</td>\n",
       "      <td>3.0</td>\n",
       "      <td>1.4</td>\n",
       "      <td>0.2</td>\n",
       "      <td>0</td>\n",
       "      <td>setosa</td>\n",
       "    </tr>\n",
       "    <tr>\n",
       "      <th>2</th>\n",
       "      <td>4.7</td>\n",
       "      <td>3.2</td>\n",
       "      <td>1.3</td>\n",
       "      <td>0.2</td>\n",
       "      <td>0</td>\n",
       "      <td>setosa</td>\n",
       "    </tr>\n",
       "    <tr>\n",
       "      <th>3</th>\n",
       "      <td>4.6</td>\n",
       "      <td>3.1</td>\n",
       "      <td>1.5</td>\n",
       "      <td>0.2</td>\n",
       "      <td>0</td>\n",
       "      <td>setosa</td>\n",
       "    </tr>\n",
       "    <tr>\n",
       "      <th>4</th>\n",
       "      <td>5.0</td>\n",
       "      <td>3.6</td>\n",
       "      <td>1.4</td>\n",
       "      <td>0.2</td>\n",
       "      <td>0</td>\n",
       "      <td>setosa</td>\n",
       "    </tr>\n",
       "  </tbody>\n",
       "</table>\n",
       "</div>"
      ],
      "text/plain": [
       "   sepal length (cm)  sepal width (cm)  petal length (cm)  petal width (cm)  \\\n",
       "0                5.1               3.5                1.4               0.2   \n",
       "1                4.9               3.0                1.4               0.2   \n",
       "2                4.7               3.2                1.3               0.2   \n",
       "3                4.6               3.1                1.5               0.2   \n",
       "4                5.0               3.6                1.4               0.2   \n",
       "\n",
       "   target    name  \n",
       "0       0  setosa  \n",
       "1       0  setosa  \n",
       "2       0  setosa  \n",
       "3       0  setosa  \n",
       "4       0  setosa  "
      ]
     },
     "execution_count": 17,
     "metadata": {},
     "output_type": "execute_result"
    }
   ],
   "source": [
    "df_iris.head()"
   ]
  },
  {
   "cell_type": "markdown",
   "id": "659d1fb9",
   "metadata": {},
   "source": [
    "Оставляем два класса:"
   ]
  },
  {
   "cell_type": "code",
   "execution_count": 18,
   "id": "046f9aa6",
   "metadata": {},
   "outputs": [
    {
     "data": {
      "text/html": [
       "<div>\n",
       "<style scoped>\n",
       "    .dataframe tbody tr th:only-of-type {\n",
       "        vertical-align: middle;\n",
       "    }\n",
       "\n",
       "    .dataframe tbody tr th {\n",
       "        vertical-align: top;\n",
       "    }\n",
       "\n",
       "    .dataframe thead th {\n",
       "        text-align: right;\n",
       "    }\n",
       "</style>\n",
       "<table border=\"1\" class=\"dataframe\">\n",
       "  <thead>\n",
       "    <tr style=\"text-align: right;\">\n",
       "      <th></th>\n",
       "      <th>sepal length (cm)</th>\n",
       "      <th>sepal width (cm)</th>\n",
       "      <th>petal length (cm)</th>\n",
       "      <th>petal width (cm)</th>\n",
       "      <th>target</th>\n",
       "      <th>name</th>\n",
       "    </tr>\n",
       "  </thead>\n",
       "  <tbody>\n",
       "    <tr>\n",
       "      <th>50</th>\n",
       "      <td>7.0</td>\n",
       "      <td>3.2</td>\n",
       "      <td>4.7</td>\n",
       "      <td>1.4</td>\n",
       "      <td>1</td>\n",
       "      <td>versicolor</td>\n",
       "    </tr>\n",
       "    <tr>\n",
       "      <th>51</th>\n",
       "      <td>6.4</td>\n",
       "      <td>3.2</td>\n",
       "      <td>4.5</td>\n",
       "      <td>1.5</td>\n",
       "      <td>1</td>\n",
       "      <td>versicolor</td>\n",
       "    </tr>\n",
       "    <tr>\n",
       "      <th>52</th>\n",
       "      <td>6.9</td>\n",
       "      <td>3.1</td>\n",
       "      <td>4.9</td>\n",
       "      <td>1.5</td>\n",
       "      <td>1</td>\n",
       "      <td>versicolor</td>\n",
       "    </tr>\n",
       "    <tr>\n",
       "      <th>53</th>\n",
       "      <td>5.5</td>\n",
       "      <td>2.3</td>\n",
       "      <td>4.0</td>\n",
       "      <td>1.3</td>\n",
       "      <td>1</td>\n",
       "      <td>versicolor</td>\n",
       "    </tr>\n",
       "    <tr>\n",
       "      <th>54</th>\n",
       "      <td>6.5</td>\n",
       "      <td>2.8</td>\n",
       "      <td>4.6</td>\n",
       "      <td>1.5</td>\n",
       "      <td>1</td>\n",
       "      <td>versicolor</td>\n",
       "    </tr>\n",
       "  </tbody>\n",
       "</table>\n",
       "</div>"
      ],
      "text/plain": [
       "    sepal length (cm)  sepal width (cm)  petal length (cm)  petal width (cm)  \\\n",
       "50                7.0               3.2                4.7               1.4   \n",
       "51                6.4               3.2                4.5               1.5   \n",
       "52                6.9               3.1                4.9               1.5   \n",
       "53                5.5               2.3                4.0               1.3   \n",
       "54                6.5               2.8                4.6               1.5   \n",
       "\n",
       "    target        name  \n",
       "50       1  versicolor  \n",
       "51       1  versicolor  \n",
       "52       1  versicolor  \n",
       "53       1  versicolor  \n",
       "54       1  versicolor  "
      ]
     },
     "execution_count": 18,
     "metadata": {},
     "output_type": "execute_result"
    }
   ],
   "source": [
    "df_iris_1 = df_iris[df_iris.target != 0] \n",
    "\n",
    "df_iris_1.head()"
   ]
  },
  {
   "cell_type": "markdown",
   "id": "54d2a826",
   "metadata": {},
   "source": [
    "# Градиентный спуск"
   ]
  },
  {
   "cell_type": "code",
   "execution_count": null,
   "id": "a8813927",
   "metadata": {},
   "outputs": [],
   "source": []
  },
  {
   "cell_type": "code",
   "execution_count": 19,
   "id": "fc6c0016",
   "metadata": {},
   "outputs": [
    {
     "name": "stdout",
     "output_type": "stream",
     "text": [
      "[0 0 0 0 0 0 0 0 0 0 0 0 0 0 0 0 0 0 0 0 0 0 0 0 0 0 0 0 0 0 0 0 0 0 0 0 0\n",
      " 0 0 0 0 0 0 0 0 0 0 0 0 0 1 1 1 1 1 1 1 1 1 1 1 1 1 1 1 1 1 1 1 1 1 1 1 1\n",
      " 1 1 1 1 1 1 1 1 1 1 1 1 1 1 1 1 1 1 1 1 1 1 1 1 1 1]\n"
     ]
    }
   ],
   "source": [
    "X = []\n",
    "y = []\n",
    "for idx, item in enumerate(iris.target):\n",
    "    if item != 0:\n",
    "        X.append(iris.data[idx])\n",
    "        y.append(item-1)\n",
    "\n",
    "X = np.asarray(X)\n",
    "y = np.asarray(y)\n",
    "print(y)"
   ]
  },
  {
   "cell_type": "code",
   "execution_count": 20,
   "id": "6e469a03",
   "metadata": {},
   "outputs": [],
   "source": [
    "def predict(coefs, X):\n",
    "    predict = coefs[0] + coefs[1] * X[:, 0] + coefs[2] * X[:, 1] + coefs[3] * X[:, 2] + coefs[4] * X[:, 3]\n",
    "    sigm = 1. / (1 + np.exp(-predict))\n",
    "    return sigm"
   ]
  },
  {
   "cell_type": "code",
   "execution_count": null,
   "id": "fd650140",
   "metadata": {},
   "outputs": [],
   "source": []
  },
  {
   "cell_type": "code",
   "execution_count": 21,
   "id": "0c2fa271",
   "metadata": {},
   "outputs": [
    {
     "name": "stdout",
     "output_type": "stream",
     "text": [
      "[ 0.66963899 -0.53203818  0.39126919  1.22274523 -1.04595505]\n"
     ]
    }
   ],
   "source": [
    "lr = 0.05\n",
    "coefs = []\n",
    "coefs = np.random.normal(size=(5,))\n",
    "print(coefs)\n",
    "grad_loss_hist = []\n",
    "for i in range(100):\n",
    "    sigm = predict(coefs, X)\n",
    "    coefs[0] -= lr * np.sum(sigm - y)/len(sigm)\n",
    "    coefs[1] -= lr * np.sum((sigm - y) * X[:, 0])/len(sigm)\n",
    "    coefs[2] -= lr * np.sum((sigm - y) * X[:, 1])/len(sigm)\n",
    "    coefs[3] -= lr * np.sum((sigm - y) * X[:, 2])/len(sigm)\n",
    "    coefs[4] -= lr * np.sum((sigm - y) * X[:, 3])/len(sigm)\n",
    "    loss = - np.mean(np.log(sigm) * y + np.log(1 - sigm) * (1 - y))\n",
    "    #print(coefs)\n",
    "    grad_loss_hist.append(loss)"
   ]
  },
  {
   "cell_type": "code",
   "execution_count": 22,
   "id": "962e6433",
   "metadata": {},
   "outputs": [
    {
     "data": {
      "text/plain": [
       "16"
      ]
     },
     "execution_count": 22,
     "metadata": {},
     "output_type": "execute_result"
    }
   ],
   "source": [
    "err1 = 0\n",
    "for idx, item in enumerate(np.around(predict(coefs, X))):\n",
    "    if item != y[idx]:\n",
    "        err1 += 1\n",
    "err1"
   ]
  },
  {
   "cell_type": "markdown",
   "id": "82cc9630",
   "metadata": {},
   "source": [
    "# Метод RMSProp"
   ]
  },
  {
   "cell_type": "code",
   "execution_count": 23,
   "id": "6aa12a3c",
   "metadata": {},
   "outputs": [
    {
     "name": "stdout",
     "output_type": "stream",
     "text": [
      "[ 0.46119414 -1.09329761  0.02076599  1.52778    -0.6160565 ]\n"
     ]
    }
   ],
   "source": [
    "# обучение модели методом RMSProp\n",
    "e_sq_grad = np.zeros(5)\n",
    "grad = np.zeros(5)\n",
    "print(coefs)\n",
    "rmsp_loss_hist = []\n",
    "gamma = 0.975\n",
    "eps = 0.00000001\n",
    "for i in range(100):\n",
    "    sigm = predict(coefs, X)\n",
    "    loss = - np.mean(np.log(sigm) * y + np.log(1 - sigm) * (1 - y))\n",
    "    rmsp_loss_hist.append(loss)\n",
    "    grad[0] = np.sum(sigm - y)/len(sigm)\n",
    "    grad[1] = np.sum((sigm - y) * X[:, 0])/len(sigm)\n",
    "    grad[2] = np.sum((sigm - y) * X[:, 1])/len(sigm)\n",
    "    grad[3] = np.sum((sigm - y) * X[:, 2])/len(sigm)\n",
    "    grad[4] = np.sum((sigm - y) * X[:, 3])/len(sigm)\n",
    "    \n",
    "    e_sq_grad = gamma * e_sq_grad + (1 - gamma)  * grad ** 2\n",
    "    \n",
    "    coefs -= lr * grad / np.sqrt(e_sq_grad + eps)\n",
    "    #print(coefs)"
   ]
  },
  {
   "cell_type": "code",
   "execution_count": 24,
   "id": "07d9e8e3",
   "metadata": {},
   "outputs": [
    {
     "data": {
      "text/plain": [
       "5"
      ]
     },
     "execution_count": 24,
     "metadata": {},
     "output_type": "execute_result"
    }
   ],
   "source": [
    "# количество ошибок при классификации\n",
    "err2 = 0\n",
    "for idx, item in enumerate(np.around(predict(coefs, X))):\n",
    "    if item != y[idx]:\n",
    "        err2 += 1\n",
    "err2"
   ]
  },
  {
   "cell_type": "markdown",
   "id": "98f34444",
   "metadata": {},
   "source": [
    "# Метод nesterov momentum"
   ]
  },
  {
   "cell_type": "code",
   "execution_count": 25,
   "id": "befd9249",
   "metadata": {},
   "outputs": [
    {
     "name": "stdout",
     "output_type": "stream",
     "text": [
      "[-1.07529465 -1.71590111 -0.92952653  2.48729444  1.62380897]\n"
     ]
    }
   ],
   "source": [
    "vel_pred = np.zeros(5)\n",
    "vel = np.zeros(5)\n",
    "print(coefs)\n",
    "nest_loss_hist = []\n",
    "gamma = 0.975\n",
    "for i in range(100):\n",
    "    sigm = predict(coefs, X)\n",
    "    loss = - np.mean(np.log(sigm) * y + np.log(1 - sigm) * (1 - y))\n",
    "    nest_loss_hist.append(loss)\n",
    "    \n",
    "    sigm = predict(coefs - gamma * vel_pred, X)\n",
    "    \n",
    "    vel[0] = (gamma * vel_pred[0] + lr * np.sum(sigm - y))/len(sigm)\n",
    "    vel[1] = (gamma * vel_pred[1] + lr * np.sum((sigm - y) * X[:, 0]))/len(sigm)\n",
    "    vel[2] = (gamma * vel_pred[2] + lr * np.sum((sigm - y) * X[:, 1]))/len(sigm)\n",
    "    vel[3] = (gamma * vel_pred[3] + lr * np.sum((sigm - y) * X[:, 2]))/len(sigm)\n",
    "    vel[4] = (gamma * vel_pred[4] + lr * np.sum((sigm - y) * X[:, 3]))/len(sigm)\n",
    "    coefs -= vel\n",
    "    #print(coefs)\n",
    "\n",
    "    vel_pred = vel"
   ]
  },
  {
   "cell_type": "code",
   "execution_count": 26,
   "id": "b55fc358",
   "metadata": {},
   "outputs": [
    {
     "data": {
      "text/plain": [
       "4"
      ]
     },
     "execution_count": 26,
     "metadata": {},
     "output_type": "execute_result"
    }
   ],
   "source": [
    "err3 = 0\n",
    "for idx, item in enumerate(np.around(predict(coefs, X))):\n",
    "    if item != y[idx]:\n",
    "        err3 += 1\n",
    "err3"
   ]
  },
  {
   "cell_type": "code",
   "execution_count": 27,
   "id": "81b366d6",
   "metadata": {},
   "outputs": [
    {
     "data": {
      "text/html": [
       "<div>\n",
       "<style scoped>\n",
       "    .dataframe tbody tr th:only-of-type {\n",
       "        vertical-align: middle;\n",
       "    }\n",
       "\n",
       "    .dataframe tbody tr th {\n",
       "        vertical-align: top;\n",
       "    }\n",
       "\n",
       "    .dataframe thead th {\n",
       "        text-align: right;\n",
       "    }\n",
       "</style>\n",
       "<table border=\"1\" class=\"dataframe\">\n",
       "  <thead>\n",
       "    <tr style=\"text-align: right;\">\n",
       "      <th></th>\n",
       "      <th>model#</th>\n",
       "      <th>error</th>\n",
       "    </tr>\n",
       "  </thead>\n",
       "  <tbody>\n",
       "    <tr>\n",
       "      <th>0</th>\n",
       "      <td>Градиентный спуск</td>\n",
       "      <td>16</td>\n",
       "    </tr>\n",
       "    <tr>\n",
       "      <th>1</th>\n",
       "      <td>RMSProp</td>\n",
       "      <td>5</td>\n",
       "    </tr>\n",
       "    <tr>\n",
       "      <th>2</th>\n",
       "      <td>nesterov momentum</td>\n",
       "      <td>4</td>\n",
       "    </tr>\n",
       "  </tbody>\n",
       "</table>\n",
       "</div>"
      ],
      "text/plain": [
       "              model#  error\n",
       "0  Градиентный спуск     16\n",
       "1            RMSProp      5\n",
       "2  nesterov momentum      4"
      ]
     },
     "execution_count": 27,
     "metadata": {},
     "output_type": "execute_result"
    }
   ],
   "source": [
    "m = ['Градиентный спуск', 'RMSProp', 'nesterov momentum']\n",
    "\n",
    "error = [err1, err2, err3] \n",
    "\n",
    "data = pd.DataFrame({'model#': m, \n",
    "                     'error': error\n",
    "                    \n",
    "                    }                                      \n",
    "                   )\n",
    "data.head(3)"
   ]
  },
  {
   "cell_type": "markdown",
   "id": "cc396cdd",
   "metadata": {},
   "source": [
    "Исходя из количества ошибок Нестеров моментум показал наилучший результат."
   ]
  },
  {
   "cell_type": "code",
   "execution_count": null,
   "id": "2010b377",
   "metadata": {},
   "outputs": [],
   "source": []
  },
  {
   "cell_type": "code",
   "execution_count": null,
   "id": "35ce1980",
   "metadata": {},
   "outputs": [],
   "source": []
  },
  {
   "cell_type": "code",
   "execution_count": null,
   "id": "f4f1e3f1",
   "metadata": {},
   "outputs": [],
   "source": []
  }
 ],
 "metadata": {
  "kernelspec": {
   "display_name": "Python 3",
   "language": "python",
   "name": "python3"
  },
  "language_info": {
   "codemirror_mode": {
    "name": "ipython",
    "version": 3
   },
   "file_extension": ".py",
   "mimetype": "text/x-python",
   "name": "python",
   "nbconvert_exporter": "python",
   "pygments_lexer": "ipython3",
   "version": "3.8.8"
  }
 },
 "nbformat": 4,
 "nbformat_minor": 5
}
