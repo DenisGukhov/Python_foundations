{
 "cells": [
  {
   "cell_type": "code",
   "execution_count": 26,
   "metadata": {},
   "outputs": [
    {
     "name": "stdout",
     "output_type": "stream",
     "text": [
      "Введите фразу 1 \n",
      "Введите фразу 2 \n",
      "фразы равны\n"
     ]
    }
   ],
   "source": [
    "phrase_1 = input (\"Введите фразу 1 \")\n",
    "phrase_2 = input (\"Введите фразу 2 \")\n",
    "if len (phrase_1) == len (phrase_2):\n",
    "    print (\"фразы равны\")\n",
    "elif len (phrase_1) > len (phrase_2):\n",
    "    print (\"фраза 1 длиннее\")\n",
    "else:\n",
    "    print (\"фраза 2 длиннее\")"
   ]
  },
  {
   "cell_type": "markdown",
   "metadata": {},
   "source": [
    "Високосный год"
   ]
  },
  {
   "cell_type": "code",
   "execution_count": 28,
   "metadata": {
    "scrolled": true
   },
   "outputs": [
    {
     "name": "stdout",
     "output_type": "stream",
     "text": [
      "Введите год 2200\n",
      "високосный год\n"
     ]
    }
   ],
   "source": [
    "year = int ( input (\"Введите год \"))\n",
    "if year % 4 == 0:\n",
    "   print (\"високосный год\")\n",
    "else:\n",
    "    print (\"не високосный год\")"
   ]
  },
  {
   "cell_type": "markdown",
   "metadata": {},
   "source": [
    "Коробка"
   ]
  },
  {
   "cell_type": "code",
   "execution_count": 30,
   "metadata": {},
   "outputs": [
    {
     "name": "stdout",
     "output_type": "stream",
     "text": [
      "Введите ширину, см 15\n",
      "Введите длину, см  15\n",
      "Введите высоту, см  15\n",
      "Коробка №2\n"
     ]
    }
   ],
   "source": [
    "width = int ( input (\"Введите ширину, см \"))\n",
    "length = int ( input (\"Введите длину, см  \"))\n",
    "height = int ( input (\"Введите высоту, см  \"))\n",
    "if width < 15 and length < 15 and height < 15:\n",
    "    print (\"Коробка №1\")\n",
    "elif width < 50 and length < 50 and height < 50:\n",
    "    print (\"Коробка №2\")\n",
    "elif width > 200 or length > 200 or height > 200:\n",
    "    print (\"Упаковка для лыж\")\n",
    "else:\n",
    "    print (\"Стандартная коробка №3\")"
   ]
  },
  {
   "cell_type": "markdown",
   "metadata": {},
   "source": [
    "Билет"
   ]
  },
  {
   "cell_type": "code",
   "execution_count": 41,
   "metadata": {},
   "outputs": [
    {
     "name": "stdout",
     "output_type": "stream",
     "text": [
      "Введите № билета 123456\n",
      "Нечастливый билет\n"
     ]
    }
   ],
   "source": [
    "ticket = int ( input (\"Введите № билета \"))\n",
    "string = str ( ticket )\n",
    "if int ( string [0] ) + int ( string [1] ) + int ( string [2] ) == int ( string [3] ) + int ( string [4] ) + int ( string [5] ):\n",
    "    print (\"Счастливый билет\")\n",
    "else:\n",
    "    print (\"Нечастливый билет\")"
   ]
  },
  {
   "cell_type": "markdown",
   "metadata": {},
   "source": [
    "Площадь фигур"
   ]
  },
  {
   "cell_type": "code",
   "execution_count": 16,
   "metadata": {},
   "outputs": [
    {
     "name": "stdout",
     "output_type": "stream",
     "text": [
      "Выберете тип фигуры, площадь которой хотите узнать. Круг - 0, Треугоольник (прямоугольный) - 1. Прямоугольник - 2 0\n",
      "Введите радиус, см 10\n",
      "Площадь круга =  314.0 см2\n"
     ]
    }
   ],
   "source": [
    "figure_type = int ( input (\"Выберете тип фигуры, площадь которой хотите узнать. Круг - 0, Треугоольник (прямоугольный) - 1. Прямоугольник - 2 \"))\n",
    "if figure_type == 0:\n",
    "    radius = int ( input (\"Введите радиус, см \"))\n",
    "    print (\"Площадь круга = \", 3.14*radius * radius, \"см2\")\n",
    "elif figure_type == 1:\n",
    "    width = int ( input (\"Введите значения катета 1, см \"))\n",
    "    length = int ( input (\"Введите значение катетам 2, см  \"))\n",
    "    print (\"Площадь треугольника = \", 0.5*width*length, \"см2\")\n",
    "elif figure_type == 2:\n",
    "    width = int ( input (\"Введите ширину, см \"))\n",
    "    length = int ( input (\"Введите длину, см  \"))\n",
    "    print (\"Площадь прямоугольника = \", width*length, \"см2\")\n",
    "else:\n",
    "    print (\"такой фигуры нет в задаче\")"
   ]
  },
  {
   "cell_type": "markdown",
   "metadata": {},
   "source": [
    "Задиак"
   ]
  },
  {
   "cell_type": "code",
   "execution_count": 29,
   "metadata": {},
   "outputs": [
    {
     "name": "stdout",
     "output_type": "stream",
     "text": [
      "Введите день рождения:08\n",
      "Введите месяц рождения:июнь\n",
      "Знак зодиака:Близнецы\n"
     ]
    }
   ],
   "source": [
    "date=int(input(\"Введите день рождения:\"))\n",
    "\n",
    "month = input(\"Введите месяц рождения:\")\n",
    "if (date >= 21 and date <= 31 and month == \"март\") or( month == \"апрель\" and date >= 1 and date <= 19):\n",
    "   print(\"Знак зодиака:Овен\")\n",
    "\n",
    "elif (date >= 20 and date <= 30 and month == \"апрель\") or( month == \"май\" and date >= 1 and date <= 20):\n",
    "   print(\"Знак зодиака:Телец\")\n",
    "\n",
    "elif (date>=21 and date<=31 and month == \"май\") or( month== \"июнь\" and date>=1 and date<=21):    \n",
    "   print(\"Знак зодиака:Близнецы\")\n",
    "\n",
    "elif (date >= 22 and date <= 30 and month == \"июнь\") or( month == \"июль\" and date >= 1 and date <= 22):\n",
    "   print(\"Знак зодиака:Рак\")\n",
    "\n",
    "elif (date >= 23 and date <= 31 and month == \"июль\") or( month == \"август\" and date >= 1 and date <= 22):\n",
    "   print(\"Знак зодиака:Лев\")\n",
    "\n",
    "elif (date >= 23 and date <= 31 and month == \"август\") or( month == \"сентябрь\" and date >= 1 and date <= 22):\n",
    "   print(\"Знак зодиака:Дева\")\n",
    "\n",
    "elif (date >= 23 and date <= 30 and month == \"сентябрь\") or ( month == \"октябрь\" and date >= 1 and date <= 23):\n",
    "   print(\"Знак зодиака:Весы\")\n",
    "\n",
    "elif (date >= 24 and date <= 31 and month == \"октябрь\") or( month == \"ноябрь\" and date >= 1 and date <= 22):\n",
    "   print(\"Знак зодиака:Скорпион\")\n",
    "\n",
    "elif (date >= 23 and date <= 30 and month == \"ноябрь\") or( month == \"декабрь\" and date >= 1 and date <=21):\n",
    "   print(\"Знак зодиака:Стрелец\")\n",
    "\n",
    "elif (date >= 2 and date <= 31 and month == \"декабрь\") or( month == \"январь\" and date >= 1 and date <= 20):\n",
    "   print(\"Знак зодиака:Козерог\")\n",
    "\n",
    "elif (date >= 21 and date <= 31 and month == \"январь\") or( month == \"февраль\" and date >= 1 and date <= 18):\n",
    "   print(\"Знак зодиака:Водолей\")\n",
    "\n",
    "elif (date >= 19 and date <= 29 and month == \"февраль\") or( month == \"март\" and date >=1 and date <=20):\n",
    "   print(\"Знак зодиака:Рыбы\")"
   ]
  },
  {
   "cell_type": "code",
   "execution_count": null,
   "metadata": {},
   "outputs": [],
   "source": []
  },
  {
   "cell_type": "code",
   "execution_count": null,
   "metadata": {},
   "outputs": [],
   "source": []
  }
 ],
 "metadata": {
  "kernelspec": {
   "display_name": "Python 3",
   "language": "python",
   "name": "python3"
  },
  "language_info": {
   "codemirror_mode": {
    "name": "ipython",
    "version": 3
   },
   "file_extension": ".py",
   "mimetype": "text/x-python",
   "name": "python",
   "nbconvert_exporter": "python",
   "pygments_lexer": "ipython3",
   "version": "3.8.5"
  }
 },
 "nbformat": 4,
 "nbformat_minor": 4
}
